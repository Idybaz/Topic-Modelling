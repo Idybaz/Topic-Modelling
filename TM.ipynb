{
  "cells": [
    {
      "cell_type": "markdown",
      "metadata": {
        "id": "view-in-github",
        "colab_type": "text"
      },
      "source": [
        "<a href=\"https://colab.research.google.com/github/Idybaz/Topic-Modelling/blob/main/TM.ipynb\" target=\"_parent\"><img src=\"https://colab.research.google.com/assets/colab-badge.svg\" alt=\"Open In Colab\"/></a>"
      ]
    },
    {
      "cell_type": "code",
      "execution_count": 1,
      "id": "gT1Zu2fLw16P",
      "metadata": {
        "colab": {
          "base_uri": "https://localhost:8080/"
        },
        "id": "gT1Zu2fLw16P",
        "outputId": "30f8bad5-d5a1-4401-e7cb-feb26e860f57"
      },
      "outputs": [
        {
          "output_type": "stream",
          "name": "stdout",
          "text": [
            "Mounted at /content/drive\n"
          ]
        }
      ],
      "source": [
        "from google.colab import drive\n",
        "drive.mount('/content/drive')"
      ]
    },
    {
      "cell_type": "markdown",
      "id": "4LEUyxNayJaN",
      "metadata": {
        "id": "4LEUyxNayJaN"
      },
      "source": [
        "# **Loading Python Libraries and Packages**"
      ]
    },
    {
      "cell_type": "code",
      "execution_count": 2,
      "id": "680cc752-f3f7-426a-b3b5-53079ae67fc3",
      "metadata": {
        "colab": {
          "base_uri": "https://localhost:8080/"
        },
        "id": "680cc752-f3f7-426a-b3b5-53079ae67fc3",
        "outputId": "0e89c436-cf98-4fea-926b-e610f0d323d0",
        "scrolled": true
      },
      "outputs": [
        {
          "output_type": "stream",
          "name": "stdout",
          "text": [
            "Collecting contractions\n",
            "  Downloading contractions-0.1.73-py2.py3-none-any.whl (8.7 kB)\n",
            "Collecting textsearch>=0.0.21 (from contractions)\n",
            "  Downloading textsearch-0.0.24-py2.py3-none-any.whl (7.6 kB)\n",
            "Collecting anyascii (from textsearch>=0.0.21->contractions)\n",
            "  Downloading anyascii-0.3.2-py3-none-any.whl (289 kB)\n",
            "\u001b[2K     \u001b[90m━━━━━━━━━━━━━━━━━━━━━━━━━━━━━━━━━━━━━━━━\u001b[0m \u001b[32m289.9/289.9 kB\u001b[0m \u001b[31m5.8 MB/s\u001b[0m eta \u001b[36m0:00:00\u001b[0m\n",
            "\u001b[?25hCollecting pyahocorasick (from textsearch>=0.0.21->contractions)\n",
            "  Downloading pyahocorasick-2.1.0-cp310-cp310-manylinux_2_5_x86_64.manylinux1_x86_64.manylinux_2_12_x86_64.manylinux2010_x86_64.whl (110 kB)\n",
            "\u001b[2K     \u001b[90m━━━━━━━━━━━━━━━━━━━━━━━━━━━━━━━━━━━━━━━━\u001b[0m \u001b[32m110.7/110.7 kB\u001b[0m \u001b[31m5.8 MB/s\u001b[0m eta \u001b[36m0:00:00\u001b[0m\n",
            "\u001b[?25hInstalling collected packages: pyahocorasick, anyascii, textsearch, contractions\n",
            "Successfully installed anyascii-0.3.2 contractions-0.1.73 pyahocorasick-2.1.0 textsearch-0.0.24\n",
            "Requirement already satisfied: nltk in /usr/local/lib/python3.10/dist-packages (3.8.1)\n",
            "Requirement already satisfied: click in /usr/local/lib/python3.10/dist-packages (from nltk) (8.1.7)\n",
            "Requirement already satisfied: joblib in /usr/local/lib/python3.10/dist-packages (from nltk) (1.4.2)\n",
            "Requirement already satisfied: regex>=2021.8.3 in /usr/local/lib/python3.10/dist-packages (from nltk) (2024.5.15)\n",
            "Requirement already satisfied: tqdm in /usr/local/lib/python3.10/dist-packages (from nltk) (4.66.4)\n",
            "Requirement already satisfied: gensim in /usr/local/lib/python3.10/dist-packages (4.3.2)\n",
            "Requirement already satisfied: numpy>=1.18.5 in /usr/local/lib/python3.10/dist-packages (from gensim) (1.25.2)\n",
            "Requirement already satisfied: scipy>=1.7.0 in /usr/local/lib/python3.10/dist-packages (from gensim) (1.11.4)\n",
            "Requirement already satisfied: smart-open>=1.8.1 in /usr/local/lib/python3.10/dist-packages (from gensim) (7.0.4)\n",
            "Requirement already satisfied: wrapt in /usr/local/lib/python3.10/dist-packages (from smart-open>=1.8.1->gensim) (1.14.1)\n",
            "Collecting pyldavis\n",
            "  Downloading pyLDAvis-3.4.1-py3-none-any.whl (2.6 MB)\n",
            "\u001b[2K     \u001b[90m━━━━━━━━━━━━━━━━━━━━━━━━━━━━━━━━━━━━━━━━\u001b[0m \u001b[32m2.6/2.6 MB\u001b[0m \u001b[31m12.9 MB/s\u001b[0m eta \u001b[36m0:00:00\u001b[0m\n",
            "\u001b[?25hRequirement already satisfied: numpy>=1.24.2 in /usr/local/lib/python3.10/dist-packages (from pyldavis) (1.25.2)\n",
            "Requirement already satisfied: scipy in /usr/local/lib/python3.10/dist-packages (from pyldavis) (1.11.4)\n",
            "Requirement already satisfied: pandas>=2.0.0 in /usr/local/lib/python3.10/dist-packages (from pyldavis) (2.0.3)\n",
            "Requirement already satisfied: joblib>=1.2.0 in /usr/local/lib/python3.10/dist-packages (from pyldavis) (1.4.2)\n",
            "Requirement already satisfied: jinja2 in /usr/local/lib/python3.10/dist-packages (from pyldavis) (3.1.4)\n",
            "Requirement already satisfied: numexpr in /usr/local/lib/python3.10/dist-packages (from pyldavis) (2.10.1)\n",
            "Collecting funcy (from pyldavis)\n",
            "  Downloading funcy-2.0-py2.py3-none-any.whl (30 kB)\n",
            "Requirement already satisfied: scikit-learn>=1.0.0 in /usr/local/lib/python3.10/dist-packages (from pyldavis) (1.2.2)\n",
            "Requirement already satisfied: gensim in /usr/local/lib/python3.10/dist-packages (from pyldavis) (4.3.2)\n",
            "Requirement already satisfied: setuptools in /usr/local/lib/python3.10/dist-packages (from pyldavis) (67.7.2)\n",
            "Requirement already satisfied: python-dateutil>=2.8.2 in /usr/local/lib/python3.10/dist-packages (from pandas>=2.0.0->pyldavis) (2.8.2)\n",
            "Requirement already satisfied: pytz>=2020.1 in /usr/local/lib/python3.10/dist-packages (from pandas>=2.0.0->pyldavis) (2023.4)\n",
            "Requirement already satisfied: tzdata>=2022.1 in /usr/local/lib/python3.10/dist-packages (from pandas>=2.0.0->pyldavis) (2024.1)\n",
            "Requirement already satisfied: threadpoolctl>=2.0.0 in /usr/local/lib/python3.10/dist-packages (from scikit-learn>=1.0.0->pyldavis) (3.5.0)\n",
            "Requirement already satisfied: smart-open>=1.8.1 in /usr/local/lib/python3.10/dist-packages (from gensim->pyldavis) (7.0.4)\n",
            "Requirement already satisfied: MarkupSafe>=2.0 in /usr/local/lib/python3.10/dist-packages (from jinja2->pyldavis) (2.1.5)\n",
            "Requirement already satisfied: six>=1.5 in /usr/local/lib/python3.10/dist-packages (from python-dateutil>=2.8.2->pandas>=2.0.0->pyldavis) (1.16.0)\n",
            "Requirement already satisfied: wrapt in /usr/local/lib/python3.10/dist-packages (from smart-open>=1.8.1->gensim->pyldavis) (1.14.1)\n",
            "Installing collected packages: funcy, pyldavis\n",
            "Successfully installed funcy-2.0 pyldavis-3.4.1\n",
            "Requirement already satisfied: SpaCy in /usr/local/lib/python3.10/dist-packages (3.7.5)\n",
            "Requirement already satisfied: spacy-legacy<3.1.0,>=3.0.11 in /usr/local/lib/python3.10/dist-packages (from SpaCy) (3.0.12)\n",
            "Requirement already satisfied: spacy-loggers<2.0.0,>=1.0.0 in /usr/local/lib/python3.10/dist-packages (from SpaCy) (1.0.5)\n",
            "Requirement already satisfied: murmurhash<1.1.0,>=0.28.0 in /usr/local/lib/python3.10/dist-packages (from SpaCy) (1.0.10)\n",
            "Requirement already satisfied: cymem<2.1.0,>=2.0.2 in /usr/local/lib/python3.10/dist-packages (from SpaCy) (2.0.8)\n",
            "Requirement already satisfied: preshed<3.1.0,>=3.0.2 in /usr/local/lib/python3.10/dist-packages (from SpaCy) (3.0.9)\n",
            "Requirement already satisfied: thinc<8.3.0,>=8.2.2 in /usr/local/lib/python3.10/dist-packages (from SpaCy) (8.2.5)\n",
            "Requirement already satisfied: wasabi<1.2.0,>=0.9.1 in /usr/local/lib/python3.10/dist-packages (from SpaCy) (1.1.3)\n",
            "Requirement already satisfied: srsly<3.0.0,>=2.4.3 in /usr/local/lib/python3.10/dist-packages (from SpaCy) (2.4.8)\n",
            "Requirement already satisfied: catalogue<2.1.0,>=2.0.6 in /usr/local/lib/python3.10/dist-packages (from SpaCy) (2.0.10)\n",
            "Requirement already satisfied: weasel<0.5.0,>=0.1.0 in /usr/local/lib/python3.10/dist-packages (from SpaCy) (0.4.1)\n",
            "Requirement already satisfied: typer<1.0.0,>=0.3.0 in /usr/local/lib/python3.10/dist-packages (from SpaCy) (0.12.3)\n",
            "Requirement already satisfied: tqdm<5.0.0,>=4.38.0 in /usr/local/lib/python3.10/dist-packages (from SpaCy) (4.66.4)\n",
            "Requirement already satisfied: requests<3.0.0,>=2.13.0 in /usr/local/lib/python3.10/dist-packages (from SpaCy) (2.31.0)\n",
            "Requirement already satisfied: pydantic!=1.8,!=1.8.1,<3.0.0,>=1.7.4 in /usr/local/lib/python3.10/dist-packages (from SpaCy) (2.8.2)\n",
            "Requirement already satisfied: jinja2 in /usr/local/lib/python3.10/dist-packages (from SpaCy) (3.1.4)\n",
            "Requirement already satisfied: setuptools in /usr/local/lib/python3.10/dist-packages (from SpaCy) (67.7.2)\n",
            "Requirement already satisfied: packaging>=20.0 in /usr/local/lib/python3.10/dist-packages (from SpaCy) (24.1)\n",
            "Requirement already satisfied: langcodes<4.0.0,>=3.2.0 in /usr/local/lib/python3.10/dist-packages (from SpaCy) (3.4.0)\n",
            "Requirement already satisfied: numpy>=1.19.0 in /usr/local/lib/python3.10/dist-packages (from SpaCy) (1.25.2)\n",
            "Requirement already satisfied: language-data>=1.2 in /usr/local/lib/python3.10/dist-packages (from langcodes<4.0.0,>=3.2.0->SpaCy) (1.2.0)\n",
            "Requirement already satisfied: annotated-types>=0.4.0 in /usr/local/lib/python3.10/dist-packages (from pydantic!=1.8,!=1.8.1,<3.0.0,>=1.7.4->SpaCy) (0.7.0)\n",
            "Requirement already satisfied: pydantic-core==2.20.1 in /usr/local/lib/python3.10/dist-packages (from pydantic!=1.8,!=1.8.1,<3.0.0,>=1.7.4->SpaCy) (2.20.1)\n",
            "Requirement already satisfied: typing-extensions>=4.6.1 in /usr/local/lib/python3.10/dist-packages (from pydantic!=1.8,!=1.8.1,<3.0.0,>=1.7.4->SpaCy) (4.12.2)\n",
            "Requirement already satisfied: charset-normalizer<4,>=2 in /usr/local/lib/python3.10/dist-packages (from requests<3.0.0,>=2.13.0->SpaCy) (3.3.2)\n",
            "Requirement already satisfied: idna<4,>=2.5 in /usr/local/lib/python3.10/dist-packages (from requests<3.0.0,>=2.13.0->SpaCy) (3.7)\n",
            "Requirement already satisfied: urllib3<3,>=1.21.1 in /usr/local/lib/python3.10/dist-packages (from requests<3.0.0,>=2.13.0->SpaCy) (2.0.7)\n",
            "Requirement already satisfied: certifi>=2017.4.17 in /usr/local/lib/python3.10/dist-packages (from requests<3.0.0,>=2.13.0->SpaCy) (2024.7.4)\n",
            "Requirement already satisfied: blis<0.8.0,>=0.7.8 in /usr/local/lib/python3.10/dist-packages (from thinc<8.3.0,>=8.2.2->SpaCy) (0.7.11)\n",
            "Requirement already satisfied: confection<1.0.0,>=0.0.1 in /usr/local/lib/python3.10/dist-packages (from thinc<8.3.0,>=8.2.2->SpaCy) (0.1.5)\n",
            "Requirement already satisfied: click>=8.0.0 in /usr/local/lib/python3.10/dist-packages (from typer<1.0.0,>=0.3.0->SpaCy) (8.1.7)\n",
            "Requirement already satisfied: shellingham>=1.3.0 in /usr/local/lib/python3.10/dist-packages (from typer<1.0.0,>=0.3.0->SpaCy) (1.5.4)\n",
            "Requirement already satisfied: rich>=10.11.0 in /usr/local/lib/python3.10/dist-packages (from typer<1.0.0,>=0.3.0->SpaCy) (13.7.1)\n",
            "Requirement already satisfied: cloudpathlib<1.0.0,>=0.7.0 in /usr/local/lib/python3.10/dist-packages (from weasel<0.5.0,>=0.1.0->SpaCy) (0.18.1)\n",
            "Requirement already satisfied: smart-open<8.0.0,>=5.2.1 in /usr/local/lib/python3.10/dist-packages (from weasel<0.5.0,>=0.1.0->SpaCy) (7.0.4)\n",
            "Requirement already satisfied: MarkupSafe>=2.0 in /usr/local/lib/python3.10/dist-packages (from jinja2->SpaCy) (2.1.5)\n",
            "Requirement already satisfied: marisa-trie>=0.7.7 in /usr/local/lib/python3.10/dist-packages (from language-data>=1.2->langcodes<4.0.0,>=3.2.0->SpaCy) (1.2.0)\n",
            "Requirement already satisfied: markdown-it-py>=2.2.0 in /usr/local/lib/python3.10/dist-packages (from rich>=10.11.0->typer<1.0.0,>=0.3.0->SpaCy) (3.0.0)\n",
            "Requirement already satisfied: pygments<3.0.0,>=2.13.0 in /usr/local/lib/python3.10/dist-packages (from rich>=10.11.0->typer<1.0.0,>=0.3.0->SpaCy) (2.16.1)\n",
            "Requirement already satisfied: wrapt in /usr/local/lib/python3.10/dist-packages (from smart-open<8.0.0,>=5.2.1->weasel<0.5.0,>=0.1.0->SpaCy) (1.14.1)\n",
            "Requirement already satisfied: mdurl~=0.1 in /usr/local/lib/python3.10/dist-packages (from markdown-it-py>=2.2.0->rich>=10.11.0->typer<1.0.0,>=0.3.0->SpaCy) (0.1.2)\n"
          ]
        }
      ],
      "source": [
        "#Install the required libraries\n",
        "!pip install contractions\n",
        "!pip install nltk\n",
        "!pip install gensim\n",
        "!pip install pyldavis\n",
        "!pip install SpaCy"
      ]
    },
    {
      "cell_type": "code",
      "execution_count": 3,
      "id": "02cf24d3-097b-402b-9edc-4d6452283e4a",
      "metadata": {
        "id": "02cf24d3-097b-402b-9edc-4d6452283e4a"
      },
      "outputs": [],
      "source": [
        "# Import the required libraries\n",
        "import contractions\n",
        "import string\n",
        "import re\n",
        "import numpy as np\n",
        "import pandas as pd\n",
        "import matplotlib.pyplot as plt\n",
        "import nltk\n",
        "from nltk.corpus import stopwords\n",
        "from nltk.tokenize import word_tokenize\n",
        "from nltk.stem import WordNetLemmatizer, PorterStemmer\n",
        "from collections import Counter\n",
        "import gensim\n",
        "from gensim.models import TfidfModel\n",
        "from gensim.models import LdaModel\n",
        "import gensim.corpora as corpora\n",
        "from gensim.models import CoherenceModel\n",
        "from gensim.models import Phrases\n",
        "from gensim.models.phrases import Phraser\n",
        "import spacy\n",
        "import pyLDAvis\n",
        "import pyLDAvis.gensim_models\n",
        "import warnings\n",
        "warnings.filterwarnings(\"ignore\", category=DeprecationWarning)"
      ]
    },
    {
      "cell_type": "code",
      "execution_count": 4,
      "id": "90b46226-49f4-4b94-9db8-68bbea74459d",
      "metadata": {
        "colab": {
          "base_uri": "https://localhost:8080/"
        },
        "id": "90b46226-49f4-4b94-9db8-68bbea74459d",
        "outputId": "dfc404fa-7a73-4a2b-f05a-739a355b3349"
      },
      "outputs": [
        {
          "output_type": "stream",
          "name": "stderr",
          "text": [
            "[nltk_data] Downloading package stopwords to /root/nltk_data...\n",
            "[nltk_data]   Unzipping corpora/stopwords.zip.\n",
            "[nltk_data] Downloading package punkt to /root/nltk_data...\n",
            "[nltk_data]   Unzipping tokenizers/punkt.zip.\n",
            "[nltk_data] Downloading package wordnet to /root/nltk_data...\n"
          ]
        },
        {
          "output_type": "execute_result",
          "data": {
            "text/plain": [
              "True"
            ]
          },
          "metadata": {},
          "execution_count": 4
        }
      ],
      "source": [
        "# Ensure necessary NLTK data is downloaded\n",
        "nltk.download('stopwords')\n",
        "nltk.download('punkt')\n",
        "nltk.download('wordnet')"
      ]
    },
    {
      "cell_type": "markdown",
      "id": "wE_R72QsxNDF",
      "metadata": {
        "id": "wE_R72QsxNDF"
      },
      "source": [
        "# **Load the Data**"
      ]
    },
    {
      "cell_type": "code",
      "execution_count": 5,
      "id": "8d2795cf-3cb7-44fc-a1ea-dbedebfba307",
      "metadata": {
        "colab": {
          "base_uri": "https://localhost:8080/"
        },
        "id": "8d2795cf-3cb7-44fc-a1ea-dbedebfba307",
        "outputId": "3136187c-7688-4ed2-befe-311a4ebe80d2"
      },
      "outputs": [
        {
          "output_type": "stream",
          "name": "stdout",
          "text": [
            "Data loaded successfully.\n"
          ]
        }
      ],
      "source": [
        "# Define Function to Load the Data\n",
        "def load_and_explore_data(filepath):\n",
        "    df = pd.read_csv(filepath)\n",
        "    print(\"Data loaded successfully.\")\n",
        "    return df\n",
        "\n",
        "# Load the data\n",
        "filepath = \"/content/drive/MyDrive/CNN_Articels_clean.csv\"\n",
        "dataset = load_and_explore_data(filepath)"
      ]
    },
    {
      "cell_type": "markdown",
      "id": "yvS0uxRPxCpv",
      "metadata": {
        "id": "yvS0uxRPxCpv"
      },
      "source": [
        "# **Exploratory Data Analysis**"
      ]
    },
    {
      "cell_type": "markdown",
      "id": "1agGileixQ73",
      "metadata": {
        "id": "1agGileixQ73"
      },
      "source": [
        "Display DataSet"
      ]
    },
    {
      "cell_type": "code",
      "execution_count": 6,
      "id": "56930cab-418a-411a-8745-008b08201d5c",
      "metadata": {
        "colab": {
          "base_uri": "https://localhost:8080/",
          "height": 0
        },
        "id": "56930cab-418a-411a-8745-008b08201d5c",
        "outputId": "315f024a-538f-41eb-c4df-7019f126c81b"
      },
      "outputs": [
        {
          "output_type": "stream",
          "name": "stdout",
          "text": [
            "First few rows of the dataset:\n"
          ]
        },
        {
          "output_type": "execute_result",
          "data": {
            "text/plain": [
              "   Index                                             Author  \\\n",
              "0      0                                 Jacopo Prisco, CNN   \n",
              "1      1                              Stephanie Bailey, CNN   \n",
              "2      2  Words by Stephanie Bailey, video by Zahra Jamshed   \n",
              "3      3                                     Kathryn Vasel    \n",
              "4      4                    Paul R. La Monica, CNN Business   \n",
              "\n",
              "        Date published  Category    Section  \\\n",
              "0  2021-07-15 02:46:59      news      world   \n",
              "1  2021-05-12 07:52:09      news      world   \n",
              "2  2021-06-16 02:51:30      news       asia   \n",
              "3  2022-03-18 14:37:21  business    success   \n",
              "4  2022-03-19 11:41:08  business  investing   \n",
              "\n",
              "                                                 Url  \\\n",
              "0  https://www.cnn.com/2021/07/14/world/tusimple-...   \n",
              "1  https://www.cnn.com/2021/05/12/world/ironhand-...   \n",
              "2  https://www.cnn.com/2021/06/15/asia/swarm-robo...   \n",
              "3  https://www.cnn.com/2022/03/18/success/pandemi...   \n",
              "4  https://www.cnn.com/2022/03/19/investing/march...   \n",
              "\n",
              "                                            Headline  \\\n",
              "0  There's a shortage of truckers, but TuSimple t...   \n",
              "1  Bioservo's robotic 'Ironhand' could protect fa...   \n",
              "2  This swarm of robots gets smarter the more it ...   \n",
              "3  Two years later, remote work has changed milli...   \n",
              "4          Why March is so volatile for stocks - CNN   \n",
              "\n",
              "                                         Description  \\\n",
              "0  The e-commerce boom has exacerbated a global t...   \n",
              "1  Working in a factory can mean doing the same t...   \n",
              "2  In a Hong Kong warehouse, a swarm of autonomou...   \n",
              "3  Here's a look at how the pandemic reshaped peo...   \n",
              "4  March Madness isn't just for college basketbal...   \n",
              "\n",
              "                                            Keywords  \\\n",
              "0  world, There's a shortage of truckers, but TuS...   \n",
              "1  world, Bioservo's robotic 'Ironhand' could pro...   \n",
              "2  asia, This swarm of robots gets smarter the mo...   \n",
              "3  success, Two years later, remote work has chan...   \n",
              "4  investing, Why March is so volatile for stocks...   \n",
              "\n",
              "                                     Second headline  \\\n",
              "0  There's a shortage of truckers, but TuSimple t...   \n",
              "1  A robotic 'Ironhand' could protect factory wor...   \n",
              "2  This swarm of robots gets smarter the more it ...   \n",
              "3  Two years later, remote work has changed milli...   \n",
              "4                Why March is so volatile for stocks   \n",
              "\n",
              "                                        Article text  \n",
              "0   (CNN)Right now, there's a shortage of truck d...  \n",
              "1   (CNN)Working in a factory or warehouse can me...  \n",
              "2   (CNN)In a Hong Kong warehouse, a swarm of aut...  \n",
              "3  The pandemic thrust the working world into a n...  \n",
              "4  New York (CNN Business)March Madness isn't jus...  "
            ],
            "text/html": [
              "\n",
              "  <div id=\"df-ea72f354-c5e0-46b0-aedd-0adadf6d54dd\" class=\"colab-df-container\">\n",
              "    <div>\n",
              "<style scoped>\n",
              "    .dataframe tbody tr th:only-of-type {\n",
              "        vertical-align: middle;\n",
              "    }\n",
              "\n",
              "    .dataframe tbody tr th {\n",
              "        vertical-align: top;\n",
              "    }\n",
              "\n",
              "    .dataframe thead th {\n",
              "        text-align: right;\n",
              "    }\n",
              "</style>\n",
              "<table border=\"1\" class=\"dataframe\">\n",
              "  <thead>\n",
              "    <tr style=\"text-align: right;\">\n",
              "      <th></th>\n",
              "      <th>Index</th>\n",
              "      <th>Author</th>\n",
              "      <th>Date published</th>\n",
              "      <th>Category</th>\n",
              "      <th>Section</th>\n",
              "      <th>Url</th>\n",
              "      <th>Headline</th>\n",
              "      <th>Description</th>\n",
              "      <th>Keywords</th>\n",
              "      <th>Second headline</th>\n",
              "      <th>Article text</th>\n",
              "    </tr>\n",
              "  </thead>\n",
              "  <tbody>\n",
              "    <tr>\n",
              "      <th>0</th>\n",
              "      <td>0</td>\n",
              "      <td>Jacopo Prisco, CNN</td>\n",
              "      <td>2021-07-15 02:46:59</td>\n",
              "      <td>news</td>\n",
              "      <td>world</td>\n",
              "      <td>https://www.cnn.com/2021/07/14/world/tusimple-...</td>\n",
              "      <td>There's a shortage of truckers, but TuSimple t...</td>\n",
              "      <td>The e-commerce boom has exacerbated a global t...</td>\n",
              "      <td>world, There's a shortage of truckers, but TuS...</td>\n",
              "      <td>There's a shortage of truckers, but TuSimple t...</td>\n",
              "      <td>(CNN)Right now, there's a shortage of truck d...</td>\n",
              "    </tr>\n",
              "    <tr>\n",
              "      <th>1</th>\n",
              "      <td>1</td>\n",
              "      <td>Stephanie Bailey, CNN</td>\n",
              "      <td>2021-05-12 07:52:09</td>\n",
              "      <td>news</td>\n",
              "      <td>world</td>\n",
              "      <td>https://www.cnn.com/2021/05/12/world/ironhand-...</td>\n",
              "      <td>Bioservo's robotic 'Ironhand' could protect fa...</td>\n",
              "      <td>Working in a factory can mean doing the same t...</td>\n",
              "      <td>world, Bioservo's robotic 'Ironhand' could pro...</td>\n",
              "      <td>A robotic 'Ironhand' could protect factory wor...</td>\n",
              "      <td>(CNN)Working in a factory or warehouse can me...</td>\n",
              "    </tr>\n",
              "    <tr>\n",
              "      <th>2</th>\n",
              "      <td>2</td>\n",
              "      <td>Words by Stephanie Bailey, video by Zahra Jamshed</td>\n",
              "      <td>2021-06-16 02:51:30</td>\n",
              "      <td>news</td>\n",
              "      <td>asia</td>\n",
              "      <td>https://www.cnn.com/2021/06/15/asia/swarm-robo...</td>\n",
              "      <td>This swarm of robots gets smarter the more it ...</td>\n",
              "      <td>In a Hong Kong warehouse, a swarm of autonomou...</td>\n",
              "      <td>asia, This swarm of robots gets smarter the mo...</td>\n",
              "      <td>This swarm of robots gets smarter the more it ...</td>\n",
              "      <td>(CNN)In a Hong Kong warehouse, a swarm of aut...</td>\n",
              "    </tr>\n",
              "    <tr>\n",
              "      <th>3</th>\n",
              "      <td>3</td>\n",
              "      <td>Kathryn Vasel</td>\n",
              "      <td>2022-03-18 14:37:21</td>\n",
              "      <td>business</td>\n",
              "      <td>success</td>\n",
              "      <td>https://www.cnn.com/2022/03/18/success/pandemi...</td>\n",
              "      <td>Two years later, remote work has changed milli...</td>\n",
              "      <td>Here's a look at how the pandemic reshaped peo...</td>\n",
              "      <td>success, Two years later, remote work has chan...</td>\n",
              "      <td>Two years later, remote work has changed milli...</td>\n",
              "      <td>The pandemic thrust the working world into a n...</td>\n",
              "    </tr>\n",
              "    <tr>\n",
              "      <th>4</th>\n",
              "      <td>4</td>\n",
              "      <td>Paul R. La Monica, CNN Business</td>\n",
              "      <td>2022-03-19 11:41:08</td>\n",
              "      <td>business</td>\n",
              "      <td>investing</td>\n",
              "      <td>https://www.cnn.com/2022/03/19/investing/march...</td>\n",
              "      <td>Why March is so volatile for stocks - CNN</td>\n",
              "      <td>March Madness isn't just for college basketbal...</td>\n",
              "      <td>investing, Why March is so volatile for stocks...</td>\n",
              "      <td>Why March is so volatile for stocks</td>\n",
              "      <td>New York (CNN Business)March Madness isn't jus...</td>\n",
              "    </tr>\n",
              "  </tbody>\n",
              "</table>\n",
              "</div>\n",
              "    <div class=\"colab-df-buttons\">\n",
              "\n",
              "  <div class=\"colab-df-container\">\n",
              "    <button class=\"colab-df-convert\" onclick=\"convertToInteractive('df-ea72f354-c5e0-46b0-aedd-0adadf6d54dd')\"\n",
              "            title=\"Convert this dataframe to an interactive table.\"\n",
              "            style=\"display:none;\">\n",
              "\n",
              "  <svg xmlns=\"http://www.w3.org/2000/svg\" height=\"24px\" viewBox=\"0 -960 960 960\">\n",
              "    <path d=\"M120-120v-720h720v720H120Zm60-500h600v-160H180v160Zm220 220h160v-160H400v160Zm0 220h160v-160H400v160ZM180-400h160v-160H180v160Zm440 0h160v-160H620v160ZM180-180h160v-160H180v160Zm440 0h160v-160H620v160Z\"/>\n",
              "  </svg>\n",
              "    </button>\n",
              "\n",
              "  <style>\n",
              "    .colab-df-container {\n",
              "      display:flex;\n",
              "      gap: 12px;\n",
              "    }\n",
              "\n",
              "    .colab-df-convert {\n",
              "      background-color: #E8F0FE;\n",
              "      border: none;\n",
              "      border-radius: 50%;\n",
              "      cursor: pointer;\n",
              "      display: none;\n",
              "      fill: #1967D2;\n",
              "      height: 32px;\n",
              "      padding: 0 0 0 0;\n",
              "      width: 32px;\n",
              "    }\n",
              "\n",
              "    .colab-df-convert:hover {\n",
              "      background-color: #E2EBFA;\n",
              "      box-shadow: 0px 1px 2px rgba(60, 64, 67, 0.3), 0px 1px 3px 1px rgba(60, 64, 67, 0.15);\n",
              "      fill: #174EA6;\n",
              "    }\n",
              "\n",
              "    .colab-df-buttons div {\n",
              "      margin-bottom: 4px;\n",
              "    }\n",
              "\n",
              "    [theme=dark] .colab-df-convert {\n",
              "      background-color: #3B4455;\n",
              "      fill: #D2E3FC;\n",
              "    }\n",
              "\n",
              "    [theme=dark] .colab-df-convert:hover {\n",
              "      background-color: #434B5C;\n",
              "      box-shadow: 0px 1px 3px 1px rgba(0, 0, 0, 0.15);\n",
              "      filter: drop-shadow(0px 1px 2px rgba(0, 0, 0, 0.3));\n",
              "      fill: #FFFFFF;\n",
              "    }\n",
              "  </style>\n",
              "\n",
              "    <script>\n",
              "      const buttonEl =\n",
              "        document.querySelector('#df-ea72f354-c5e0-46b0-aedd-0adadf6d54dd button.colab-df-convert');\n",
              "      buttonEl.style.display =\n",
              "        google.colab.kernel.accessAllowed ? 'block' : 'none';\n",
              "\n",
              "      async function convertToInteractive(key) {\n",
              "        const element = document.querySelector('#df-ea72f354-c5e0-46b0-aedd-0adadf6d54dd');\n",
              "        const dataTable =\n",
              "          await google.colab.kernel.invokeFunction('convertToInteractive',\n",
              "                                                    [key], {});\n",
              "        if (!dataTable) return;\n",
              "\n",
              "        const docLinkHtml = 'Like what you see? Visit the ' +\n",
              "          '<a target=\"_blank\" href=https://colab.research.google.com/notebooks/data_table.ipynb>data table notebook</a>'\n",
              "          + ' to learn more about interactive tables.';\n",
              "        element.innerHTML = '';\n",
              "        dataTable['output_type'] = 'display_data';\n",
              "        await google.colab.output.renderOutput(dataTable, element);\n",
              "        const docLink = document.createElement('div');\n",
              "        docLink.innerHTML = docLinkHtml;\n",
              "        element.appendChild(docLink);\n",
              "      }\n",
              "    </script>\n",
              "  </div>\n",
              "\n",
              "\n",
              "<div id=\"df-a302c0f3-28ce-425c-b745-6b1d5d196a0b\">\n",
              "  <button class=\"colab-df-quickchart\" onclick=\"quickchart('df-a302c0f3-28ce-425c-b745-6b1d5d196a0b')\"\n",
              "            title=\"Suggest charts\"\n",
              "            style=\"display:none;\">\n",
              "\n",
              "<svg xmlns=\"http://www.w3.org/2000/svg\" height=\"24px\"viewBox=\"0 0 24 24\"\n",
              "     width=\"24px\">\n",
              "    <g>\n",
              "        <path d=\"M19 3H5c-1.1 0-2 .9-2 2v14c0 1.1.9 2 2 2h14c1.1 0 2-.9 2-2V5c0-1.1-.9-2-2-2zM9 17H7v-7h2v7zm4 0h-2V7h2v10zm4 0h-2v-4h2v4z\"/>\n",
              "    </g>\n",
              "</svg>\n",
              "  </button>\n",
              "\n",
              "<style>\n",
              "  .colab-df-quickchart {\n",
              "      --bg-color: #E8F0FE;\n",
              "      --fill-color: #1967D2;\n",
              "      --hover-bg-color: #E2EBFA;\n",
              "      --hover-fill-color: #174EA6;\n",
              "      --disabled-fill-color: #AAA;\n",
              "      --disabled-bg-color: #DDD;\n",
              "  }\n",
              "\n",
              "  [theme=dark] .colab-df-quickchart {\n",
              "      --bg-color: #3B4455;\n",
              "      --fill-color: #D2E3FC;\n",
              "      --hover-bg-color: #434B5C;\n",
              "      --hover-fill-color: #FFFFFF;\n",
              "      --disabled-bg-color: #3B4455;\n",
              "      --disabled-fill-color: #666;\n",
              "  }\n",
              "\n",
              "  .colab-df-quickchart {\n",
              "    background-color: var(--bg-color);\n",
              "    border: none;\n",
              "    border-radius: 50%;\n",
              "    cursor: pointer;\n",
              "    display: none;\n",
              "    fill: var(--fill-color);\n",
              "    height: 32px;\n",
              "    padding: 0;\n",
              "    width: 32px;\n",
              "  }\n",
              "\n",
              "  .colab-df-quickchart:hover {\n",
              "    background-color: var(--hover-bg-color);\n",
              "    box-shadow: 0 1px 2px rgba(60, 64, 67, 0.3), 0 1px 3px 1px rgba(60, 64, 67, 0.15);\n",
              "    fill: var(--button-hover-fill-color);\n",
              "  }\n",
              "\n",
              "  .colab-df-quickchart-complete:disabled,\n",
              "  .colab-df-quickchart-complete:disabled:hover {\n",
              "    background-color: var(--disabled-bg-color);\n",
              "    fill: var(--disabled-fill-color);\n",
              "    box-shadow: none;\n",
              "  }\n",
              "\n",
              "  .colab-df-spinner {\n",
              "    border: 2px solid var(--fill-color);\n",
              "    border-color: transparent;\n",
              "    border-bottom-color: var(--fill-color);\n",
              "    animation:\n",
              "      spin 1s steps(1) infinite;\n",
              "  }\n",
              "\n",
              "  @keyframes spin {\n",
              "    0% {\n",
              "      border-color: transparent;\n",
              "      border-bottom-color: var(--fill-color);\n",
              "      border-left-color: var(--fill-color);\n",
              "    }\n",
              "    20% {\n",
              "      border-color: transparent;\n",
              "      border-left-color: var(--fill-color);\n",
              "      border-top-color: var(--fill-color);\n",
              "    }\n",
              "    30% {\n",
              "      border-color: transparent;\n",
              "      border-left-color: var(--fill-color);\n",
              "      border-top-color: var(--fill-color);\n",
              "      border-right-color: var(--fill-color);\n",
              "    }\n",
              "    40% {\n",
              "      border-color: transparent;\n",
              "      border-right-color: var(--fill-color);\n",
              "      border-top-color: var(--fill-color);\n",
              "    }\n",
              "    60% {\n",
              "      border-color: transparent;\n",
              "      border-right-color: var(--fill-color);\n",
              "    }\n",
              "    80% {\n",
              "      border-color: transparent;\n",
              "      border-right-color: var(--fill-color);\n",
              "      border-bottom-color: var(--fill-color);\n",
              "    }\n",
              "    90% {\n",
              "      border-color: transparent;\n",
              "      border-bottom-color: var(--fill-color);\n",
              "    }\n",
              "  }\n",
              "</style>\n",
              "\n",
              "  <script>\n",
              "    async function quickchart(key) {\n",
              "      const quickchartButtonEl =\n",
              "        document.querySelector('#' + key + ' button');\n",
              "      quickchartButtonEl.disabled = true;  // To prevent multiple clicks.\n",
              "      quickchartButtonEl.classList.add('colab-df-spinner');\n",
              "      try {\n",
              "        const charts = await google.colab.kernel.invokeFunction(\n",
              "            'suggestCharts', [key], {});\n",
              "      } catch (error) {\n",
              "        console.error('Error during call to suggestCharts:', error);\n",
              "      }\n",
              "      quickchartButtonEl.classList.remove('colab-df-spinner');\n",
              "      quickchartButtonEl.classList.add('colab-df-quickchart-complete');\n",
              "    }\n",
              "    (() => {\n",
              "      let quickchartButtonEl =\n",
              "        document.querySelector('#df-a302c0f3-28ce-425c-b745-6b1d5d196a0b button');\n",
              "      quickchartButtonEl.style.display =\n",
              "        google.colab.kernel.accessAllowed ? 'block' : 'none';\n",
              "    })();\n",
              "  </script>\n",
              "</div>\n",
              "\n",
              "    </div>\n",
              "  </div>\n"
            ],
            "application/vnd.google.colaboratory.intrinsic+json": {
              "type": "dataframe",
              "variable_name": "dataset",
              "summary": "{\n  \"name\": \"dataset\",\n  \"rows\": 37949,\n  \"fields\": [\n    {\n      \"column\": \"Index\",\n      \"properties\": {\n        \"dtype\": \"number\",\n        \"std\": 11979,\n        \"min\": 0,\n        \"max\": 44997,\n        \"num_unique_values\": 37949,\n        \"samples\": [\n          26330,\n          39807,\n          29950\n        ],\n        \"semantic_type\": \"\",\n        \"description\": \"\"\n      }\n    },\n    {\n      \"column\": \"Author\",\n      \"properties\": {\n        \"dtype\": \"category\",\n        \"num_unique_values\": 11744,\n        \"samples\": [\n          \"Jake Tapper, Ariane de Vogue, Jeff Zeleny, Betsy Klein and Maegan Vazquez, CNN\",\n          \"Hada Messia and Lauren Said-Moorhouse, CNN\",\n          \"Scott McLean, Livvy Doherty and Lauren Kent, CNN\"\n        ],\n        \"semantic_type\": \"\",\n        \"description\": \"\"\n      }\n    },\n    {\n      \"column\": \"Date published\",\n      \"properties\": {\n        \"dtype\": \"object\",\n        \"num_unique_values\": 37948,\n        \"samples\": [\n          \"2015-09-20 22:08:26\",\n          \"2018-08-23 10:13:03\",\n          \"2017-02-13 12:28:52\"\n        ],\n        \"semantic_type\": \"\",\n        \"description\": \"\"\n      }\n    },\n    {\n      \"column\": \"Category\",\n      \"properties\": {\n        \"dtype\": \"category\",\n        \"num_unique_values\": 9,\n        \"samples\": [\n          \"vr\",\n          \"business\",\n          \"politics\"\n        ],\n        \"semantic_type\": \"\",\n        \"description\": \"\"\n      }\n    },\n    {\n      \"column\": \"Section\",\n      \"properties\": {\n        \"dtype\": \"category\",\n        \"num_unique_values\": 55,\n        \"samples\": [\n          \"middleeast\",\n          \"perspectives\",\n          \"india\"\n        ],\n        \"semantic_type\": \"\",\n        \"description\": \"\"\n      }\n    },\n    {\n      \"column\": \"Url\",\n      \"properties\": {\n        \"dtype\": \"string\",\n        \"num_unique_values\": 37949,\n        \"samples\": [\n          \"https://www.cnn.com/2015/09/19/sport/rugby-world-cup-japan-south-africa/index.html\",\n          \"https://www.cnn.com/2020/07/10/sport/noah-lyles-inspiration-games-200m-spt-intl/index.html\",\n          \"https://www.cnn.com/2017/02/13/sport/nba-3-point-contest-all-star/index.html\"\n        ],\n        \"semantic_type\": \"\",\n        \"description\": \"\"\n      }\n    },\n    {\n      \"column\": \"Headline\",\n      \"properties\": {\n        \"dtype\": \"string\",\n        \"num_unique_values\": 37857,\n        \"samples\": [\n          \"Liverpool left wounded after taking 'morally wrong' decision amid Covid-19 pandemic - CNN\",\n          \"Alex Ferguson says Cristiano Ronaldo should have started against Everton - CNN\",\n          \"Nigel Farage responds to EU boos in CNN interivew - CNN\"\n        ],\n        \"semantic_type\": \"\",\n        \"description\": \"\"\n      }\n    },\n    {\n      \"column\": \"Description\",\n      \"properties\": {\n        \"dtype\": \"string\",\n        \"num_unique_values\": 37829,\n        \"samples\": [\n          \"Japan's relationship with the energy sector is, at best, complicated. \",\n          \"The Russian army has ceased ordering the famed Kalashnikov rifle for its arsenal and is waiting on a newer model its manufacturer is developing.\",\n          \"Anti-immigrant tensions in Denmark have apparently prompted someone to post signs pointing migrants to the way back home.\"\n        ],\n        \"semantic_type\": \"\",\n        \"description\": \"\"\n      }\n    },\n    {\n      \"column\": \"Keywords\",\n      \"properties\": {\n        \"dtype\": \"string\",\n        \"num_unique_values\": 37863,\n        \"samples\": [\n          \"europe, Serbia: the country at the crossroads of  Europe - CNN\",\n          \"us, Trump's characterization of the Robert E. Lee statue doesn't jibe with history - CNN\",\n          \"motorsport, Raikkonen a driver in demand  - CNN\"\n        ],\n        \"semantic_type\": \"\",\n        \"description\": \"\"\n      }\n    },\n    {\n      \"column\": \"Second headline\",\n      \"properties\": {\n        \"dtype\": \"string\",\n        \"num_unique_values\": 37881,\n        \"samples\": [\n          \"Former South Carolina officer is found not guilty of assault and battery in an arrest last year that led to nights of protests \",\n          \"Noura in her own words: Teen who killed rapist husband shares her story\",\n          \"US Paralympian Mike Schultz hopes radical prosthetics empower others\"\n        ],\n        \"semantic_type\": \"\",\n        \"description\": \"\"\n      }\n    },\n    {\n      \"column\": \"Article text\",\n      \"properties\": {\n        \"dtype\": \"string\",\n        \"num_unique_values\": 37918,\n        \"samples\": [\n          \"Gold Coast, Australia (CNN)There was a nod to the conventional worldwide image of Australia: golden beaches, surfboards, emus and kangaroos.Yet the abiding memory of the opening ceremony of the 2018 Commonwealth Games, a multi-sport event which is regarded by some as an enduring reminder of British imperialism, will be the celebration of Australia's Indigenous population's role in the country's history.Follow @cnnsport\\n\\nBritain's Prince Charles opened Gold Coast 2018 on behalf of his mother Queen Elizabeth II, head of the Commonwealth of countries and territories which once formed part of the British Empire.But the two-and-a-half-hour spectacle at the Carrara Stadium, broadcast to an expected global audience of a billion people, was a reminder that the host nation's past did not begin some 200 years ago with colonial rule.Charles removed the message from the Queen's Baton Relay, which has covered a distance of 230,000 kilometers over the course of 388 days, and then read out the Queen's recognition of Australia's rich history.Read More\\\"The ancient stories told by the Indigenous people of Australia remind us that though we may be half a world away we are connected,\\\" he read. Photos: 71 nations, 275 eventsElaine Thompson (Jamaica) \\u2013 Thompson lit up the Rio 2016 Olympics, becoming the first woman to win gold in both individual Olympic sprint events since Florence Griffith Joyner at Seoul 1988.Hide Caption 1 of 20 Photos: 71 nations, 275 eventsShaunae Miller (Bahamas) \\u2013 In one of the most striking moments of the 2016 Olympics, Miller dived across the line to win 400m gold, edging out Allyson Felix of the US. Hide Caption 2 of 20 Photos: 71 nations, 275 eventsCaster Semenya (South Africa) \\u2013 A two-time Olympic 800m champion, Semenya has recently begun running in the 1,500m and she could compete on two fronts in April.Hide Caption 3 of 20 Photos: 71 nations, 275 eventsValerie Adams (New Zealand) \\u2013 Capable of throwing a shot over 21 meters, Adams is the first woman in history to win four consecutive individual world titles in a track and field event. The two-time Olympic champion has only been beaten twice in major world events since 2006.Hide Caption 4 of 20 Photos: 71 nations, 275 eventsKeshorn Walcott (Trinidad and Tobago) \\u2013 He may only have taken up the javelin aged 15 but \\\"Keshie\\\" Walcott had won Olympic gold in London before his 20th birthday. He followed up with bronze in Rio.Hide Caption 5 of 20 Photos: 71 nations, 275 eventsEliza McCartney (New Zealand) \\u2013 The Kiwi won pole vault bronze at Rio 2016 in her first ever Olympics and, having only recently turned  21, still has her best years ahead of her.Hide Caption 6 of 20 Photos: 71 nations, 275 eventsNicol David (Malaysia) \\u2013 Widely considered one of the the greatest female squash players of all time, David was world No. 1 for a staggering 108 consecutive months, only losing her throne in September 2015. She will be looking for a third consecutive Commonwealth gold in April?Hide Caption 7 of 20 Photos: 71 nations, 275 eventsLee Chog Wei (Malaysia) \\u2013 The most successful Malaysian Olympian in history, Lee was the world No. 1 badminton player for 199 consecutive weeks. The 35-year-old has taken home silver at the past three Olympic Games.Hide Caption 8 of 20 Photos: 71 nations, 275 eventsMax Whitlock (England) \\u2013 His nation's most successful gymnast, Englishman Whitlock has five Olympic medals to his name, including gold in the men's floor exercises and pommel horse at Rio 2016.Hide Caption 9 of 20 Photos: 71 nations, 275 eventsCatherine Skinner (Australia) \\u2013 Skinner became the first Australian to win Olympic gold in a shooting event for 12 years when she triumphed at Rio 2016 in the trap.Hide Caption 10 of 20 Photos: 71 nations, 275 eventsJerry Tuwai (Fiji) \\u2013 Growing up in a shanty with no electricity, Tuwai used plastic bottles for rugby balls and a roundabout for a pitch. Now, as an Olympic gold medalist and captain of his country, the 28-year-old will be determined to add a Commonwealth crown.Hide Caption 11 of 20 Photos: 71 nations, 275 eventsCharlotte Caslick (Australia) \\u2013 Having never even played the sport until her late teens, Caslick was named World Rugby Sevens women's Player of the Year in 2016. Still just 22, the all-rounder is already an Olympic gold medalist.Hide Caption 12 of 20 Photos: 71 nations, 275 eventsKyle Chalmers (Australia) \\u2013 The teenage freestyle swimmer beat an experienced field to take gold in the Rio 2016 100m final. He was the first Australian to win the particular event since 1968.Hide Caption 13 of 20 Photos: 71 nations, 275 eventsAdam Peaty (England) \\u2013 A world record holder in both the 50m and 100m, Peaty has made no secret of his desire to be the Michael Phelps of breaststroke, recently taking CNN Sport through his secrets of swimming success.Hide Caption 14 of 20 Photos: 71 nations, 275 eventsPenny Oleksiak (Canada) \\u2013 When Oleksiak (R) won the women's 100m freestyle final at Rio 2016, many of the headlines focused on the woman she tied with for gold. Simone Manuel of the US (L) was the first African-American Olympic swimming champion in history, but it should not be forgotten Oleksiak will still be just 17 years old when she competes on the Gold Coast.Hide Caption 15 of 20 Photos: 71 nations, 275 eventsJazz Carlin (Wales) \\u2013 The first Welsh woman to win a Commonwealth swimming gold since 1974, Carlin has a great chance to retain her title in April, having won silver medals in both the 400m and 800m freestyle at Rio 2016.Hide Caption 16 of 20 Photos: 71 nations, 275 eventsAlistair & Jonathan Brownlee (England) \\u2013 Alistair Brownlee (L) may be the only triathlete to win two Olympic titles, but his younger brother Jonny (R) isn't half bad either, having taken silver at Rio 2016 and the last Commonwealth Games in Glasgow.Hide Caption 17 of 20 Photos: 71 nations, 275 eventsAlex Marshall & Paul Foster (Scotland) \\u2013 With 11 world singles titles and seven Commonwealth Games golds between them, Foster and Marshall are the undisputed kings of lawn bowls.Hide Caption 18 of 20 Photos: 71 nations, 275 eventsMaryam Usman (Nigeria) \\u2013 The reigning commonwealth champion in the women's +75kg category will hope to improve on her disappointing showing at the past Olympics, when she blamed a lack of preparation.Hide Caption 19 of 20 Photos: 71 nations, 275 eventsSakshi Malik (India) \\u2013 The first woman from India to win a medal in Olympic wrestling, Malik took bronze in the -58kg freestyle in Rio, building on the silver she won at the 2014 Glasgow Commonwealth Games. Who are you looking forward to seeing at the Commonwealth Games? Have your say on CNN Sport's Facebook pageHide Caption 20 of 20READ: A guide to the Commonwealth Games Aboriginal protests Hours before the ceremony began, the Queen's baton relay was delayed by Indigenous activists holding a sit-in. They held aloft Australian Aboriginal flags and signs reading \\\"Not the Queen's Land.\\\"Australia's Indigenous population is composed of mainland Aboriginal people and Torres Strait Islanders, who live in northern Queensland on the islands between Australia and Papua New Guinea.JUST WATCHEDWhat are the Commonwealth Games?ReplayMore Videos ...MUST WATCHWhat are the Commonwealth Games? 01:23We are buzzing \\u2728\\ud83c\\udf89\\u2728That's how you kick off 11 days of unforgettable sport! Head over to our Facebook for a full album of the #GC2018 Opening Ceremony! #SHARETHEDREAM https://t.co/Ph82XAL8ni pic.twitter.com/RlVzLxJ5RA\\u2014 Gold Coast 2018 (@GC2018) April 4, 2018\\n\\nBut on basic standards of living -- from health, to education, to employment -- Australia's Indigenous population is being left far behind.Flanked by a significant police presence, protestors were also present outside the Carrara Stadium before the Games officially got underway.Large protests marred the Commonwealth Games in Melbourne in 2006, the last time the country hosted a sporting event on this scale, but the discord of 12 years ago has not yet been matched on the Gold Coast.And whether the representation of Australia's Indigenous past in such a global ceremony will help soothe the anger of those who believe an important part of the country's history is being overlooked is a moot point.JUST WATCHEDAthletes take the CNN Commonwealth Games QuizReplayMore Videos ...MUST WATCHAthletes take the CNN Commonwealth Games Quiz 02:12 READ: Aussie sister act bidding to be golden girls on the Gold CoastFlags flying in unisonThe ceremony began with cameras focusing on an Aboriginal family in the crowd. They were the relatives of Delvene Cockatoo-Collins, the man who designed the medals for these Games.The artist's 11-year-old niece, Isabella Graham, made visible a message on her smartphone which read \\\"welcome to the oldest living culture on earth\\\" -- Australia's First Nations peoples is one of the longest living civilizations on earth.She then activated a digital countdown from 65,000, a reference to the number of years the history of Australia's Indigenous population spans.Our #GC2018 Commemorative Medal features a whale design by artist Delvene Cockatoo-Collins. A whale's migration travels the QLD coastline, passing our event cities. Symbolic of the journey an athlete takes to prepare for competition. More here \\u27a1\\ufe0f  https://t.co/z4mQ15ss9z pic.twitter.com/NxfdfmkNMc\\u2014 Gold Coast 2018 (@GC2018) April 4, 2018\\n\\nHeavy rain for a 10-minute period at the start lessened the impact of a blue dome of pyrotechnics which represented the planet, but the brief downpour did not dampen the mood.There was a live segment from Surfers Paradise, the famous beach area in this part of eastern Australia, and the acclaimed William Barton played the didgeridoo.Mau Power, the first rapper from the Torres Strait to break into the Australian music scene, performed, as did Queensland-born singer Christine Anu and pop star Delta Goodrem.Alongside the Australian flag flew the Aboriginal and Torres Strait Islander flags and as the ceremony came to its conclusion Luther Cora, a contemporary Aboriginal artist, and his family conducted a traditional smoking ceremony.It is a custom still widely practiced among many Indigenous Australians and involves the burning of various native plants to cleanse in the smoke and connect with good spirits. Photos: Exploring Australia's Gold CoastAustralia's stunning Gold Coast will stage the 2018 Comonwealth Games from April 4-15. Here are the venues that will host the event on the country's East coast.Hide Caption 1 of 16 Photos: Exploring Australia's Gold CoastCarrara Stadium \\u2013 The heartbeat of this year's Commonwealth Games is the Carrara Stadium and its capacity has been boosted from 27,500 to 40,000. the venue will host track and field events as well as the opening and closing ceremonies. The arena is home to AFL team the Gold Coast Suns.Hide Caption 2 of 16 Photos: Exploring Australia's Gold CoastCoolangatta beach \\u2013 Views don't get much better than the dazzling Coolangatta beach, which will morph into the beach volleyball arena for the Commonwealth Games. Up to 4,000 will pack onto the shores of the Gold Coast for the action. Hide Caption 3 of 16 Photos: Exploring Australia's Gold CoastTownsville Entertainment and Convention Center \\u2013 Australia is renowned for its sunny beaches and crystal seas, and Townsville, one of the three host locations outside the Gold Coast, is no exception. Close to the world-famous Great Barrier Reef, the Queensland city will host basketball fixtures at this year's Games. Hide Caption 4 of 16 Photos: Exploring Australia's Gold CoastCairns Convention Center \\u2013 Basketball heats will also take place in Cairns. The Center here has a capacity of 5,000. Hide Caption 5 of 16 Photos: Exploring Australia's Gold CoastOptus Aquatic Center \\u2013 Stunning sands will be easy to find for fans in Australia, which is hosting its sixth Commonwealth Games. Down on the seafront is the Optus Aquatic Center, where spectators can catch diving and swimming events. Hide Caption 6 of 16 Photos: Exploring Australia's Gold CoastSouthport Broadwater Parklands \\u2013 This park will host the triathlon, where England's Brownlee brothers will look to defend their one-two secured in Glasgow in 2014. Hide Caption 7 of 16 Photos: Exploring Australia's Gold CoastRobina Stadium \\u2013 Home to the NRL's Gold Coast Titans, the 27,500-seat stadium will play host the rugby sevens. South Africa won in 2014, the first time a team other than New Zealand lifted the trophy. A women's competition will take place for the first time ever this year. Hide Caption 8 of 16 Photos: Exploring Australia's Gold CoastOxenford Studios \\u2013 Better known as the set of a blockbuster movie, these Gold Coast studios will be transformed into venues for table tennis and boxing with a capacity of 3,000. Hide Caption 9 of 16 Photos: Exploring Australia's Gold CoastGold Coast Hockey Center \\u2013 Situated in Labrador's Keith Hunt Park, this year's hockey venue has the luxury of two new, synthetic pitches. Australia has historically dominated this event, with the men triumphing every year since the sport's Commonwealth inception in 1998 and only an India victory in 2002 tarnishing the women's record. Hide Caption 10 of 16 Photos: Exploring Australia's Gold CoastAnna Meares Velodrome \\u2013 Track cycling will be held in Brisbane at this 4,000-seat, $59-million venue, named after the retired Australian athlete who won two Olympic and five Commonwealth titles. The other Brisbane site of the Games is the Belmont Shooting Center. Hide Caption 11 of 16 Photos: Exploring Australia's Gold CoastNerang Mountain Bike Trails \\u2013 A year-long project throughout 2016 helped revamp the trails and facilities of the Nerang National Park in preparation for the mountain bike competition. Hide Caption 12 of 16 Photos: Exploring Australia's Gold CoastBroadbeach Bowls Club \\u2013 Bowls has a long tradition at the Commonwealth Games, dating back to the inaugural British Empire Games -- as it was then called -- in 1930. The 2018 event will be held in a spruced-up venue next to the sea. Hide Caption 13 of 16 Photos: Exploring Australia's Gold CoastCarrara Sports and Leisure Centre \\u2013 Weightlifting, badminton, powerlifting and wrestling will all be hosted in the shadow of the Carrara Stadium.Hide Caption 14 of 16 Photos: Exploring Australia's Gold CoastCoomera Indoor Sports Centre \\u2013 The Coomera Indoor Sports Center is the largest purpose-built arena that the 2018 Commonwealth Games has to offer. The 7,500-capacity venue will host gymnastics and netball.  Hide Caption 15 of 16 Photos: Exploring Australia's Gold CoastCurrumbin beachfront \\u2013 Road cycling and race walking will start and finish on the picturesque Currumbin Bay. Pictured is a test event of the Cycling Road Race. Hide Caption 16 of 16READ: NZ'S Bond switches strokes for spokesAn uncertain Royal futureThe Commonwealth is a larger entity now than it was at the Queen's coronation in 1953.#GC2018 has been declared OPEN! What an amazing opening ceremony, we're still buzzing from the excitement! #SHARETHEDREAM \\ud83d\\ude4c https://t.co/uyeAAvnYi8\\u2014 Gold Coast 2018 (@GC2018) April 4, 2018\\n\\nOn her accession to the throne, she also became head of state in seven of the Commonwealth's eight members. Today she is head of state of 15 realms among 53 members, all but two of which -- Mozambique and Rwanda -- are countries and territories which formed part of the British Empire.But the Royal visit Down Under has come at a time when support for the monarchy, according to the Sunday Times, has fallen to an all-time low in the country, with a recent poll putting support at retaining the British sovereign as head of state at 22%.Last July, Labor leader Bill Shorten said the party would hold a referendum by the end of his first term, should he win the next election, on whether Australia should become a republic. Photos: By royal approvalThe words of the Queen will once more open the Commonwealth Games, this year in the Gold Coast, Australia.Hide Caption 1 of 9 Photos: By royal approvalWhile not in attendance, her speech will be delivered from a written note inside the Queen's Baton Relay, which has traveled throughout the Commonwealth before the Games.Hide Caption 2 of 9 Photos: By royal approvalThe Queen has had a long association with the Games during her reign. Here she hands out a medal at the 1970 Games in Edinburgh.Hide Caption 3 of 9 Photos: By royal approvalShe has tried to play a close role in every Games since, whether handing out medals or at the opening and/or closing ceremonies.Hide Caption 4 of 9 Photos: By royal approvalShe was on hand to open the 2002 Games along with former England football captain David Beckham.Hide Caption 5 of 9 Photos: By royal approvalShe was absent from the Games in India in 2010 but again took part in the Queen's Baton Relay.Hide Caption 6 of 9 Photos: By royal approvalShe was, however, in attendance in Glasgow 2014, meeting the likes of Australian hurdler Sally Pearson.Hide Caption 7 of 9 Photos: By royal approvalBut she has opted to stay away from Australia having cut down on her long-distance foreign travel.Hide Caption 8 of 9 Photos: By royal approvalInstead, her son Prince Charles will be on hand to read out the speech from the Queen's Baton Relay.Hide Caption 9 of 9READ: Queen Elizabeth's 'secret message in a bottle''Friendly Games' If the Australia's constitutional future is unclear, so to arguably is the fate of an event which is in its ninth decade.Many of the participants in a competition often referred to as the \\\"Friendly Games\\\" are not Olympic all-stars, though there are significant figures competing over the next 11 days -- Olympic champions Adam Peaty and Alistair Brownlee, former Olympic swimming gold medalist Chad Le Clos and track and field stars Caster Semenya and Valarie Adams, to name a few.In this sport-obsessed country hosting the Games for a fifth time and eager to forget about the national cricket team's ball-tampering scandal, this sporting festival should prove a welcome distraction.More than 4,500 athletes from 71 nations will compete for 275 gold medals.Never before at a major multi-sport event have there been the same number of men's and women's medal events, while Gold Coast 2018 also has the largest program of disability sport in the competition's history.History has been celebrated and it has already been made. Let the Games begin.\",\n          \" (CNN)The US Open normally marks the end of the grand slam season. But the coronavirus pandemic changed that and having another major just around the corner could be exactly what Novak Djokovic needs to overcome the lowest point of his career. That is the thought of his friend and former coach Radek Stepanek, and former world No. 1 Jim Courier. Another comeback win for Serena Williams at the US OpenStepanek isn't discounting a turnaround in the land of public opinion at some point when it comes to Djokovic, either, despite his rocky last few months. He has made an eye-catching pronouncement on vaccines, discussed the effects of emotions on water, organized the Adria Tour exhibition series in the Balkans that went badly wrong and, most recently, left the US Open in shame. There wouldn't have been as many players in recent history as strong a favorite to land a major than Djokovic in New York this year, given his dominance -- unbeaten in 2020 -- and the absence of his two biggest rivals, Roger Federer and Rafael Nadal. Read MoreDjokovic, though, was defaulted Sunday when he hit a ball that inadvertently struck a line judge in the throat. Frustration got the better of the 17-time grand slam winner after missing three set points in the first against Pablo Carreno Busta, hurting his left shoulder in a fall and then getting broken to trail 5-6 in a frantic 10-minute spell.He later apologized on social media. READ: Barty will not defend her French Open titleNovak Djokovic tends to a line judge who he hit with the ball.'He is very sad inside'Stepanek is a massive fan of Djokovic but he had no issue with the decision tournament officials made. The Czech, who coached Djokovic alongside Hall of Famer Andre Agassi for several months from 2017 to 2018, suspected the Serb was suffering.  \\\"I know he is very sad inside himself and he is in pain,\\\" Stepanek, a former world No. 8 and a Davis Cup hero for the Czech Republic, told CNN. \\\"He is in pain because it was unintentional and, in that moment, the pain is bigger. \\\"And it's hard for him because we know how hungry he is to become the player with the most grand slams. I believe he felt -- everyone felt -- this one should be for him, reachable. \\\"All these circumstances make it very sad for him and in the first moment, empty, because I believe he himself knew that it was wrong that she got hit.\\\"Obviously the pressure on him and the criticism he is getting over time, it's hard. He's trying to do the best he can. He might be by the end of his career the greatest of all time. We are all human beings. We have a right to make a mistake.\\\" When it was pointed out to Stepanek that Djokovic might have made a few mistakes, he didn't disagree. \\\"We create our own world and mistakes,\\\" said Stepanek, who irked an opponent or two during his career but was one of the most entertaining players of his generation. \\\"We have to accept the outcome of it.\\\"For the time being, Stepanek said Djokovic is likely seeking refuge with those nearest and dearest to him. They would include his wife, Jelena, and their two young children.\\\"I think he's going to go back to his family and the closest ones to feel in the safe environment,\\\" said Stepanek. \\\"Be with his loved ones. I think that one of his biggest strengths is his mental power. \\\"No matter how sad and empty he is right now -- and from what I know, it is very deep because he is a deep feeling person and he is sensitive -- he is also hard on himself right now. I think the thing that gets him out of this will be getting back to work.\\\"READ: 'He's going to be the bad guy the rest of his career,' says McEnroe of DjokovicDjokovic with his former coach Radek Stepanek in 2018.Cathartic returnDjokovic is expected to return to action at the upcoming Italian Open in Rome before his appearance at the French Open, which was pushed back from its customary slot in late May to September 27 in Paris because of the pandemic. \\\"He'll have a clay court event to focus on that starts in a week's time and he'll need to get ready for that, change surface from hard to the clay,\\\" Courier told CNN.\\\"That could be cathartic for him, to have something so quickly to be able to help him put behind this unfortunate incident.\\\"The bad news for him is that he's out of the US Open but the good news for him is the French Open is right around the corner and he'll have the chance to turn the page and move on.\\\" With 12 titles, Nadal will be the heavy favorite at Roland Garros, again, but Djokovic shouldn't be discounted. He is one of only two players to defeat the Spaniard at Roland Garros, alongside Robin Soderling. There is much at stake in Paris regarding the grand slam record books. If Nadal adds to his incredible haul, he would tie Federer atop the men's list with 20 majors. Djokovic would get to within two majors of Federer -- who is recovering from knee surgery and won't play again this season -- for the first time if he triumphs. Roland Garros two years ago proved to be instrumental to Djokovic's renaissance after an elbow injury and dip in motivation. Miffed at exiting in the quarterfinals to Marco Cecchinato when he had one opportunity after another, he subsequently won Wimbledon and had bagged three of the past five grand slams. \\\"It's going to be intense for quite some time with what happened, but I believe when he gets back on court and gets his eye on the possible trophy that he will focus on what he is doing and he will get strong again,\\\" said Stepanek. JUST WATCHED'I feel safe' at US Open, says Alexander ZverevReplayMore Videos ...MUST WATCH'I feel safe' at US Open, says Alexander Zverev 04:07Winning back fansDjokovic was already trailing Federer and Nadal when it came to fan support prior to his miscue on Sunday. His matches against the Swiss at Wimbledon and at the year-end championships in London are just some examples.But Stepanek isn't ruling out an uptick. \\\"He's done a lot for tennis,\\\" said the 41-year-old. \\\"I believe people will love him, some others will not like him, it's all individual. Obviously we know that Roger and Rafa are more famous, but if he picks up, you don't know what the future holds. \\\"I lived it for 20-plus years on the tour and you don't know what tomorrow holds. You never know what can happen.\\\"\",\n          \"Izmir, Turkey (CNN)Rescue efforts continued apace in the western Turkish city of Izmir on Saturday, a day after a powerful earthquake hit the Aegean Sea, causing buildings to come crashing down and claiming the lives of at least 39 people.Thirty-seven of the deaths were in Turkey, authorities there said, and two were in Greece. At least 885 people were injured in Turkey.A total of 20 buildings were seriously damaged in Izmir by the tremor Friday afternoon, according to Izmir Mayor Tunc Soyer, the majority of them in the middle-class Bayrakli district.Search-and-rescue operations remained underway in nine buildings as of Saturday afternoon, while operations have been completed in eight other buildings, Turkey's disaster agency said.Turkish President Recep Tayyip Erdogan said Saturday that 103 people have been rescued from the quake's rubble.Read MoreOvernight, tens of people gathered anxiously around each collapsed building, huddling under blankets in the bitter cold as search-and-rescue teams worked to locate those trapped. The rumble of heavy construction machinery filled the air, punctuated by bursts of crying and shouting. Photos: Deadly quake shakes Turkey and GreeceRescuers carry 3-year-old Elif Perincek after she was rescued from the rubble of a building in Izmir, Turkey, on Monday, November 2.Hide Caption 1 of 34 Photos: Deadly quake shakes Turkey and GreeceElif rests in a hospital bed following her rescue.Hide Caption 2 of 34 Photos: Deadly quake shakes Turkey and GreeceCrews work at the site of a collapsed building in Izmir.Hide Caption 3 of 34 Photos: Deadly quake shakes Turkey and GreeceA view of the destruction on the Greek island of Samos.Hide Caption 4 of 34 Photos: Deadly quake shakes Turkey and GreeceSurvivors in Izmir wait for news of their loved ones, believed to be trapped under collapsed buildings, on Sunday, November 1. Hide Caption 5 of 34 Photos: Deadly quake shakes Turkey and GreeceRescuers search debris for survivors in Izmir.Hide Caption 6 of 34 Photos: Deadly quake shakes Turkey and GreeceAn emergency camp for displaced people was set up at the Eski Bornova stadium in Izmir.Hide Caption 7 of 34 Photos: Deadly quake shakes Turkey and GreeceMembers of a rescue crew carry a victim's body in Izmir.Hide Caption 8 of 34 Photos: Deadly quake shakes Turkey and GreeceAn imam prays in Izmir as people attend the November 1 funeral of Bayram and Hatice Dogruya, a married couple killed in the earthquake.Hide Caption 9 of 34 Photos: Deadly quake shakes Turkey and GreeceThe damaged Greek Orthodox church of Karlovasi is pictured on the Greek island of Samos on Saturday, October 31.Hide Caption 10 of 34 Photos: Deadly quake shakes Turkey and GreeceThis rescued cat was found by a search dog and pulled from the debris in Izmir.Hide Caption 11 of 34 Photos: Deadly quake shakes Turkey and GreeceEmergency workers search a collapsed building for survivors in Izmir.Hide Caption 12 of 34 Photos: Deadly quake shakes Turkey and GreeceGuards walk by a collapsed building in Izmir on October 31.Hide Caption 13 of 34 Photos: Deadly quake shakes Turkey and GreeceRescue workers search for survivors in the debris of a collapsed building in Izmir.Hide Caption 14 of 34 Photos: Deadly quake shakes Turkey and GreecePeople try to save residents trapped in the debris of a collapsed building in Izmir on Friday, October 30.Hide Caption 15 of 34 Photos: Deadly quake shakes Turkey and GreeceRescuers carry a wounded person who was pulled from debris in Izmir.Hide Caption 16 of 34 Photos: Deadly quake shakes Turkey and GreeceThis aerial photo shows a collapsed building in the Bornova district of Izmir.Hide Caption 17 of 34 Photos: Deadly quake shakes Turkey and GreeceSearch and rescue operations take place at a building in Izmir.Hide Caption 18 of 34 Photos: Deadly quake shakes Turkey and GreeceA woman reacts as search-and-rescue teams work through the debris of a collapsed building in Izmir.Hide Caption 19 of 34 Photos: Deadly quake shakes Turkey and GreeceCars are piled up on Samos after the quake.Hide Caption 20 of 34 Photos: Deadly quake shakes Turkey and GreecePeople search for survivors in a building that collapsed in Izmir.Hide Caption 21 of 34 Photos: Deadly quake shakes Turkey and GreeceA man weeps as people try to save residents trapped under rubble in Izmir.Hide Caption 22 of 34 Photos: Deadly quake shakes Turkey and GreeceRescue crews move rubble in Izmir.Hide Caption 23 of 34 Photos: Deadly quake shakes Turkey and GreeceA car and boats are damaged on the coast of Izmir.Hide Caption 24 of 34 Photos: Deadly quake shakes Turkey and GreeceA woman reacts as search-and-rescue teams work at a building site in Izmir.Hide Caption 25 of 34 Photos: Deadly quake shakes Turkey and GreeceA wounded person is rescued from a collapsed building in Izmir.Hide Caption 26 of 34 Photos: Deadly quake shakes Turkey and GreeceA wounded woman hugs a relative after being rescued from a building in Izmir.Hide Caption 27 of 34 Photos: Deadly quake shakes Turkey and GreecePeople stand outside buildings in Izmir after the quake.Hide Caption 28 of 34 Photos: Deadly quake shakes Turkey and GreeceVolunteers work at the scene of a collapsed building in Izmir.Hide Caption 29 of 34 Photos: Deadly quake shakes Turkey and GreecePeople gather in a street in Izmir.Hide Caption 30 of 34 Photos: Deadly quake shakes Turkey and GreecePeople walk past a damaged house after the earthquake struck near Samos.Hide Caption 31 of 34 Photos: Deadly quake shakes Turkey and GreecePeople in Izmir take refuge outdoors after the earthquake.Hide Caption 32 of 34 Photos: Deadly quake shakes Turkey and GreeceSearch-and-rescue work is conducted at a collapsed building in Izmir.Hide Caption 33 of 34 Photos: Deadly quake shakes Turkey and GreeceSeawater covers a square at the Vathi port in Samos.Hide Caption 34 of 34Much of the activity was focused on the large Riza building, which housed businesses and apartments on its eight floors.One survivor, 28-year-old Buse Hasyilmaz, was pulled alive from the rubble there at about midnight, several hours after the building collapsed. Hasyilmaz, who was at a dental practice in the building with her parents when the earthquake hit, was able to talk to rescue teams and a Turkish minister on the phone while they were trying to reach her. In a video from the scene, she told them \\\"unleash the dogs. I will make a cat sound,\\\" in an effort to attract the rescue dogs' attention. The minister responded that this was a good idea, adding: \\\"I want you to remain calm like this. Keep your spirits up and be patient.\\\"Hasyilmaz's father was also rescued safely. It wasn't immediately clear whether her mother had been located.JUST WATCHEDSee the moment a powerful earthquake rocked a city in TurkeyReplayMore Videos ...MUST WATCHSee the moment a powerful earthquake rocked a city in Turkey 03:05Hours later, workers reached and rescued 16-year-old Inci in the same building. \\\"I'll come and listen to you play the violin,\\\" a female rescue worker promises the teenager, seen in another video. Her legs are trapped, she can't feel them. She's pinned down by a block of cement. \\\"I hurt a lot,\\\" Inci says, pleading with the rescue worker to hold her hand. For nearly a full day she's been alone, in pain and terrified.\\\"You look like your mother. She's fine, she's waiting for you,\\\" the rescue worker tells her. As the search teams work to clear buckets of rubble, hauling away concrete beams, they call out for quiet. An eerie silence descends on the crowds.This is just one of many videos showing the incredible efforts of the teams searching through the aftermath of the quake. In another collapsed building a mother and her four children were all pulled out alive, 23 hours after the tremors. One of them later died, the Turkish health minister said. A young woman whose husband was trapped under the rubble at his mother's house, where he had been working while his mother was away, hoped for good news on Saturday morning.Rescue teams had told her that thermal cameras showed a man moving, she told CNN. She was praying that her husband would be safely reunited with their two children, aged seven and 10.A nurse, who asked not to be named, said her colleague was under the rubble in Bayrakli with her two nephews. She told CNN that she was confident her colleague's professional skills would help all three to survive.Hundreds of aftershocksThe United States Geological Survey (USGS) measured the tremor's magnitude at 7.0, while Turkish authorities said it was 6.6. The quake struck 14 kilometers (8.7 miles) northeast of the town of N\\u00e9on Karlov\\u00e1sion on Samos, the USGS reported, at 1:51 pm Greek time (7:51 a.m. ET).It hit at a relatively shallow depth of 21 kilometers (13 miles), the USGS reported, making its impact powerfully felt at ground level around the epicenter.     There have been 615 aftershocks so far, of which more than 40 were over 4.0 magnitude, the Turkish disaster agency said Saturday. Greek authorities said two teenagers, a boy and a girl, died on the Greek island of Samos after a wall collapsed on them. The earthquake triggered what authorities have called a \\\"mini tsunami.\\\"TV footage showed water flooding through the streets of Cesme and Seferihisar in parts of Turkey's wider Izmir province, as well as on Samos. No tsunami warnings were issued.Greece-Turkey tensionsIdil Gungor, who works as a journalist and runs a guesthouse in the Turkish town of Si\\u011facik in Izmir province, said Friday that the area was damaged more by the force of the water than the quake itself.Rescue workers and local people carry a wounded person found in the debris of a collapsed building, in Izmir, on Friday. Her guesthouse, in a 100-year-old building, had been inundated and fish were swimming inside it, she said. Shops in town had also been flooded and their goods damaged.Greek Prime Minister Kyriakos Mitsotakis said Friday on Twitter that he had spoken to his Turkish counterpart and offered his condolences. Tensions between the two nations have flared recently over energy claims in the eastern Mediterranean.  \\\"Whatever our differences, these are times when our people need to stand together,\\\" Mitsotakis wrote.In a tweet, the Turkish president offered his condolences to Greece and said \\\"that two neighbors show solidarity in difficult times is more valuable than many things in life.\\\"According to Erdogan, both Turkey and Greece were ready to send aid to the other.French Interior Minister G\\u00e9rald Darmanin said on Twitter his country had also offered to send assistance to Turkey and Greece. Isil Sariyuce reported from Izmir, Yusuf Gezer reported from Istanbul and Laura Smith-Spark wrote from London.\"\n        ],\n        \"semantic_type\": \"\",\n        \"description\": \"\"\n      }\n    }\n  ]\n}"
            }
          },
          "metadata": {},
          "execution_count": 6
        }
      ],
      "source": [
        "# Display the first few rows of the dataset\n",
        "print(\"First few rows of the dataset:\")\n",
        "dataset.head()"
      ]
    },
    {
      "cell_type": "markdown",
      "id": "lpgIS7YTxlp_",
      "metadata": {
        "id": "lpgIS7YTxlp_"
      },
      "source": [
        "DataSet Information"
      ]
    },
    {
      "cell_type": "code",
      "execution_count": 7,
      "id": "6ee7bdf0-fa00-45c6-ad8b-a7ede3efc387",
      "metadata": {
        "colab": {
          "base_uri": "https://localhost:8080/"
        },
        "id": "6ee7bdf0-fa00-45c6-ad8b-a7ede3efc387",
        "outputId": "c1877156-4579-45e2-86f0-3b8e1d36e419"
      },
      "outputs": [
        {
          "output_type": "stream",
          "name": "stdout",
          "text": [
            "Dataset Info:\n",
            "<class 'pandas.core.frame.DataFrame'>\n",
            "RangeIndex: 37949 entries, 0 to 37948\n",
            "Data columns (total 11 columns):\n",
            " #   Column           Non-Null Count  Dtype \n",
            "---  ------           --------------  ----- \n",
            " 0   Index            37949 non-null  int64 \n",
            " 1   Author           37949 non-null  object\n",
            " 2   Date published   37949 non-null  object\n",
            " 3   Category         37949 non-null  object\n",
            " 4   Section          37949 non-null  object\n",
            " 5   Url              37949 non-null  object\n",
            " 6   Headline         37949 non-null  object\n",
            " 7   Description      37949 non-null  object\n",
            " 8   Keywords         37949 non-null  object\n",
            " 9   Second headline  37949 non-null  object\n",
            " 10  Article text     37940 non-null  object\n",
            "dtypes: int64(1), object(10)\n",
            "memory usage: 3.2+ MB\n"
          ]
        }
      ],
      "source": [
        "# Display basic information about the dataset\n",
        "print(\"Dataset Info:\")\n",
        "dataset.info()"
      ]
    },
    {
      "cell_type": "markdown",
      "id": "OWKO36HEyExO",
      "metadata": {
        "id": "OWKO36HEyExO"
      },
      "source": [
        "Data Type Conversion   \n",
        "The data were converted to their appropriate data type"
      ]
    },
    {
      "cell_type": "code",
      "execution_count": 8,
      "id": "f80d142d-dffa-4ac5-abbe-d76f17b56bd5",
      "metadata": {
        "colab": {
          "base_uri": "https://localhost:8080/"
        },
        "id": "f80d142d-dffa-4ac5-abbe-d76f17b56bd5",
        "outputId": "d5ec2974-72fb-4c12-b22b-93177458b965"
      },
      "outputs": [
        {
          "output_type": "stream",
          "name": "stdout",
          "text": [
            "Index                       int64\n",
            "Author             string[python]\n",
            "Date published     datetime64[ns]\n",
            "Category                 category\n",
            "Section                  category\n",
            "Url                string[python]\n",
            "Headline           string[python]\n",
            "Description        string[python]\n",
            "Keywords           string[python]\n",
            "Second headline    string[python]\n",
            "Article text       string[python]\n",
            "dtype: object\n"
          ]
        }
      ],
      "source": [
        "# Define a dictionary to map column names to their desired data types\n",
        "dtype_mapping = {\n",
        "    'Author': 'string',\n",
        "    'Date published': 'datetime64[ns]',\n",
        "    'Category': 'category',\n",
        "    'Section': 'category',\n",
        "    'Url': 'string',\n",
        "    'Headline': 'string',\n",
        "    'Description': 'string',\n",
        "    'Keywords': 'string',\n",
        "    'Second headline': 'string',\n",
        "    'Article text': 'string'\n",
        "}\n",
        "\n",
        "# Apply the data type conversions\n",
        "for column, dtype in dtype_mapping.items():\n",
        "    dataset[column] = dataset[column].astype(dtype)\n",
        "\n",
        "# Display the data types to confirm\n",
        "print(dataset.dtypes)"
      ]
    },
    {
      "cell_type": "markdown",
      "id": "-2seU491yYnQ",
      "metadata": {
        "id": "-2seU491yYnQ"
      },
      "source": [
        "Handling Missing Values"
      ]
    },
    {
      "cell_type": "code",
      "execution_count": 9,
      "id": "cf6d935e-fbaf-4d77-b6fc-c09c7d13afce",
      "metadata": {
        "colab": {
          "base_uri": "https://localhost:8080/"
        },
        "id": "cf6d935e-fbaf-4d77-b6fc-c09c7d13afce",
        "outputId": "8085ef4e-127f-4181-b278-a69988c365e0"
      },
      "outputs": [
        {
          "output_type": "execute_result",
          "data": {
            "text/plain": [
              "Index              0\n",
              "Author             0\n",
              "Date published     0\n",
              "Category           0\n",
              "Section            0\n",
              "Url                0\n",
              "Headline           0\n",
              "Description        0\n",
              "Keywords           0\n",
              "Second headline    0\n",
              "Article text       9\n",
              "dtype: int64"
            ]
          },
          "metadata": {},
          "execution_count": 9
        }
      ],
      "source": [
        "#checks for missing values\n",
        "missing_values = dataset.isnull().sum()\n",
        "missing_values"
      ]
    },
    {
      "cell_type": "markdown",
      "id": "SoAo1A7nycdh",
      "metadata": {
        "id": "SoAo1A7nycdh"
      },
      "source": [
        "Dropping Missing Value Rows"
      ]
    },
    {
      "cell_type": "code",
      "execution_count": 10,
      "id": "db4b549f-4441-45e9-8717-352945e155c9",
      "metadata": {
        "id": "db4b549f-4441-45e9-8717-352945e155c9"
      },
      "outputs": [],
      "source": [
        "# Drop rows with missing values in any column\n",
        "dataset.dropna(how='any', inplace=True)"
      ]
    },
    {
      "cell_type": "markdown",
      "id": "pMK3XXiBzjuq",
      "metadata": {
        "id": "pMK3XXiBzjuq"
      },
      "source": [
        "New Article Category View"
      ]
    },
    {
      "cell_type": "code",
      "execution_count": 11,
      "id": "55dd1c4d-4694-4586-a9e4-bae63240fea8",
      "metadata": {
        "colab": {
          "base_uri": "https://localhost:8080/"
        },
        "id": "55dd1c4d-4694-4586-a9e4-bae63240fea8",
        "outputId": "6d7e8ab5-cf2e-47ac-cfa8-216a922385ca"
      },
      "outputs": [
        {
          "output_type": "stream",
          "name": "stdout",
          "text": [
            "Category:\n"
          ]
        },
        {
          "output_type": "execute_result",
          "data": {
            "text/plain": [
              "['news', 'business', 'health', 'entertainment', 'sport', 'politics', 'travel', 'vr', 'style']\n",
              "Categories (9, object): ['business', 'entertainment', 'health', 'news', ..., 'sport', 'style', 'travel',\n",
              "                         'vr']"
            ]
          },
          "metadata": {},
          "execution_count": 11
        }
      ],
      "source": [
        "# Analysing the Categories\n",
        "print('Category:')\n",
        "dataset.Category.unique()"
      ]
    },
    {
      "cell_type": "markdown",
      "id": "E3sHfGmCzoVn",
      "metadata": {
        "id": "E3sHfGmCzoVn"
      },
      "source": [
        "New Article Timeframe View"
      ]
    },
    {
      "cell_type": "code",
      "execution_count": 12,
      "id": "09ff50bf-e253-46a4-b75f-e3d30e8bdf02",
      "metadata": {
        "colab": {
          "base_uri": "https://localhost:8080/"
        },
        "id": "09ff50bf-e253-46a4-b75f-e3d30e8bdf02",
        "outputId": "19fef626-5dc4-4946-b242-164563453618"
      },
      "outputs": [
        {
          "output_type": "execute_result",
          "data": {
            "text/plain": [
              "(Timestamp('2011-08-24 17:54:07'), Timestamp('2022-03-21 11:40:28'))"
            ]
          },
          "metadata": {},
          "execution_count": 12
        }
      ],
      "source": [
        "# Analyzing the date range\n",
        "dataset['Date published'] = pd.to_datetime(dataset['Date published'])\n",
        "date_range = dataset['Date published'].min(), dataset['Date published'].max()\n",
        "date_range"
      ]
    },
    {
      "cell_type": "markdown",
      "id": "t-ANMJ10yt8O",
      "metadata": {
        "id": "t-ANMJ10yt8O"
      },
      "source": [
        "Selecting Relevant Data for the Study"
      ]
    },
    {
      "cell_type": "code",
      "execution_count": 13,
      "id": "b3e4115d-dc7e-41a5-927b-4a0278f51728",
      "metadata": {
        "colab": {
          "base_uri": "https://localhost:8080/",
          "height": 0
        },
        "id": "b3e4115d-dc7e-41a5-927b-4a0278f51728",
        "outputId": "db1e2029-b109-4ff9-cb3e-b94dd0f3cc17"
      },
      "outputs": [
        {
          "output_type": "stream",
          "name": "stdout",
          "text": [
            "Number of entries from 2020 to 2022: 8081\n"
          ]
        },
        {
          "output_type": "execute_result",
          "data": {
            "text/plain": [
              "                                        Article text  Category  \\\n",
              "0   (CNN)Right now, there's a shortage of truck d...      news   \n",
              "1   (CNN)Working in a factory or warehouse can me...      news   \n",
              "2   (CNN)In a Hong Kong warehouse, a swarm of aut...      news   \n",
              "3  The pandemic thrust the working world into a n...  business   \n",
              "4  New York (CNN Business)March Madness isn't jus...  business   \n",
              "\n",
              "       Date published  \n",
              "0 2021-07-15 02:46:59  \n",
              "1 2021-05-12 07:52:09  \n",
              "2 2021-06-16 02:51:30  \n",
              "3 2022-03-18 14:37:21  \n",
              "4 2022-03-19 11:41:08  "
            ],
            "text/html": [
              "\n",
              "  <div id=\"df-ff63ea96-cb00-411a-aa5b-3cd43d9780e7\" class=\"colab-df-container\">\n",
              "    <div>\n",
              "<style scoped>\n",
              "    .dataframe tbody tr th:only-of-type {\n",
              "        vertical-align: middle;\n",
              "    }\n",
              "\n",
              "    .dataframe tbody tr th {\n",
              "        vertical-align: top;\n",
              "    }\n",
              "\n",
              "    .dataframe thead th {\n",
              "        text-align: right;\n",
              "    }\n",
              "</style>\n",
              "<table border=\"1\" class=\"dataframe\">\n",
              "  <thead>\n",
              "    <tr style=\"text-align: right;\">\n",
              "      <th></th>\n",
              "      <th>Article text</th>\n",
              "      <th>Category</th>\n",
              "      <th>Date published</th>\n",
              "    </tr>\n",
              "  </thead>\n",
              "  <tbody>\n",
              "    <tr>\n",
              "      <th>0</th>\n",
              "      <td>(CNN)Right now, there's a shortage of truck d...</td>\n",
              "      <td>news</td>\n",
              "      <td>2021-07-15 02:46:59</td>\n",
              "    </tr>\n",
              "    <tr>\n",
              "      <th>1</th>\n",
              "      <td>(CNN)Working in a factory or warehouse can me...</td>\n",
              "      <td>news</td>\n",
              "      <td>2021-05-12 07:52:09</td>\n",
              "    </tr>\n",
              "    <tr>\n",
              "      <th>2</th>\n",
              "      <td>(CNN)In a Hong Kong warehouse, a swarm of aut...</td>\n",
              "      <td>news</td>\n",
              "      <td>2021-06-16 02:51:30</td>\n",
              "    </tr>\n",
              "    <tr>\n",
              "      <th>3</th>\n",
              "      <td>The pandemic thrust the working world into a n...</td>\n",
              "      <td>business</td>\n",
              "      <td>2022-03-18 14:37:21</td>\n",
              "    </tr>\n",
              "    <tr>\n",
              "      <th>4</th>\n",
              "      <td>New York (CNN Business)March Madness isn't jus...</td>\n",
              "      <td>business</td>\n",
              "      <td>2022-03-19 11:41:08</td>\n",
              "    </tr>\n",
              "  </tbody>\n",
              "</table>\n",
              "</div>\n",
              "    <div class=\"colab-df-buttons\">\n",
              "\n",
              "  <div class=\"colab-df-container\">\n",
              "    <button class=\"colab-df-convert\" onclick=\"convertToInteractive('df-ff63ea96-cb00-411a-aa5b-3cd43d9780e7')\"\n",
              "            title=\"Convert this dataframe to an interactive table.\"\n",
              "            style=\"display:none;\">\n",
              "\n",
              "  <svg xmlns=\"http://www.w3.org/2000/svg\" height=\"24px\" viewBox=\"0 -960 960 960\">\n",
              "    <path d=\"M120-120v-720h720v720H120Zm60-500h600v-160H180v160Zm220 220h160v-160H400v160Zm0 220h160v-160H400v160ZM180-400h160v-160H180v160Zm440 0h160v-160H620v160ZM180-180h160v-160H180v160Zm440 0h160v-160H620v160Z\"/>\n",
              "  </svg>\n",
              "    </button>\n",
              "\n",
              "  <style>\n",
              "    .colab-df-container {\n",
              "      display:flex;\n",
              "      gap: 12px;\n",
              "    }\n",
              "\n",
              "    .colab-df-convert {\n",
              "      background-color: #E8F0FE;\n",
              "      border: none;\n",
              "      border-radius: 50%;\n",
              "      cursor: pointer;\n",
              "      display: none;\n",
              "      fill: #1967D2;\n",
              "      height: 32px;\n",
              "      padding: 0 0 0 0;\n",
              "      width: 32px;\n",
              "    }\n",
              "\n",
              "    .colab-df-convert:hover {\n",
              "      background-color: #E2EBFA;\n",
              "      box-shadow: 0px 1px 2px rgba(60, 64, 67, 0.3), 0px 1px 3px 1px rgba(60, 64, 67, 0.15);\n",
              "      fill: #174EA6;\n",
              "    }\n",
              "\n",
              "    .colab-df-buttons div {\n",
              "      margin-bottom: 4px;\n",
              "    }\n",
              "\n",
              "    [theme=dark] .colab-df-convert {\n",
              "      background-color: #3B4455;\n",
              "      fill: #D2E3FC;\n",
              "    }\n",
              "\n",
              "    [theme=dark] .colab-df-convert:hover {\n",
              "      background-color: #434B5C;\n",
              "      box-shadow: 0px 1px 3px 1px rgba(0, 0, 0, 0.15);\n",
              "      filter: drop-shadow(0px 1px 2px rgba(0, 0, 0, 0.3));\n",
              "      fill: #FFFFFF;\n",
              "    }\n",
              "  </style>\n",
              "\n",
              "    <script>\n",
              "      const buttonEl =\n",
              "        document.querySelector('#df-ff63ea96-cb00-411a-aa5b-3cd43d9780e7 button.colab-df-convert');\n",
              "      buttonEl.style.display =\n",
              "        google.colab.kernel.accessAllowed ? 'block' : 'none';\n",
              "\n",
              "      async function convertToInteractive(key) {\n",
              "        const element = document.querySelector('#df-ff63ea96-cb00-411a-aa5b-3cd43d9780e7');\n",
              "        const dataTable =\n",
              "          await google.colab.kernel.invokeFunction('convertToInteractive',\n",
              "                                                    [key], {});\n",
              "        if (!dataTable) return;\n",
              "\n",
              "        const docLinkHtml = 'Like what you see? Visit the ' +\n",
              "          '<a target=\"_blank\" href=https://colab.research.google.com/notebooks/data_table.ipynb>data table notebook</a>'\n",
              "          + ' to learn more about interactive tables.';\n",
              "        element.innerHTML = '';\n",
              "        dataTable['output_type'] = 'display_data';\n",
              "        await google.colab.output.renderOutput(dataTable, element);\n",
              "        const docLink = document.createElement('div');\n",
              "        docLink.innerHTML = docLinkHtml;\n",
              "        element.appendChild(docLink);\n",
              "      }\n",
              "    </script>\n",
              "  </div>\n",
              "\n",
              "\n",
              "<div id=\"df-dc782e4d-6503-47cf-847b-7e5196ce6c6b\">\n",
              "  <button class=\"colab-df-quickchart\" onclick=\"quickchart('df-dc782e4d-6503-47cf-847b-7e5196ce6c6b')\"\n",
              "            title=\"Suggest charts\"\n",
              "            style=\"display:none;\">\n",
              "\n",
              "<svg xmlns=\"http://www.w3.org/2000/svg\" height=\"24px\"viewBox=\"0 0 24 24\"\n",
              "     width=\"24px\">\n",
              "    <g>\n",
              "        <path d=\"M19 3H5c-1.1 0-2 .9-2 2v14c0 1.1.9 2 2 2h14c1.1 0 2-.9 2-2V5c0-1.1-.9-2-2-2zM9 17H7v-7h2v7zm4 0h-2V7h2v10zm4 0h-2v-4h2v4z\"/>\n",
              "    </g>\n",
              "</svg>\n",
              "  </button>\n",
              "\n",
              "<style>\n",
              "  .colab-df-quickchart {\n",
              "      --bg-color: #E8F0FE;\n",
              "      --fill-color: #1967D2;\n",
              "      --hover-bg-color: #E2EBFA;\n",
              "      --hover-fill-color: #174EA6;\n",
              "      --disabled-fill-color: #AAA;\n",
              "      --disabled-bg-color: #DDD;\n",
              "  }\n",
              "\n",
              "  [theme=dark] .colab-df-quickchart {\n",
              "      --bg-color: #3B4455;\n",
              "      --fill-color: #D2E3FC;\n",
              "      --hover-bg-color: #434B5C;\n",
              "      --hover-fill-color: #FFFFFF;\n",
              "      --disabled-bg-color: #3B4455;\n",
              "      --disabled-fill-color: #666;\n",
              "  }\n",
              "\n",
              "  .colab-df-quickchart {\n",
              "    background-color: var(--bg-color);\n",
              "    border: none;\n",
              "    border-radius: 50%;\n",
              "    cursor: pointer;\n",
              "    display: none;\n",
              "    fill: var(--fill-color);\n",
              "    height: 32px;\n",
              "    padding: 0;\n",
              "    width: 32px;\n",
              "  }\n",
              "\n",
              "  .colab-df-quickchart:hover {\n",
              "    background-color: var(--hover-bg-color);\n",
              "    box-shadow: 0 1px 2px rgba(60, 64, 67, 0.3), 0 1px 3px 1px rgba(60, 64, 67, 0.15);\n",
              "    fill: var(--button-hover-fill-color);\n",
              "  }\n",
              "\n",
              "  .colab-df-quickchart-complete:disabled,\n",
              "  .colab-df-quickchart-complete:disabled:hover {\n",
              "    background-color: var(--disabled-bg-color);\n",
              "    fill: var(--disabled-fill-color);\n",
              "    box-shadow: none;\n",
              "  }\n",
              "\n",
              "  .colab-df-spinner {\n",
              "    border: 2px solid var(--fill-color);\n",
              "    border-color: transparent;\n",
              "    border-bottom-color: var(--fill-color);\n",
              "    animation:\n",
              "      spin 1s steps(1) infinite;\n",
              "  }\n",
              "\n",
              "  @keyframes spin {\n",
              "    0% {\n",
              "      border-color: transparent;\n",
              "      border-bottom-color: var(--fill-color);\n",
              "      border-left-color: var(--fill-color);\n",
              "    }\n",
              "    20% {\n",
              "      border-color: transparent;\n",
              "      border-left-color: var(--fill-color);\n",
              "      border-top-color: var(--fill-color);\n",
              "    }\n",
              "    30% {\n",
              "      border-color: transparent;\n",
              "      border-left-color: var(--fill-color);\n",
              "      border-top-color: var(--fill-color);\n",
              "      border-right-color: var(--fill-color);\n",
              "    }\n",
              "    40% {\n",
              "      border-color: transparent;\n",
              "      border-right-color: var(--fill-color);\n",
              "      border-top-color: var(--fill-color);\n",
              "    }\n",
              "    60% {\n",
              "      border-color: transparent;\n",
              "      border-right-color: var(--fill-color);\n",
              "    }\n",
              "    80% {\n",
              "      border-color: transparent;\n",
              "      border-right-color: var(--fill-color);\n",
              "      border-bottom-color: var(--fill-color);\n",
              "    }\n",
              "    90% {\n",
              "      border-color: transparent;\n",
              "      border-bottom-color: var(--fill-color);\n",
              "    }\n",
              "  }\n",
              "</style>\n",
              "\n",
              "  <script>\n",
              "    async function quickchart(key) {\n",
              "      const quickchartButtonEl =\n",
              "        document.querySelector('#' + key + ' button');\n",
              "      quickchartButtonEl.disabled = true;  // To prevent multiple clicks.\n",
              "      quickchartButtonEl.classList.add('colab-df-spinner');\n",
              "      try {\n",
              "        const charts = await google.colab.kernel.invokeFunction(\n",
              "            'suggestCharts', [key], {});\n",
              "      } catch (error) {\n",
              "        console.error('Error during call to suggestCharts:', error);\n",
              "      }\n",
              "      quickchartButtonEl.classList.remove('colab-df-spinner');\n",
              "      quickchartButtonEl.classList.add('colab-df-quickchart-complete');\n",
              "    }\n",
              "    (() => {\n",
              "      let quickchartButtonEl =\n",
              "        document.querySelector('#df-dc782e4d-6503-47cf-847b-7e5196ce6c6b button');\n",
              "      quickchartButtonEl.style.display =\n",
              "        google.colab.kernel.accessAllowed ? 'block' : 'none';\n",
              "    })();\n",
              "  </script>\n",
              "</div>\n",
              "\n",
              "    </div>\n",
              "  </div>\n"
            ],
            "application/vnd.google.colaboratory.intrinsic+json": {
              "type": "dataframe",
              "variable_name": "data",
              "summary": "{\n  \"name\": \"data\",\n  \"rows\": 8081,\n  \"fields\": [\n    {\n      \"column\": \"Article text\",\n      \"properties\": {\n        \"dtype\": \"string\",\n        \"num_unique_values\": 8081,\n        \"samples\": [\n          \" (CNN)The UK government is offering homeowners in England and Wales \\u00a35,000 ($6,900) in new grants to install heat pumps to warm their homes and provide hot water. The move is part of a strategy aimed at making deep cuts to greenhouse gas emissions and decarbonizing the UK's power sector by 2035.British Prime Minister Boris Johnson said the scheme was designed to bring the low-carbon heat pumps to a similar price as the boilers now widely used across the country, which run on natural gas, a fossil fuel made mostly of methane. Methane is harmful to the atmosphere and contributes to climate change. But what exactly are heat pumps and can they help address the climate crisis? Here's what to know. What are heat pumps?Workers from Solaris Energy installing an air source heat pump into a house in Folkestone, United Kingdom.Heat pumps look like big boxes with fans. They sit outside a building, and literally take heat from one place and pump it to another. They typically extract heat from the air or the ground, and they work like a refrigerator, but in reverse, enhancing the heat as it's delivered to a building. Pumps that source from the air are more common in urban areas. Read MoreWill heat pumps help address the climate crisis?If you use electricity generated from renewable sources like wind and solar, which is widely available in the United Kingdom, heat pumps are basically the lowest-emissions option for heating that there is. There is little data on the carbon footprint of producing the pumps themselves, so at the moment, heat pumps can't be considered zero-emission sources of heating. But they could potentially be in the future. Coal-fired power is on the rise in America for the first time since 2014This is important in the UK, where 14% of greenhouse gas emissions come from heating in homes. The country is trying to achieve net zero by 2050, where it will emit no more greenhouse gases than it removes from the atmosphere, so addressing heating will play a big role in reaching that goal.  At the moment, the country relies heavily on natural gas for heating. More than 80% of homes are connected to the gas grid. The International Energy Agency says the world should stop installing new fossil fuel boilers from 2025 to meet net zero. Can everyone use heat pumps?There are some limitations to heat pumps. They work best in newer buildings that have good insulation. That's a problem in the UK, where a lot of homes are hundreds of years old with poor insulation and single-glazed windows that can leak warm air.A lot of people in the UK also live in apartments, which can be heated with pumps if they are installed from the start, when a building is being constructed. If you try to retrofit a heat pump in an existing apartment, there will be limitations on what models are available to you. A lot of apartment owners end up using them just to supply hot water.  Will heat pumps bring energy bills down?If you put a heat pump in a newer home with good insulation, heat pumps make a lot of financial sense. They can be expensive to buy -- typically between \\u00a37,000 and \\u00a311,000 -- but the government grant should help with purchases, and similar grants exist in several other countries too, many of them in the European Union. If they run effectively in your home, they can bring energy bills down dramatically. According to The Renewable Energy Hub UK, heat pumps can save up to 52% on energy expenses if used just to heat homes instead of a gas boiler.And with the energy crisis pushing gas prices to record highs, pumps are even more affordable to run at the moment. Does the grant go far enough?The UK has flip-flopped on its heat pump policy over the years, and climate activists had long been calling for a return to grants, so the announcement Monday evening has been welcomed. Greenpeace says the UK has the second-worst installation record in Europe. But some researchers say the numbers presented by the government still don't add up, and the main opposition Labour Party called the plan \\\"more of Boris Johnson's hot air.\\\"Europe's gas crisis is also a renewables crisis, but there are ready solutions The government is putting \\u00a34.6 billion towards the scheme, which also includes upgrading gas boilers to become lower carbon. European climate think tank E3G calculates that the scheme is around \\u00a32 billion short, based on the government's own 2030 energy efficiency targets. \\\"Tackling the emissions produced by our homes and buildings, which represent nearly a quarter of the UK's contribution to climate change, is essential to meeting our net zero target,\\\" said E3G senior policy adviser Juliet Phillips, welcoming the grant.  \\\"It is now up to the Treasury to back this plan with a comprehensive investment package. A nationwide green homes infrastructure program could create 190,000 green jobs and save households an average over \\u00a3500 per year on their energy bills.\\\"Who's using heat pumps already?Between 2007 and the end of 2020, nearly 15 million heat pump units were installed across the 21 countries in Europe for which it has data, the European Heat Pump Association (EHPA) said. Of those, 1.6 million were installed last year, with Germany, France and Italy accounting for nearly half of those sales.The global energy crisis is complicating Biden's climate agendaThe UK has been lagging behind, however, according to Greenpeace data. Last year, the country installed more than five times fewer heat pumps than Lithuania, more than 30 times fewer than Estonia and 60 times fewer heat pumps than Norway, the Greenpeace analysis showed.The United States is moving quickly to install heat pumps in new homes. According to the International Energy Agency (IEA), the share of heat pump sales for new buildings in the US exceeds 40% for single-family dwellings and is near 50% for new multi-family buildings. Ground source heat pumps are more common in the US than anywhere else -- accounting for more than half the 400,000 sold annually -- with sales boosted by a 30% federal tax credit in past years, the IEA said.Worldwide, nearly 20 million households purchased heat pumps in 2019, up from 14 million in 2010, according to the IEA. Most of this growth is from higher sales of reversible units that can also provide air conditioning, it said, reflecting an increased need for cooling as well.Despite this growth, heat pumps still meet less than 5% of global heating needs in buildings, the IEA said.\",\n          \" (CNN)Former President Donald Trump didn't plan to invite Alabama Senate hopeful Katie Britt to meet with him at Mar-a-Lago this month. He already had his man in the race -- conservative firebrand Mo Brooks -- and wasn't keen on endorsing a second candidate, despite briefly considering it amid frustrations with Brooks' dull performance so far. But then Trump got to talking with New England Patriots coach Bill Belichick at his annual Super Bowl party, and their conversation turned to the contentious GOP primary in Alabama. \\\"Belichick coached Wesley Britt and said positive things about the couple when they got to talking about the race,\\\" said a person familiar with their conversation. (Katie Britt's husband spent four years as an offensive lineman for New England.) Days later, Trump invited Katie Britt to visit him at his Palm Beach estate while she was in town for a donor event with other MAGA-aligned candidates. Politico was first to report their meeting last week. Trump and Britt had already spoken twice by phone since their first encounter at his August rally in Cullman, Alabama. But it was during their face-to-face meeting that Trump said he might be open to assisting her campaign despite his endorsement of Brooks last April. While Trump stopped short of doubling his endorsement in the primary and offering to also back Britt, two people familiar with the matter said he told Britt he would speak positively of her in private and public appearances. The former President has been weighing double endorsements in other states as well, as he looks to maximize his opportunities to claim victory, though he has been warned by several advisers that such a move could ultimately weaken his influence. Read MoreA former chief of staff to outgoing Alabama GOP Sen. Richard Shelby, Britt has cast herself as a Trump-aligned conservative while arguing that Brooks, a six-term congressman, is a career politician who only recently embraced the former President after heavily criticizing him during the 2016 GOP presidential primary. Though his fundraising has paled in comparison to Britt's, Brooks has maintained a slight edge in most polls and believes Trump's support will prove critical in carrying him over the finish line in May. In Alabama, Brooks looks to redeem himself with Trump amid campaign struggles In an interview with CNN earlier this month, Brooks described Trump's endorsement in deep-red Alabama as \\\"gold and platinum together\\\" and suggested that Britt was unlikely to make the runoff contest, which would occur if no candidate receives a majority of the vote. Recent polls have showed a tight three-way race between Brooks, Britt and political newcomer Mike Durant. One of the sources said the former President \\\"has zero interest in lifting a finger for Mo\\\" and doesn't plan to return to Alabama before the primary in May, but the source simultaneously noted that Trump's team has been in talks with the Brooks campaign about hosting a pair of fundraisers at Mar-a-Lago for the congressman, which would be an easier -- and less visible -- avenue that Trump could use to boost Brooks. A source close to Brooks said his team received confirmation that one of his Mar-a-Lago fundraisers had been greenlighted hours after Britt met with Trump at his Florida residence. Those familiar with the former President's thinking cautioned that his willingness to let Brooks host fundraisers at Mar-a-Lago shouldn't indicate that he has closed the door on helping Britt in some fashion -- it may just be a sign Trump is hedging his bets. \\\"He knows a runoff contest is now inevitable and thinks it benefits him to say nice things about both candidates before that happens so that he looks good no matter the outcome,\\\" said a person close to Trump, who requested anonymity to speak about internal discussions. Brooks campaign chairman Stan McDonald said in a statement to CNN that Brooks \\\"is the grassroots America First candidate with two Trump endorsements and a backbone of steel,\\\" referring to Trump's endorsement of Brooks during his congressional reelection bid in 2018. \\\"The people of Alabama are going to stand with President Trump by helping to carry Mo Brooks to victory.\\\" Trump has also been monitoring Durant, an Army veteran who is running a competitive campaign despite a late entry into the race last October. The former President has complained to allies that Durant is \\\"a McCain guy\\\" since he served as a surrogate for the late Arizona senator's 2008 presidential campaign. Some of those around Trump believe that while he is more likely to offer tepid support for Britt as the primary approaches, his thinking could change if Durant suddenly looks like he is better positioned to make it to a runoff against Brooks. Trump has recently reviewed data from his former campaign pollster Tony Fabrizio that indicated Britt's primary support in the state stems from voters who don't have a favorable view of the former President, according to a person familiar with the matter.  The Durant campaign declined to comment and instead pointed to a statement from January in which spokesman Jahan Wilcox accused Brooks and Britt of trying to undercut Durant's campaign. \\\"Congressman Brooks and Chief of Staff Katie Boyd Britt have been in politics their entire lives where these games are played. They should be ashamed of themselves and condemn this terrible attack on Mike's character immediately,\\\" Wilcox said. A roadmap for other races What Trump ultimately does in the Alabama race could pave the way for similar maneuvers in other crowded primary contests, including in Pennsylvania and Ohio, where top allies of the former President have been hired up by different campaigns or have endorsed opposing candidates. Trump has been surveying aides and allies for their thoughts on dual endorsements but is leaning toward formally endorsing only one candidate or forgoing an endorsement until the general election, people close to him said. Given how his early endorsement of Brooks has panned out, those around Trump expect him to stay out of other dogfights until a definitive front-runner has emerged or to simply endorse the winner of the primary as long as the person is a MAGA-aligned candidate. The 10 Senate seats most likely to flip in 2022In Pennsylvania, Ohio and Missouri -- where numerous pro-Trump Republicans are competing for open Senate seats -- the current slate of candidates suggests that whoever wins the primary will be an easy endorsement for Trump. \\\"At the end of the day, almost all of these guys are supportive of him. He gets to claim influence no matter who survives the primary and doesn't get burned like he will if Brooks loses,\\\" said one Trump adviser. A person close to Trump said that Arizona is the least likely Senate race where Trump would endorse multiple candidates or sit out the primary and that he is currently under tremendous pressure by conservative tech mogul Peter Thiel to get behind his prot\\u00e9g\\u00e9 Blake Masters. The Arizona Senate hopeful held a fundraiser at Mar-a-Lago last November and recently nabbed the endorsement of the conservative Club for Growth's political action committee, which has aligned itself with Trump in other races -- including getting behind Brooks in Alabama. \\\"He's feeling kind of caged right now. He hasn't endorsed in a Senate race in a long time, but he's constantly hearing competing things from his allies,\\\" said a person who recently spoke to Trump. \\\"Like in Pennsylvania, he's got [Fox News host] Sean Hannity saying positive things about Dr. [Mehmet] Oz, but several of his former aides are working for David McCormick.\\\" The former President has also been courted by several Senate candidates seeking his endorsement in the Missouri and Ohio primaries. These GOP hopefuls have flocked to Mar-a-Lago for facetime with Trump while clashing over the depth of their MAGA bona fides on the campaign trail. On Tuesday, former Missouri Gov. Eric Greitens met briefly with Trump at Mar-a-Lago after hanging around the property for fundraising and political meetings earlier this month, according to a person familiar with the meeting. Greitens, who resigned from office in 2018 amid allegations of sexual assault and campaign misconduct, is competing against several other Trump-aligned candidates, including Missouri Attorney General Eric Schmitt and US Reps. Billy Long and Vicky Hartzler. Republican rivals attack Greitens on sex scandal as former governor remains defiantTrump previously endorsed Pennsylvania Senate candidate Sean Parnell before the Republican hopeful ended his campaign in November after he lost a custody battle against his estranged wife who had made accusations of spousal abuse. Trump has been wary of endorsing a new candidate in the Pennsylvania Senate GOP primary, especially now that the race has pitted some of his top allies against each other as they back Oz, the former TV personality, and McCormick, a onetime Bridgewater Associates CEO who served in the George W. Bush administration and is married to Trump's former deputy national security adviser Dina Powell. What could happen in Alabama Outside of Alabama, there are other Trump-backed candidates who, like Brooks, have struggled to take off. In Alaska, incumbent Republican Sen. Lisa Murkowski ended last year with more than six times the cash on hand as her Trump-backed opponent, Kelly Tshibaka. And in North Carolina, Rep. Ted Budd is locked in a tight race against former GOP Gov. Pat McCrory, despite having received a Trump endorsement in June 2021. But nowhere has Trump been more irritated with the performance of his preferred candidate than in Alabama. Several people close to the former President said he has been consistently disappointed with Brooks and worries that if he doesn't act now to improve the situation, the narrative coming out of the May primary will raise questions about the potency of Trump's endorsement. \\\"If he gets behind another candidate, one could argue that it doubles his chances of winning,\\\" said the person who spoke to Trump recently. Even as Brooks has attempted a campaign reset -- crisscrossing the state for town halls and replacing his team with fresh leadership -- Trump has remained upset with the trajectory of the race. Though they still speak often by phone, a person familiar with the matter said Trump has recently griped about a February ad by Alabama's Future PAC that highlighted some of Brooks' past criticism of Trump when he was a surrogate for Ted Cruz's 2016 presidential campaign. Allies for Brooks say his opponents are just trying to drive a wedge between the congressman and Trump, and view Brooks' past comments as \\\"water under the bridge\\\" given that he has been an unwavering Trump supporter since then. One Alabama GOP source familiar with the race said Britt's campaign has been jockeying to secure a Trump endorsement, noting that she wasn't even supposed to meet Trump during the rally in Cullman but worked to get face time with the former President backstage. However, it's unclear if the maneuvering will pay off in any way. Lending support to a second candidate and offering a dual endorsement are, of course, two separate moves. But for Trump, one of them would not be without precedent. Should he begin complimenting Britt in public appearances or saying positive things about more than one candidate in other state primaries, Trump would be mirroring his approach at the tail end of the 2017 Alabama special election Senate primary when he started to speak negatively about his preferred candidate's chances. There was a time during that contest when then-President Trump considered backing away from his endorsement of former college basketball player and appointed Sen. Luther Strange as Strange's campaign against former state Supreme Court Chief Justice Roy Moore, the anti-establishment favorite, began to stall. At one point during a rally just days before the primary, Trump acknowledged that he \\\"might have made a mistake\\\" in backing Strange. Still, it is unclear what will happen in Trump's orbit if the former President starts openly questioning Brooks' chances or speaking well of Britt. Others -- including Trump's eldest son, Donald Trump Jr. -- have been highly critical of Britt and the support she's received from what they believe is the GOP's establishment wing. \\\"Mo is a rock solid conservative, who has stood shoulder-to-shoulder with us ... and one of my father's greatest allies since the day my father took office,\\\" Trump Jr. wrote in a fundraising email to Trump supporters last week.\",\n          \" (CNN)The rollout of Covid-19 vaccinations to schoolchildren in the United Kingdom has opened up a new front in the disinformation war: anti-vax campaigners are now taking their protests to the school gates.Groups opposed to vaccination have sought to stoke the fears of parents and children by falsely claiming that the vaccines are untested and dangerous.Last week, a small group of protesters demonstrated outside St. Thomas More Catholic School in the town of Blaydon, near Newcastle in northeastern England, as children entered the school gates.In a letter posted on the school website, headteacher Jonathan Parkinson said several students had been \\\"deeply upset by the way they were treated and the images they were shown\\\" and that the police had been informed of the school's concerns.Anti-vaxxers are using the same tactics as cults do to attract followers on social media\\\"We would like to reiterate that the school's role in this is to host the vaccination team; we have not expressed a view on whether or not children should be vaccinated as this is a decision to be made by families,\\\" he said. \\\"Our priority remains the wellbeing of our students and we are doing our best to support those that are upset.\\\"Read MoreDavid Phillips, headteacher at Chilwell School in Beeston, Nottinghamshire, in central England, told the PA news agency last month that he had contacted the police after his school received \\\"abusive and threatening messages\\\" from anti-vaccination campaigners.Pupils have been handed leaflets with disinformation and posters have been put up accusing the school of \\\"treating children like experimental animals,\\\" PA reported.Anti-vax campaigners also targeted Lytham St Annes High School in Lancashire, northwest England, on September 30, according to local media reports. Vaccinations were opened up across the UK to healthy children aged 12 to 15 late last month, with each to be offered a single dose of the Pfizer/BioNtech vaccine. Many will be offered the shot through a vaccination program in their school, with takeup voluntary.Parental consent will be sought but some older children may be able to be vaccinated against their parents' wishes if they are considered mature enough to give informed consent, the government said.A pupil's hand is raised during a lesson at Whitchurch High School on September 14, 2021 in Cardiff, Wales.Anti-vax group Outreach Worldwide has posted calls on Instagram for supporters to promote its \\\"informed consent campaign\\\" outside named schools at specified times. It's unclear how many people have responded.One more general post on its Instagram page says: \\\"Stand for the children. On the day of the injection roll out at your local school peacefully disrupt.\\\" Others show photos of placards with messages including \\\"Mums against jabbing children\\\" and \\\"These vaccines are harming our teens.\\\" A mobile phone video posted to the page shows an activist approaching children in school uniform, asking them if they have been vaccinated and offering them leaflets, and telling a woman that \\\"jabs aren't for pregnant women.\\\" The UK government says pregnant women should be vaccinated against Covid-19 to protect against potentially serious illness later in pregnancy, as do US health officials, who strongly recommend it for the safety of both mother and baby.Another campaign group, named Lawyers for Liberty, has posted on Twitter that it will \\\"send a legal letter\\\" anonymously on parents' behalf to their child's school if it is promoting the Covid-19 vaccination program, warning the headteacher in question of the \\\"legal risks of this policy & responsibilities of the school.\\\"Speaking in the House of Commons last month, Minister for Skills Alex Burghart told lawmakers the anti-vaccination protests seen outside schools were \\\"totally unacceptable.\\\"\\\"The level of intimidation of schools and teachers is abhorrent,\\\" he said. \\\"I make it absolutely clear to any headteacher or teacher who is watching this that, contrary to some of the things they have been told, legal liability rests not with schools, but with the health service and those providing vaccinations.\\\"Union: Anti-vax campaign 'extremely unhelpful'Coronavirus infection rates remain high in the UK, with 40,701 positive tests reported on Thursday, although a successful vaccine rollout means the rate of hospitalizations and deaths with Covid-19 is significantly lower than at their peak.The latest figures from the Office for National Statistics show a sharp rise in positive Covid-19 tests in children in school years 7 to 11, that is, age 11 to 16, since schools went back in early September. Union leaders have warned of the disruption to education posed by continued Covid-19-related absences.\\\"We are hearing from schools where there are 10 percent or more of pupils absent and where staff are also off work because of the virus,\\\" Geoff Barton, general secretary of the Association of School and College Leaders, said in a statement Tuesday. \\\"Teaching and learning is very difficult in these circumstances and it is clear that the educational disruption of the past 18 months is far from being over.\\\"The figures emphasize the importance of the vaccination program for 12- to 15-year-olds, Barton said. \\\"The anti-vaccination campaign that is taking place is extremely unhelpful and we urge parents and students who have any concerns as a result of this campaign to seek out reliable and official sources of information.\\\"UK Education Secretary Nadhim Zahawi warned Thursday that children could be required to wear masks again in the classroom if the Covid-19 situation worsens significantly.\\\"Attendance has gone up, the last set of figures I looked at was about 90%, that obviously will fluctuate depending on infection rates. But my priority is to protect education, keep those schools open,\\\" Zahawi told Sky News. The government's plan \\\"contains lots of contingencies, including masks,\\\" he added.Announcing the decision last month to extend vaccinations to children aged 12 to 15, the government said it was hoped the measure would protect children from catching Covid-19, reduce transmission in schools and limit disruption to their education.Chief Medical Officer for England Chris Whitty stressed the rollout was an \\\"offer\\\" rather than a requirement, and said the assessed benefits and risks of vaccination for 12- to 15-year-olds must be communicated \\\"fairly and properly\\\" to both children and parents. \\\"Children, young people and their parents must be supported on the decisions they make, with no stigmatization of people either for accepting or not accepting vaccination. This is really critical,\\\" he said.'Very cowardly people'Vaccine disinformation efforts targeting children and their parents are not isolated to the UK.There were angry scenes in Beverley Hills last week, when anti-vaccine mandate protesters confronted parents and children at a \\\"walk your kid to school\\\" event. JUST WATCHEDAnti-vax protesters at school event: This is rapeReplayMore Videos ...MUST WATCHAnti-vax protesters at school event: This is rape 01:59At the end of August, two posters associating Covid-19 vaccination with collaboration during World War II were discovered pasted to a historical information panel near a school in the town of Crocq, in the Creuse department of central France.\\\"We must not let our children die. Yesterday heroes, today collaborators. You put our children in the hands of the Fourth Reich,\\\" the text said, according to French public radio station France Bleu.Jean-Luc Pierron, mayor of Crocq, told CNN that an investigation into who put up the posters was underway.\\\"I just felt that I was dealing with very cowardly people, to have put up those posters, that's all,\\\" he said of the incident.In the town of Forli, in northern Italy, anti-vax activists who spray-painted graffiti outside local schools in recent days also drew a link between measures brought in to limit the spread of Covid-19 and Nazism.Photographs posted on the Facebook page of the local branch of the center-left Democratic Party on October 1 reveal the graffiti as saying: \\\"Vax kill. Save the children. No masks they are harmful\\\" and \\\"No vax. No nazipass.\\\" Pockets of low vaccine uptake remain in Europe. Here's how 4 countries are dealing with themThe latter is a reference to the \\\"Green Pass\\\" introduced in Italy, which makes it mandatory for all public and private sector workers to show proof of vaccination, a negative test or recent recovery from infection. The pass is also needed in order to eat out or visit entertainment venues, sports venues and cultural sites.\\\"These episodes are showing more and more how the opposition to vaccines is taking shape as a real anarchist current, increasingly dedicated to violence and illegality,\\\" the Democratic Party branch said in a post accompanying the images. \\\"What is more serious is that these decidedly violent writings were made in front of the schools, attended by those children that are too often exploited in the 'no vax' protests.\\\"The party described the action as \\\"shameful\\\" because it upsets those \\\"we should protect most, children and young people, trying to generate fear and insecurity in families.\\\"Local Democratic Party leader Daniele Valbonesi posted on Facebook the following day that the party's initial post had been \\\"subjected to a massive and indiscriminate bombardment by social profiles attributable to the 'no vax' galaxy,\\\" adding that \\\"more than 1,300 messages have been blocked.\\\"\\\"Once again, we reject the unacceptable association that the 'no vax' (activists) create between themselves and the victims of Nazi-fascism,\\\" he said. \\\"These people continue to demonstrate that they have no knowledge of either history or the meaning of freedom.\\\" CNN's Nicola Ruotolo, Livia Borghese and Meredith Ruleman contributed to this report.\"\n        ],\n        \"semantic_type\": \"\",\n        \"description\": \"\"\n      }\n    },\n    {\n      \"column\": \"Category\",\n      \"properties\": {\n        \"dtype\": \"category\",\n        \"num_unique_values\": 3,\n        \"samples\": [\n          \"news\",\n          \"business\",\n          \"politics\"\n        ],\n        \"semantic_type\": \"\",\n        \"description\": \"\"\n      }\n    },\n    {\n      \"column\": \"Date published\",\n      \"properties\": {\n        \"dtype\": \"date\",\n        \"min\": \"2020-01-01 00:31:40\",\n        \"max\": \"2022-03-21 11:00:23\",\n        \"num_unique_values\": 8081,\n        \"samples\": [\n          \"2021-10-19 11:00:59\",\n          \"2022-02-25 12:00:41\",\n          \"2021-10-12 04:05:47\"\n        ],\n        \"semantic_type\": \"\",\n        \"description\": \"\"\n      }\n    }\n  ]\n}"
            }
          },
          "metadata": {},
          "execution_count": 13
        }
      ],
      "source": [
        "# Filter the dataset based on the given criteria\n",
        "dataset_filtered = dataset.loc[\n",
        "    (dataset['Date published'] >= '2020-01-01') &\n",
        "    (dataset['Date published'] <= '2023-03-21') &\n",
        "    (dataset['Category'].isin(['politics', 'news', 'business']))\n",
        "]\n",
        "\n",
        "# Select only the relevant columns\n",
        "data = dataset_filtered[['Article text', 'Category', 'Date published']]\n",
        "\n",
        "# Get the number of entries in this filtered dataset\n",
        "num_entries = dataset_filtered.shape[0]\n",
        "\n",
        "print(f\"Number of entries from 2020 to 2022: {num_entries}\")\n",
        "\n",
        "# Display the first few rows of the filtered dataset\n",
        "data.head()"
      ]
    },
    {
      "cell_type": "markdown",
      "id": "g8UwHxzgzJ3m",
      "metadata": {
        "id": "g8UwHxzgzJ3m"
      },
      "source": [
        "Distribution of Selceted Articles Over Time"
      ]
    },
    {
      "cell_type": "code",
      "execution_count": 14,
      "id": "e6e41f6b-12ac-4229-95a2-b12341d6ac1d",
      "metadata": {
        "colab": {
          "base_uri": "https://localhost:8080/",
          "height": 0
        },
        "id": "e6e41f6b-12ac-4229-95a2-b12341d6ac1d",
        "outputId": "f21b2d2b-5cd6-4d3d-b396-01c02de96099"
      },
      "outputs": [
        {
          "output_type": "stream",
          "name": "stderr",
          "text": [
            "<ipython-input-14-fffb8a54cd3c>:2: SettingWithCopyWarning: \n",
            "A value is trying to be set on a copy of a slice from a DataFrame.\n",
            "Try using .loc[row_indexer,col_indexer] = value instead\n",
            "\n",
            "See the caveats in the documentation: https://pandas.pydata.org/pandas-docs/stable/user_guide/indexing.html#returning-a-view-versus-a-copy\n",
            "  data.loc[:,'Year'] = data['Date published'].dt.year\n"
          ]
        },
        {
          "output_type": "display_data",
          "data": {
            "text/plain": [
              "<Figure size 1200x800 with 1 Axes>"
            ],
            "image/png": "[encoded data removed]"
          },
          "metadata": {}
        }
      ],
      "source": [
        "# Extract the year from the 'Date published' column\n",
        "data.loc[:,'Year'] = data['Date published'].dt.year\n",
        "\n",
        "# Group the data by year and category\n",
        "grouped_data = data.groupby(['Year', 'Category'], observed=True).size().unstack().fillna(0)\n",
        "\n",
        "# Drop categories with zero frequency\n",
        "grouped_data = grouped_data.loc[:, (grouped_data != 0).any(axis=0)]\n",
        "\n",
        "# Plot the number of articles for each year and category\n",
        "grouped_data.plot(kind='bar', stacked=False, figsize=(12, 8))\n",
        "plt.title('Number of Articles by Year and Category (2020-2023)')\n",
        "plt.xlabel('Year')\n",
        "plt.ylabel('Number of Articles')\n",
        "plt.xticks(rotation=0)\n",
        "plt.legend(title='Category')\n",
        "plt.show()"
      ]
    },
    {
      "cell_type": "markdown",
      "id": "x_DNh6cHz3yc",
      "metadata": {
        "id": "x_DNh6cHz3yc"
      },
      "source": [
        "# **Data Preprocessing**"
      ]
    },
    {
      "cell_type": "markdown",
      "id": "VoEH5A9U0RGo",
      "metadata": {
        "id": "VoEH5A9U0RGo"
      },
      "source": [
        "Original Text"
      ]
    },
    {
      "cell_type": "code",
      "execution_count": 15,
      "id": "bcb4eedb-6992-4d2b-873e-f0f12f9a2039",
      "metadata": {
        "colab": {
          "base_uri": "https://localhost:8080/"
        },
        "id": "bcb4eedb-6992-4d2b-873e-f0f12f9a2039",
        "outputId": "e16a6d17-9470-4bfc-fe2f-9cae30e52c73"
      },
      "outputs": [
        {
          "output_type": "stream",
          "name": "stdout",
          "text": [
            "Total words in original text: 8214570\n",
            "First article text:  (CNN)Right now, there's a shortage of truck drivers in the US and worldwide, exacerbated by the e-commerce boom brought on by the pandemic. One solution to the problem is autonomous trucks, and several companies are in a race to be the first to launch one. Among them is San Diego-based TuSimple.Founded in 2015, TuSimple has completed about 2 million miles of road tests with its 70 prototype trucks across the US, China and Europe. Although these are simply commercially available trucks retrofitted with its technology, TuSimple has deals in place with two of the world's largest truck manufacturers -- Navistar in the US and Traton, Volkswagen's trucking business, in Europe -- to design and build fully autonomous models, which it hopes to launch by 2024. Photos: The Yara Birkeland is what its builders call the world's first zero-emission, autonomous cargo ship. The ship is scheduled to make its first journey between two Norwegian towns before the end of the year. Click through to see more forms of transport set to transform the future.Hide Caption 1 of 13 Photos: Pictured here as a rendering, Oceanbird is a wind-powered transatlantic car carrier that cuts carbon emissions by 90%, compared to a standard car carrier.Hide Caption 2 of 13 Photos: It's not just maritime ships that are going green. Cities around the world are adopting electric ferries. Norwegian startup Zeabuz hopes its self-driving electric ferry (pictured here as a rendering) will help revive urban waterways.Hide Caption 3 of 13 Photos: In China, a new Maglev high-speed train rolls off the production line in Qingdao, east China's Shandong Province, on July 20. It has a top speed of 600 km per hour -- currently the fastest ground vehicle available globally. Hide Caption 4 of 13 Photos: Reaching speeds of up to 1,000 kilometers (620 miles) per hour, Hyperloop could be a sustainable replacement to short-haul flights. Dutch company Hardt (shown here as a rendering) started work on its Hyperloop test facility in Europe, anticipated to open in 2022.Hide Caption 5 of 13 Photos: Hyperloop is like a bullet train, without tracks and rails. Floating pods are propelled through a low-pressure steel tube using magnetic levitation. Virgin has been running tests with passengers on its XP-2 vehicle, pictured here.Hide Caption 6 of 13 Photos: Low carbon travel isn't just about switching to sustainable fuel sources -- it's also about redesigning the transport itself. A \"Flying-V\" plane designed by Delft's University of Technology in the Netherlands and Dutch airline KLM can cut fuel consumption by 20%. Ultimately, researchers hope to switch out the kerosene with a sustainable fuel source, like liquid hydrogen.Hide Caption 7 of 13 Photos: Hydrogen aviation could provide a sustainable solution for short and medium-haul flights. In September, Airbus unveiled plans for three hydrogen-powered, zero-emission aircraft which can carry 100 to 200 passengers. It hopes to launch the first ZEROe aircraft in 2035.Hide Caption 8 of 13 Photos: In December 2019, Canadian airline Harbour Air flew the world's first all-electric, zero-emission commercial aircraft. The six-seater seaplane was retrofitted with magniX's magni500 all-electric motor. Harbour Air -- which carries half a million passengers annually -- hopes to become the world's first all-electric airline. Hide Caption 9 of 13 Photos: In the case of electric bikes, the future is now: one retailer reported the sale of e-bikes and e-scooters had increased 230% this year. E-bikes give the user a boost to their pedaling, allowing them to go further with less effort. E-bikes are now even available on ride-share apps, like Uber.Hide Caption 10 of 13 Photos: While sleeper trains or buses might be the way most of us get some shut-eye on overnight travel, this rendering of a self-driving hotel suite from Toronto-based designer Steve Lee of Aprilli Design Studio might offer a plush alternative in the future.Hide Caption 11 of 13 Photos: In the UAE, these futuristic-looking pods are undergoing testing on a 400-meter line in Sharjah, which borders Dubai. Belarus-based uSky Transport says its pods can help cities solve traffic problems.Hide Caption 12 of 13 Photos: The Coradia iLint by French rail transport company Alstom is the world's first hydrogen-powered passenger train. It began testing in Germany in 2018, and in September 2020 entered regular service in Austria.Hide Caption 13 of 13No sleepTuSimple's latest road test involved hauling fresh produce 951 miles, from Nogales, Arizona to Oklahoma City. The pickup and the dropoff were handled by a human driver, but for the bulk of the route -- from Tucson to Dallas -- the truck drove itself. Read More\"Today, because the system is not fully ready, we have a safety driver and a safety engineer on board at all times when we're testing, but we drove in full autonomy: the driver wasn't touching the wheel,\" said Cheng Lu, TuSimple's president and CEO. The journey was completed in 14 hours versus the usual 24 with a human driver, mostly because a truck doesn't need to sleep. \"In the US, a driver can only work 11 hours a day. We simply had a handoff when our first pair of drivers had to stop because they reached their 11 hours of operation,\" said Lu. That, of course, negates the advantage of an autonomous system, so the idea is that once TuSimple's trucks hit the market, there will be no need to have anyone onboard. Picking up the watermelons still required the human touch.Unlike self-driving cars, which are a still a way from being commercially available, TuSimple trucks won't be required to operate in bustling city traffic, but only on stretches of highway that have been thoroughly mapped via the company's own software. \"We collect data from the roads, and we create this very detailed, high definition map of each route. That adds another layer of safety for the vehicles,\" said Lu. As a result, TuSimple's trucks will only be able to self-drive along these pre-mapped trade corridors, which Lu calls \"virtual railroads,\" and nowhere else. This swarm of robots gets smarter the more it worksAccording to the company, in the US 80% of goods travel through just 10% of the nation's trade corridors, so even selective mapping allows for capturing a large portion of the business. TuSimple is currently mapping routes between Arizona and Texas, and plans to have mapped routes across the nation by 2024. Its plans are dependent on state legislation, however, because currently some states do not allow for testing of autonomous trucks on public roads. Happier drivers?The technology will add about $50,000 to the cost of a truck, making the final price roughly $200,000. According to Lu, that's still cheaper than paying for a human driver. \"If you take $50,000 and divide it by 1 million miles, the average lifespan of a truck, that means you're adding five cents per mile. But you're saving the cost of a human driver, which based on average US wages is about $80,000 to $120,000 per year -- or 80 cents to $1.20 per mile. Today, the direct labor cost is about 50% of the cost of operating a truck,\" he said. Read: A robotic 'Ironhand' could protect factory workers from injuriesThat doesn't mean driverless trucks will take away jobs, according to Lu. By focusing on the \"middle mile,\" rather than on the pickup and delivery of the goods, TuSimple believes it can create new freight capacity without creating new demand for drivers, while at the same time protecting existing jobs. \"A UPS driver is dropping off 200 packages a day -- that's not what autonomy is meant for. We believe that every driver will be able to retire as a driver, even if they enter the workforce today,\" said Lu. TuSimple's autonomous fleet.Instead, TuSimple aims to take over the routes between terminals and distribution centers, which involve long stretches of monotonous driving. \"Take Phoenix to El Paso: that's a six-hour drive. A person cannot make the round trip, because it's more than 11 hours. But the truck can go back and forth all day, the most mundane job that drivers don't want to do. That means you free up that human driver to do the first and the last mile (pickup and delivery).They get to work a full day, which is a more efficient use of their time, and they get to go home at night to their family,\" said Lu.No distractions Although Lu says that the reliability of both the software and the hardware still needs to be increased, TuSimple is planning its first fully autonomous tests, without a human safety driver in the cabin at all, before the end of the year. The results of such tests will indicate whether the company can meet its goal to launch its own trucks by 2024. Lu says that 7,000 have been reserved in the US alone. Photos: The robots running our warehouses Photos: The robots running our warehousesRobots are an increasingly familiar presence in warehouses. At the south-east London warehouse run by British online supermarket Ocado, 3,000 robots fulfill shopping orders. When an order is sent to the warehouse, the bots spring to life and head towards the container they require. Scroll through to see more robots that are revolutionizing warehouses.Hide Caption 1 of 8 Photos: The robots running our warehousesIn response to the coronavirus pandemic, MIT collaborated with Ava Robotics and the Greater Boston Food Bank to design a robot that can use UV light to sanitize the floor of a 4,000-square foot warehouse in just 30 minutes. Hide Caption 2 of 8 Photos: The robots running our warehousesSeven-foot \"Model-T\" robots produced by Japanese startup Telexistence have been stacking shelves in two of Tokyo's largest convenience store franchises. Featuring cameras, microphones and sensors, the Model-T uses three \"fingers\" to stock items such as bottled drinks, cans and rice bowls. The robot is controlled by shop staff remotely.Hide Caption 3 of 8 Photos: The robots running our warehousesUS company Boston Dynamics has become known for its advanced work robots. \"Handle\" is made for the warehouse and equipped with an on-board vision system. It can lift boxes weighing over 30 pounds. Hide Caption 4 of 8 Photos: The robots running our warehousesStretch is the latest robot from Boston Dynamics and can work in warehouses and distribution centers. Designed to keep human workers out of harm's way, Stretch's tentacle-like grippers mean it can manipulate boxes. Hide Caption 5 of 8 Photos: The robots running our warehousesAlthough not specifically designed for warehouses, Boston Dynamics' dog-like robot \"Spot\" can lift objects, pick itself up after a fall, open and walk through doors, and even remind people to practice social distancing. Hide Caption 6 of 8 Photos: The robots running our warehousesThis robot is used to plant seeds and check plants at the \"Nordic Harvest\" vertical farm  based in Taastrup, Denmark. The indoor farm is one of the biggest in Europe.Hide Caption 7 of 8 Photos: The robots running our warehousesRobots sort packages at a warehouse run by JD.com -- one of China's largest e-commerce firms, in Wuhan, China, ahead of the annual Singles Day online shopping bonanza, in 2019.Hide Caption 8 of 8 TuSimple has prominent competitors, such as Google spinoff Waymo and Uber-backed Aurora, but those are working on a wider range of self-driving vehicles, including passenger cars. TuSimple is working exclusively on driverless trucks, like US companies Plus and Embark. Grayson Brulte, an autonomy expert at consulting firm Brulte & Co., believes TuSimple is on the right track. \"The biggest competitive advantage that TuSimple has over its competitors is that their technology was purpose-built for trucking. They're not trying to port an autonomy system built for passenger vehicles in dense urban environments to trucking or to build a virtual driver which can both drive passenger vehicles and class-8 trucks. These are different skills and different systems altogether,\" he said. Removing the human element on long trucking routes has other benefits. The company says its trucks react 15 times faster than human drivers, and can see farther down the road, even at night. \"In the US every year there are about 5,000 fatalities involving trucks, and most are due to human error,\" said Lu. \"The truck doesn't get tired, doesn't watch a movie or look at a phone. It doesn't get distracted.\" \n"
          ]
        }
      ],
      "source": [
        "# Total words in Original Article Text\n",
        "original_word_count = data['Article text'].str.split().str.len().sum()\n",
        "print(f\"Total words in original text: {original_word_count}\")\n",
        "\n",
        "# Display the first 150 characters of the first article text\n",
        "print(f\"First article text: {data['Article text'].iloc[0]}\")"
      ]
    },
    {
      "cell_type": "markdown",
      "id": "Xx2AH3_d0TYe",
      "metadata": {
        "id": "Xx2AH3_d0TYe"
      },
      "source": [
        "Cleaning Text"
      ]
    },
    {
      "cell_type": "code",
      "execution_count": 16,
      "id": "5f1ebbc7-0ce9-4459-8276-a11eb1e43408",
      "metadata": {
        "colab": {
          "base_uri": "https://localhost:8080/"
        },
        "id": "5f1ebbc7-0ce9-4459-8276-a11eb1e43408",
        "outputId": "e9464217-ddd2-45dc-f7bc-259ee3d1c9ea"
      },
      "outputs": [
        {
          "output_type": "stream",
          "name": "stdout",
          "text": [
            "Cleaned article text:  right now there is a shortage of truck drivers in the us and worldwide exacerbated by the ecommerce boom brought on by the pandemic one solution to the problem is autonomous trucks and several companies are in a race to be the first to launch one among them is san diegobased tusimplefounded in  tusimple has completed about  million miles of road tests with its  prototype trucks across the us china and europe although these are simply commercially available trucks retrofitted with its technology tusimple has deals in place with two of the worlds largest truck manufacturers navistar in the us and traton volkswagens trucking business in europe to design and build fully autonomous models which it hopes to launch by  photos the yara birkeland is what its builders call the worlds first zeroemission autonomous cargo ship the ship is scheduled to make its first journey between two norwegian towns before the end of the year click through to see more forms of transport set to transform the future pictured here as a rendering oceanbird is a windpowered transatlantic car carrier that cuts carbon emissions by  compared to a standard car carrier it is not just maritime ships that are going green cities around the world are adopting electric ferries norwegian startup zeabuz hopes its selfdriving electric ferry will help revive urban waterways in china a new maglev highspeed train rolls off the production line in qingdao east chinas shandong province on july  it has a top speed of  km per hour currently the fastest ground vehicle available globally reaching speeds of up to  kilometers per hour hyperloop could be a sustainable replacement to shorthaul flights dutch company hardt started work on its hyperloop test facility in europe anticipated to open in  hyperloop is like a bullet train without tracks and rails floating pods are propelled through a lowpressure steel tube using magnetic levitation virgin has been running tests with passengers on its xp vehicle pictured here low carbon travel is not just about switching to sustainable fuel sources it is also about redesigning the transport itself a flyingv plane designed by delfts university of technology in the netherlands and dutch airline klm can cut fuel consumption by  ultimately researchers hope to switch out the kerosene with a sustainable fuel source like liquid hydrogen hydrogen aviation could provide a sustainable solution for short and mediumhaul flights in september airbus unveiled plans for three hydrogenpowered zeroemission aircraft which can carry  to  passengers it hopes to launch the first zeroe aircraft in  in december  canadian airline harbour air flew the worlds first allelectric zeroemission commercial aircraft the sixseater seaplane was retrofitted with magnixs magni allelectric motor harbour air which carries half a million passengers annually hopes to become the worlds first allelectric airline in the case of electric bikes the future is now one retailer reported the sale of ebikes and escooters had increased  this year ebikes give the user a boost to their pedaling allowing them to go further with less effort ebikes are now even available on rideshare apps like uber while sleeper trains or buses might be the way most of us get some shuteye on overnight travel this rendering of a selfdriving hotel suite from torontobased designer steve lee of aprilli design studio might offer a plush alternative in the future in the uae these futuristiclooking pods are undergoing testing on a meter line in sharjah which borders dubai belarusbased usky transport says its pods can help cities solve traffic problems the coradia ilint by french rail transport company alstom is the worlds first hydrogenpowered passenger train it began testing in germany in  and in september  entered regular service in austria the robots running our warehouses photos the robots running our warehousesrobots are an increasingly familiar presence in warehouses at the southeast london warehouse run by british online supermarket ocado  robots fulfill shopping orders when an order is sent to the warehouse the bots spring to life and head towards the container they require scroll through to see more robots that are revolutionizing warehouses the robots running our warehousesin response to the coronavirus pandemic mit collaborated with ava robotics and the greater boston food bank to design a robot that can use uv light to sanitize the floor of a square foot warehouse in just  minutes the robots running our warehousessevenfoot modelt robots produced by japanese startup telexistence have been stacking shelves in two of tokyos largest convenience store franchises featuring cameras microphones and sensors the modelt uses three fingers to stock items such as bottled drinks cans and rice bowls the robot is controlled by shop staff remotely the robots running our warehousesus company boston dynamics has become known for its advanced work robots handle is made for the warehouse and equipped with an onboard vision system it can lift boxes weighing over  pounds the robots running our warehousesstretch is the latest robot from boston dynamics and can work in warehouses and distribution centers designed to keep human workers out of harms way stretchs tentaclelike grippers mean it can manipulate boxes the robots running our warehousesalthough not specifically designed for warehouses boston dynamics doglike robot spot can lift objects pick itself up after a fall open and walk through doors and even remind people to practice social distancing the robots running our warehousesthis robot is used to plant seeds and check plants at the nordic harvest vertical farm based in taastrup denmark the indoor farm is one of the biggest in europe the robots running our warehousesrobots sort packages at a warehouse run by jdcom one of chinas largest ecommerce firms in wuhan china ahead of the annual singles day online shopping bonanza in hide caption  of  tusimple has prominent competitors such as google spinoff waymo and uberbacked aurora but those are working on a wider range of selfdriving vehicles including passenger cars tusimple is working exclusively on driverless trucks like us companies plus and embark grayson brulte an autonomy expert at consulting firm brulte co believes tusimple is on the right track the biggest competitive advantage that tusimple has over its competitors is that their technology was purposebuilt for trucking they are not trying to port an autonomy system built for passenger vehicles in dense urban environments to trucking or to build a virtual driver which can both drive passenger vehicles and class trucks these are different skills and different systems altogether he said removing the human element on long trucking routes has other benefits the company says its trucks react  times faster than human drivers and can see farther down the road even at night in the us every year there are about  fatalities involving trucks and most are due to human error said lu the truck does not get tired does not watch a movie or look at a phone it does not get distracted \n"
          ]
        },
        {
          "output_type": "stream",
          "name": "stderr",
          "text": [
            "<ipython-input-16-e0e669d38246>:16: SettingWithCopyWarning: \n",
            "A value is trying to be set on a copy of a slice from a DataFrame.\n",
            "Try using .loc[row_indexer,col_indexer] = value instead\n",
            "\n",
            "See the caveats in the documentation: https://pandas.pydata.org/pandas-docs/stable/user_guide/indexing.html#returning-a-view-versus-a-copy\n",
            "  data['Cleaned Article Text'] = data['Article text'].apply(preprocess_text)\n"
          ]
        }
      ],
      "source": [
        "# Preprocessing function\n",
        "def preprocess_text(text):\n",
        "    text = contractions.fix(text)  # Expand contractions\n",
        "    text = re.sub(r'\\(.*?\\)', '', text)  # Remove text in parentheses\n",
        "    text = re.sub(r'\\bcnn\\b', '', text, flags=re.IGNORECASE)  # Remove CNN mentions\n",
        "    text = re.sub(r'Hide Caption.*?Photos:', '', text)  # Remove captions and boilerplate\n",
        "    text = re.sub(r'Read More', '', text)  # Remove \"Read More\" boilerplate\n",
        "    text = text.lower()  # Lowercase the text\n",
        "    text = text.translate(str.maketrans('', '', string.punctuation))  # Remove punctuation\n",
        "    text = re.sub(r'\\s+', ' ', text)  # Remove extra whitespace\n",
        "    text = re.sub(r'[^a-zA-Z\\s]', '', text)  # Remove non-alphanumeric characters\n",
        "    return text\n",
        "\n",
        "\n",
        "# Apply preprocessing\n",
        "data['Cleaned Article Text'] = data['Article text'].apply(preprocess_text)\n",
        "print (f\"Cleaned article text: {data['Cleaned Article Text'].iloc[0]}\")"
      ]
    },
    {
      "cell_type": "code",
      "execution_count": 17,
      "id": "9M3b5xv40cMO",
      "metadata": {
        "colab": {
          "base_uri": "https://localhost:8080/"
        },
        "id": "9M3b5xv40cMO",
        "outputId": "3912ce72-2625-4f32-9d40-c987317cbb20"
      },
      "outputs": [
        {
          "output_type": "stream",
          "name": "stdout",
          "text": [
            "Total words after preprocessing: 7944007\n"
          ]
        }
      ],
      "source": [
        "# Cleaned Article Text\n",
        "cleaned_word_count = data['Cleaned Article Text'].str.split().str.len().sum()\n",
        "print(f\"Total words after preprocessing: {cleaned_word_count}\")\n"
      ]
    },
    {
      "cell_type": "markdown",
      "id": "pae_l-8O1Cf8",
      "metadata": {
        "id": "pae_l-8O1Cf8"
      },
      "source": [
        "Removing Stopwords"
      ]
    },
    {
      "cell_type": "code",
      "execution_count": 18,
      "id": "e2d8f496-0a8c-4f99-80ed-d86a0d092b30",
      "metadata": {
        "colab": {
          "base_uri": "https://localhost:8080/"
        },
        "id": "e2d8f496-0a8c-4f99-80ed-d86a0d092b30",
        "outputId": "defdecee-f8a4-4902-f603-81686a729823"
      },
      "outputs": [
        {
          "output_type": "stream",
          "name": "stdout",
          "text": [
            "Stopwords removed article text: right shortage truck drivers us worldwide exacerbated ecommerce boom brought pandemic one solution problem autonomous trucks several companies race first launch one among san diegobased tusimplefounded tusimple completed million miles road tests prototype trucks across us china europe although simply commercially available trucks retrofitted technology tusimple deals place two worlds largest truck manufacturers navistar us traton volkswagens trucking business europe design build fully autonomous models hopes launch photos yara birkeland builders call worlds first zeroemission autonomous cargo ship ship scheduled make first journey two norwegian towns end year click see forms transport set transform future pictured rendering oceanbird windpowered transatlantic car carrier cuts carbon emissions compared standard car carrier maritime ships going green cities around world adopting electric ferries norwegian startup zeabuz hopes selfdriving electric ferry help revive urban waterways china new maglev highspeed train rolls production line qingdao east chinas shandong province july top speed km per hour currently fastest ground vehicle available globally reaching speeds kilometers per hour hyperloop could sustainable replacement shorthaul flights dutch company hardt started work hyperloop test facility europe anticipated open hyperloop like bullet train without tracks rails floating pods propelled lowpressure steel tube using magnetic levitation virgin running tests passengers xp vehicle pictured low carbon travel switching sustainable fuel sources also redesigning transport flyingv plane designed delfts university technology netherlands dutch airline klm cut fuel consumption ultimately researchers hope switch kerosene sustainable fuel source like liquid hydrogen hydrogen aviation could provide sustainable solution short mediumhaul flights september airbus unveiled plans three hydrogenpowered zeroemission aircraft carry passengers hopes launch first zeroe aircraft december canadian airline harbour air flew worlds first allelectric zeroemission commercial aircraft sixseater seaplane retrofitted magnixs magni allelectric motor harbour air carries half million passengers annually hopes become worlds first allelectric airline case electric bikes future one retailer reported sale ebikes escooters increased year ebikes give user boost pedaling allowing go less effort ebikes even available rideshare apps like uber sleeper trains buses might way us get shuteye overnight travel rendering selfdriving hotel suite torontobased designer steve lee aprilli design studio might offer plush alternative future uae futuristiclooking pods undergoing testing meter line sharjah borders dubai belarusbased usky transport says pods help cities solve traffic problems coradia ilint french rail transport company alstom worlds first hydrogenpowered passenger train began testing germany september entered regular service austria robots running warehouses photos robots running warehousesrobots increasingly familiar presence warehouses southeast london warehouse run british online supermarket ocado robots fulfill shopping orders order sent warehouse bots spring life head towards container require scroll see robots revolutionizing warehouses robots running warehousesin response coronavirus pandemic mit collaborated ava robotics greater boston food bank design robot use uv light sanitize floor square foot warehouse minutes robots running warehousessevenfoot modelt robots produced japanese startup telexistence stacking shelves two tokyos largest convenience store franchises featuring cameras microphones sensors modelt uses three fingers stock items bottled drinks cans rice bowls robot controlled shop staff remotely robots running warehousesus company boston dynamics become known advanced work robots handle made warehouse equipped onboard vision system lift boxes weighing pounds robots running warehousesstretch latest robot boston dynamics work warehouses distribution centers designed keep human workers harms way stretchs tentaclelike grippers mean manipulate boxes robots running warehousesalthough specifically designed warehouses boston dynamics doglike robot spot lift objects pick fall open walk doors even remind people practice social distancing robots running warehousesthis robot used plant seeds check plants nordic harvest vertical farm based taastrup denmark indoor farm one biggest europe robots running warehousesrobots sort packages warehouse run jdcom one chinas largest ecommerce firms wuhan china ahead annual singles day online shopping bonanza hide caption tusimple prominent competitors google spinoff waymo uberbacked aurora working wider range selfdriving vehicles including passenger cars tusimple working exclusively driverless trucks like us companies plus embark grayson brulte autonomy expert consulting firm brulte co believes tusimple right track biggest competitive advantage tusimple competitors technology purposebuilt trucking trying port autonomy system built passenger vehicles dense urban environments trucking build virtual driver drive passenger vehicles class trucks different skills different systems altogether said removing human element long trucking routes benefits company says trucks react times faster human drivers see farther road even night us every year fatalities involving trucks due human error said lu truck get tired watch movie look phone get distracted\n"
          ]
        },
        {
          "output_type": "stream",
          "name": "stderr",
          "text": [
            "<ipython-input-18-db6b0b5ddff3>:8: SettingWithCopyWarning: \n",
            "A value is trying to be set on a copy of a slice from a DataFrame.\n",
            "Try using .loc[row_indexer,col_indexer] = value instead\n",
            "\n",
            "See the caveats in the documentation: https://pandas.pydata.org/pandas-docs/stable/user_guide/indexing.html#returning-a-view-versus-a-copy\n",
            "  data['Cleaned Article Text'] = data['Cleaned Article Text'].apply(lambda x: remove_stopwords(x, stop_words))\n"
          ]
        }
      ],
      "source": [
        "# Define stopwords, including custom ones\n",
        "stop_words = set(stopwords.words('english'))\n",
        "\n",
        "# Removing Stop Words\n",
        "def remove_stopwords(text, stop_words):\n",
        "    return \" \".join([word for word in text.split() if word not in stop_words])\n",
        "\n",
        "data['Cleaned Article Text'] = data['Cleaned Article Text'].apply(lambda x: remove_stopwords(x, stop_words))\n",
        "print (f\"Stopwords removed article text: {data['Cleaned Article Text'].iloc[0]}\")"
      ]
    },
    {
      "cell_type": "code",
      "execution_count": 19,
      "id": "czfNnymg06aT",
      "metadata": {
        "colab": {
          "base_uri": "https://localhost:8080/"
        },
        "id": "czfNnymg06aT",
        "outputId": "8024644f-1e34-4cec-e0a0-5b905bbe6d5b"
      },
      "outputs": [
        {
          "output_type": "stream",
          "name": "stdout",
          "text": [
            "Total words after removing stop words: 4555951\n"
          ]
        }
      ],
      "source": [
        "# Total words After Removing Stop Words\n",
        "stopwords_removed_word_count = data['Cleaned Article Text'].apply(lambda x: remove_stopwords(x, stop_words)).str.split().str.len().sum()\n",
        "print(f\"Total words after removing stop words: {stopwords_removed_word_count}\")"
      ]
    },
    {
      "cell_type": "code",
      "execution_count": 20,
      "id": "1d01c75e-76f8-4802-ab66-b21aef8fce88",
      "metadata": {
        "colab": {
          "base_uri": "https://localhost:8080/"
        },
        "id": "1d01c75e-76f8-4802-ab66-b21aef8fce88",
        "outputId": "6c18ad30-fe85-4518-c9c5-b226f0dfefbb"
      },
      "outputs": [
        {
          "output_type": "stream",
          "name": "stdout",
          "text": [
            "\n",
            "Top 20 most frequent words:\n",
            "said: 49883\n",
            "people: 20718\n",
            "us: 18736\n",
            "would: 17891\n",
            "new: 16232\n",
            "coronavirus: 15698\n",
            "one: 15321\n",
            "also: 15300\n",
            "president: 11789\n",
            "told: 11779\n",
            "could: 11770\n",
            "according: 11037\n",
            "first: 10452\n",
            "russia: 10218\n",
            "time: 10203\n",
            "state: 10105\n",
            "police: 9894\n",
            "last: 9430\n",
            "trump: 9392\n",
            "two: 9315\n"
          ]
        }
      ],
      "source": [
        "# Combine all cleaned text into a single string\n",
        "all_cleaned_text = ' '.join(data['Cleaned Article Text'].tolist())\n",
        "\n",
        "# Split the cleaned text into words\n",
        "words = all_cleaned_text.split()\n",
        "\n",
        "# Get the top 20 most frequent words\n",
        "word_counts = Counter(words)\n",
        "most_common_words = word_counts.most_common(20)\n",
        "\n",
        "# Display the top 20 most frequent words\n",
        "print(\"\\nTop 20 most frequent words:\")\n",
        "for word, count in most_common_words:\n",
        "    print(f\"{word}: {count}\")"
      ]
    },
    {
      "cell_type": "code",
      "execution_count": 21,
      "id": "b85f6181-cd9e-43f8-bda7-125620aa44ce",
      "metadata": {
        "colab": {
          "base_uri": "https://localhost:8080/",
          "height": 771
        },
        "id": "b85f6181-cd9e-43f8-bda7-125620aa44ce",
        "outputId": "45373224-6442-4b8f-c366-a783052396ce"
      },
      "outputs": [
        {
          "output_type": "display_data",
          "data": {
            "text/plain": [
              "<Figure size 800x800 with 1 Axes>"
            ],
            "image/png": "[encoded data removed]"
          },
          "metadata": {}
        }
      ],
      "source": [
        "# Create a bar chart for the top 20 most frequent words\n",
        "words, counts = zip(*most_common_words)\n",
        "plt.figure(figsize=(8, 8))\n",
        "plt.bar(words, counts, color='blue')\n",
        "plt.title('Top 20 Most Frequent Words')\n",
        "plt.xlabel('Words')\n",
        "plt.ylabel('Frequency')\n",
        "plt.xticks(rotation=45)\n",
        "plt.show()"
      ]
    },
    {
      "cell_type": "code",
      "execution_count": 22,
      "id": "24c0b641-af9b-462d-9fab-6bcb61faae52",
      "metadata": {
        "colab": {
          "base_uri": "https://localhost:8080/"
        },
        "id": "24c0b641-af9b-462d-9fab-6bcb61faae52",
        "outputId": "63b826fb-1f91-4391-d6c8-ca047a9db211"
      },
      "outputs": [
        {
          "output_type": "stream",
          "name": "stdout",
          "text": [
            "Custom stopwords removed article text: right shortage truck drivers us worldwide exacerbated ecommerce boom brought pandemic one solution problem autonomous trucks several companies race launch one among san diegobased tusimplefounded tusimple completed million miles road tests prototype trucks across us china europe although simply commercially available trucks retrofitted technology tusimple deals place two worlds largest truck manufacturers navistar us traton volkswagens trucking business europe design build fully autonomous models hopes launch photos yara birkeland builders call worlds zeroemission autonomous cargo ship ship scheduled journey two norwegian towns end click forms transport set transform future pictured rendering oceanbird windpowered transatlantic car carrier cuts carbon emissions compared standard car carrier maritime ships going green cities around world adopting electric ferries norwegian startup zeabuz hopes selfdriving electric ferry help revive urban waterways china maglev highspeed train rolls production line qingdao east chinas shandong province july top speed km per hour currently fastest ground vehicle available globally reaching speeds kilometers per hour hyperloop sustainable replacement shorthaul flights dutch company hardt started hyperloop test facility europe anticipated open hyperloop like bullet train without tracks rails floating pods propelled lowpressure steel tube using magnetic levitation virgin running tests passengers xp vehicle pictured low carbon travel switching sustainable fuel sources redesigning transport flyingv plane designed delfts university technology netherlands dutch airline klm cut fuel consumption ultimately researchers hope switch kerosene sustainable fuel source like liquid hydrogen hydrogen aviation provide sustainable solution short mediumhaul flights september airbus unveiled plans three hydrogenpowered zeroemission aircraft carry passengers hopes launch zeroe aircraft december canadian airline harbour air flew worlds allelectric zeroemission commercial aircraft sixseater seaplane retrofitted magnixs magni allelectric motor harbour air carries half million passengers annually hopes become worlds allelectric airline case electric bikes future one retailer reported sale ebikes escooters increased ebikes user boost pedaling allowing less effort ebikes available rideshare apps like uber sleeper trains buses might us shuteye overnight travel rendering selfdriving hotel suite torontobased designer steve lee aprilli design studio might offer plush alternative future uae futuristiclooking pods undergoing testing meter line sharjah borders dubai belarusbased usky transport says pods help cities solve traffic problems coradia ilint french rail transport company alstom worlds hydrogenpowered passenger train began testing germany september entered regular service austria robots running warehouses photos robots running warehousesrobots increasingly familiar presence warehouses southeast london warehouse run british online supermarket ocado robots fulfill shopping orders order sent warehouse bots spring life head towards container require scroll robots revolutionizing warehouses robots running warehousesin response coronavirus pandemic mit collaborated ava robotics greater boston food bank design robot use uv light sanitize floor square foot warehouse minutes robots running warehousessevenfoot modelt robots produced japanese startup telexistence stacking shelves two tokyos largest convenience store franchises featuring cameras microphones sensors modelt uses three fingers stock items bottled drinks cans rice bowls robot controlled shop staff remotely robots running warehousesus company boston dynamics become known advanced robots handle made warehouse equipped onboard vision system lift boxes weighing pounds robots running warehousesstretch latest robot boston dynamics warehouses distribution centers designed keep human workers harms stretchs tentaclelike grippers mean manipulate boxes robots running warehousesalthough specifically designed warehouses boston dynamics doglike robot spot lift objects pick fall open walk doors remind practice social distancing robots running warehousesthis robot used plant seeds check plants nordic harvest vertical farm based taastrup denmark indoor farm one biggest europe robots running warehousesrobots sort packages warehouse run jdcom one chinas largest ecommerce firms wuhan china ahead annual singles online shopping bonanza hide caption tusimple prominent competitors google spinoff waymo uberbacked aurora working wider range selfdriving vehicles including passenger cars tusimple working exclusively driverless trucks like us companies plus embark grayson brulte autonomy expert consulting firm brulte co believes tusimple right track biggest competitive advantage tusimple competitors technology purposebuilt trucking trying port autonomy system built passenger vehicles dense urban environments trucking build virtual driver drive passenger vehicles class trucks different skills different systems altogether removing human element trucking routes benefits company says trucks react times faster human drivers farther road night us every fatalities involving trucks due human error lu truck tired watch movie phone distracted\n"
          ]
        },
        {
          "output_type": "stream",
          "name": "stderr",
          "text": [
            "<ipython-input-22-f70fb7184a85>:9: SettingWithCopyWarning: \n",
            "A value is trying to be set on a copy of a slice from a DataFrame.\n",
            "Try using .loc[row_indexer,col_indexer] = value instead\n",
            "\n",
            "See the caveats in the documentation: https://pandas.pydata.org/pandas-docs/stable/user_guide/indexing.html#returning-a-view-versus-a-copy\n",
            "  data['Cleaned Article Text'] = data['Cleaned Article Text'].apply(lambda x: remove_stopwords(x, stop_words))\n"
          ]
        }
      ],
      "source": [
        "# Define custom stopwords\n",
        "custom_stop_words = {'said', 'could', 'would', 'also', 'people', 'told', 'go', 'say', 'time', 'get', 'make', 'see', 'want', 'year', 'think', 'take', 'know', 'come', 'even', 'work', 'back', 'way', 'live', 'feel', 'thing', 'give', 'look', 'much', 'day', 'still', 'first', 'good', 'happen', 'long', 'well', 'need', 'new'}\n",
        "stop_words.update(custom_stop_words)\n",
        "\n",
        "# Removing Stop Words including the custom ones\n",
        "def remove_stopwords(text, stop_words):\n",
        "    return \" \".join([word for word in text.split() if word not in stop_words])\n",
        "\n",
        "data['Cleaned Article Text'] = data['Cleaned Article Text'].apply(lambda x: remove_stopwords(x, stop_words))\n",
        "print(f\"Custom stopwords removed article text: {data['Cleaned Article Text'].iloc[0]}\")\n",
        "\n"
      ]
    },
    {
      "cell_type": "code",
      "execution_count": 23,
      "id": "u__MJvUQ1APK",
      "metadata": {
        "colab": {
          "base_uri": "https://localhost:8080/"
        },
        "id": "u__MJvUQ1APK",
        "outputId": "618abd1f-c720-41a4-d98e-8af34ca3d8b3"
      },
      "outputs": [
        {
          "output_type": "stream",
          "name": "stdout",
          "text": [
            "Total words after removing custom stop words: 4270725\n"
          ]
        }
      ],
      "source": [
        "# Total words After Custom Stop Words Removal\n",
        "custom_stopwords_removed_word_count = data['Cleaned Article Text'].apply(lambda x: remove_stopwords(x, custom_stop_words)).str.split().str.len().sum()\n",
        "print(f\"Total words after removing custom stop words: {custom_stopwords_removed_word_count}\")"
      ]
    },
    {
      "cell_type": "code",
      "execution_count": 24,
      "id": "c6026327-0e9e-445b-8465-4e392a5be8e6",
      "metadata": {
        "colab": {
          "base_uri": "https://localhost:8080/"
        },
        "id": "c6026327-0e9e-445b-8465-4e392a5be8e6",
        "outputId": "328e2ed2-fb73-4edf-eb47-19d1373cac16"
      },
      "outputs": [
        {
          "output_type": "stream",
          "name": "stdout",
          "text": [
            "\n",
            "New Top 20 most frequent words after removing stop words:\n",
            "us: 18736\n",
            "coronavirus: 15698\n",
            "one: 15321\n",
            "president: 11789\n",
            "according: 11037\n",
            "russia: 10218\n",
            "state: 10105\n",
            "police: 9894\n",
            "last: 9430\n",
            "trump: 9392\n",
            "two: 9315\n",
            "covid: 8969\n",
            "like: 8921\n",
            "years: 8606\n",
            "government: 8460\n",
            "many: 8456\n",
            "russian: 7808\n",
            "house: 7602\n",
            "country: 7593\n",
            "may: 7507\n"
          ]
        }
      ],
      "source": [
        "# Combine all cleaned text into a single string after removing stop words\n",
        "all_cleaned_text = ' '.join(data['Cleaned Article Text'].tolist())\n",
        "\n",
        "# Split the cleaned text into words\n",
        "words = all_cleaned_text.split()\n",
        "\n",
        "# Get the new top 20 most frequent words after removing stop words\n",
        "word_counts = Counter(words)\n",
        "most_common_words = word_counts.most_common(20)\n",
        "\n",
        "# Display the new top 20 most frequent words\n",
        "print(\"\\nNew Top 20 most frequent words after removing stop words:\")\n",
        "for word, count in most_common_words:\n",
        "    print(f\"{word}: {count}\")"
      ]
    },
    {
      "cell_type": "code",
      "execution_count": 25,
      "id": "7b446af4-8c01-4794-b41e-3bc854fc6195",
      "metadata": {
        "colab": {
          "base_uri": "https://localhost:8080/",
          "height": 774
        },
        "id": "7b446af4-8c01-4794-b41e-3bc854fc6195",
        "outputId": "7a46f0dc-d3e0-424a-cf28-ea5e25094901"
      },
      "outputs": [
        {
          "output_type": "display_data",
          "data": {
            "text/plain": [
              "<Figure size 1200x800 with 1 Axes>"
            ],
            "image/png": "[encoded data removed]"
          },
          "metadata": {}
        }
      ],
      "source": [
        "# Create a bar chart for the new top 20 most frequent words\n",
        "words, counts = zip(*most_common_words)\n",
        "plt.figure(figsize=(12, 8))\n",
        "plt.bar(words, counts, color='blue')\n",
        "plt.title('Top 20 Most Frequent Words After Removing Custom Stop Words')\n",
        "plt.xlabel('Words')\n",
        "plt.ylabel('Frequency')\n",
        "plt.xticks(rotation=45)\n",
        "plt.show()"
      ]
    },
    {
      "cell_type": "markdown",
      "source": [
        "Stemming"
      ],
      "metadata": {
        "id": "5Uo1ArkwF7N5"
      },
      "id": "5Uo1ArkwF7N5"
    },
    {
      "cell_type": "code",
      "source": [
        "# Stemming\n",
        "def stemming(texts):\n",
        "    \"\"\"Stem the texts using NLTK's PorterStemmer\"\"\"\n",
        "    stemmer = PorterStemmer()\n",
        "    return [' '.join([stemmer.stem(word) for word in text.split()]) for text in texts]\n",
        "\n",
        "# Apply stemming to cleaned texts\n",
        "stemmed_texts = stemming(data['Cleaned Article Text'])\n",
        "print(f\"Stemmed Texts: {stemmed_texts[0]}\")"
      ],
      "metadata": {
        "colab": {
          "base_uri": "https://localhost:8080/"
        },
        "id": "PT4QDM7rLDuj",
        "outputId": "4e887f11-3f60-46a4-8408-70467a194854"
      },
      "id": "PT4QDM7rLDuj",
      "execution_count": 26,
      "outputs": [
        {
          "output_type": "stream",
          "name": "stdout",
          "text": [
            "Stemmed Texts: right shortag truck driver us worldwid exacerb ecommerc boom brought pandem one solut problem autonom truck sever compani race launch one among san diegobas tusimplefound tusimpl complet million mile road test prototyp truck across us china europ although simpli commerci avail truck retrofit technolog tusimpl deal place two world largest truck manufactur navistar us traton volkswagen truck busi europ design build fulli autonom model hope launch photo yara birkeland builder call world zeroemiss autonom cargo ship ship schedul journey two norwegian town end click form transport set transform futur pictur render oceanbird windpow transatlant car carrier cut carbon emiss compar standard car carrier maritim ship go green citi around world adopt electr ferri norwegian startup zeabuz hope selfdriv electr ferri help reviv urban waterway china maglev highspe train roll product line qingdao east china shandong provinc juli top speed km per hour current fastest ground vehicl avail global reach speed kilomet per hour hyperloop sustain replac shorthaul flight dutch compani hardt start hyperloop test facil europ anticip open hyperloop like bullet train without track rail float pod propel lowpressur steel tube use magnet levit virgin run test passeng xp vehicl pictur low carbon travel switch sustain fuel sourc redesign transport flyingv plane design delft univers technolog netherland dutch airlin klm cut fuel consumpt ultim research hope switch kerosen sustain fuel sourc like liquid hydrogen hydrogen aviat provid sustain solut short mediumhaul flight septemb airbu unveil plan three hydrogenpow zeroemiss aircraft carri passeng hope launch zero aircraft decemb canadian airlin harbour air flew world allelectr zeroemiss commerci aircraft sixseat seaplan retrofit magnix magni allelectr motor harbour air carri half million passeng annual hope becom world allelectr airlin case electr bike futur one retail report sale ebik escoot increas ebik user boost pedal allow less effort ebik avail rideshar app like uber sleeper train buse might us shutey overnight travel render selfdriv hotel suit torontobas design steve lee aprilli design studio might offer plush altern futur uae futuristiclook pod undergo test meter line sharjah border dubai belarusbas uski transport say pod help citi solv traffic problem coradia ilint french rail transport compani alstom world hydrogenpow passeng train began test germani septemb enter regular servic austria robot run warehous photo robot run warehousesrobot increasingli familiar presenc warehous southeast london warehous run british onlin supermarket ocado robot fulfil shop order order sent warehous bot spring life head toward contain requir scroll robot revolution warehous robot run warehousesin respons coronaviru pandem mit collabor ava robot greater boston food bank design robot use uv light sanit floor squar foot warehous minut robot run warehousessevenfoot modelt robot produc japanes startup telexist stack shelv two tokyo largest conveni store franchis featur camera microphon sensor modelt use three finger stock item bottl drink can rice bowl robot control shop staff remot robot run warehousesu compani boston dynam becom known advanc robot handl made warehous equip onboard vision system lift box weigh pound robot run warehousesstretch latest robot boston dynam warehous distribut center design keep human worker harm stretch tentaclelik gripper mean manipul box robot run warehousesalthough specif design warehous boston dynam doglik robot spot lift object pick fall open walk door remind practic social distanc robot run warehousesthi robot use plant seed check plant nordic harvest vertic farm base taastrup denmark indoor farm one biggest europ robot run warehousesrobot sort packag warehous run jdcom one china largest ecommerc firm wuhan china ahead annual singl onlin shop bonanza hide caption tusimpl promin competitor googl spinoff waymo uberback aurora work wider rang selfdriv vehicl includ passeng car tusimpl work exclus driverless truck like us compani plu embark grayson brult autonomi expert consult firm brult co believ tusimpl right track biggest competit advantag tusimpl competitor technolog purposebuilt truck tri port autonomi system built passeng vehicl dens urban environ truck build virtual driver drive passeng vehicl class truck differ skill differ system altogeth remov human element truck rout benefit compani say truck react time faster human driver farther road night us everi fatal involv truck due human error lu truck tire watch movi phone distract\n"
          ]
        }
      ]
    },
    {
      "cell_type": "code",
      "source": [
        "# Total words after stemming\n",
        "stemmed_word_count = pd.Series(stemmed_texts).str.split().str.len().sum()\n",
        "print(f\"Total words after stemming: {stemmed_word_count}\")"
      ],
      "metadata": {
        "colab": {
          "base_uri": "https://localhost:8080/"
        },
        "id": "6BZPoiR3LHcj",
        "outputId": "b64ed900-e82d-4333-8d83-fa49af500151"
      },
      "id": "6BZPoiR3LHcj",
      "execution_count": 27,
      "outputs": [
        {
          "output_type": "stream",
          "name": "stdout",
          "text": [
            "Total words after stemming: 4270725\n"
          ]
        }
      ]
    },
    {
      "cell_type": "markdown",
      "id": "yU6J3ltcye17",
      "metadata": {
        "id": "yU6J3ltcye17"
      },
      "source": [
        "Lemmatization"
      ]
    },
    {
      "cell_type": "code",
      "execution_count": 28,
      "id": "b8d19885-2696-4c4a-9f54-87c95ff8d67d",
      "metadata": {
        "id": "b8d19885-2696-4c4a-9f54-87c95ff8d67d"
      },
      "outputs": [],
      "source": [
        "def lemmatization(texts, allowed_postags=['NOUN', 'ADJ', 'VERB', 'ADV']):\n",
        "    \"\"\"Lemmatize the texts using spacy, keeping only specified part-of-speech tags\"\"\"\n",
        "    nlp= spacy.load(\"en_core_web_sm\", disable=['parser', 'ner'])\n",
        "    texts_out = []\n",
        "    for text in texts:\n",
        "        doc = nlp(text)\n",
        "        new_text = []\n",
        "        for token in doc:\n",
        "          if token.pos_ in allowed_postags:\n",
        "             new_text.append(token.lemma_ )\n",
        "        final = \" \".join(new_text)\n",
        "        texts_out.append(final)\n",
        "    return (texts_out)"
      ]
    },
    {
      "cell_type": "code",
      "execution_count": 29,
      "id": "f6e30712-b2f3-41af-84d3-21dace08028e",
      "metadata": {
        "colab": {
          "base_uri": "https://localhost:8080/"
        },
        "id": "f6e30712-b2f3-41af-84d3-21dace08028e",
        "outputId": "10f31f96-3e9c-4f9f-ddc4-f384646a6898"
      },
      "outputs": [
        {
          "output_type": "stream",
          "name": "stdout",
          "text": [
            "Lemmatized Texts: right shortag truck driver worldwid exacerb boom bring solut problem truck sever compani race launch tusimpl mile road test prototyp truck commerci avail truck retrofit technolog tusimpl deal place world large truck manufactur navistar truck busi europ design builder call world ship ship schedul journey norwegian town end click form transport set transform futur pictur render transatlant car carrier standard car carrier ship go green world adopt electr startup roll product line top speed km hour current fast ground vehicl speed kilomet hour hyperloop sustain replac flight start hyperloop test facil europ open hyperloop bullet train track rail float tube use low carbon travel switch sustain fuel sourc redesign plane design delft univer technolog cut fuel kerosen sustain fuel sourc liquid hydrogen sustain solut short flight septemb plan hydrogenpow aircraft decemb canadian fly harbour half annual case electr bike retail report sale pedal allow less effort train buse shutey overnight travel render selfdriv suit design studio offer plush altern test meter line uski transport say help citi solv traffic problem ilint french rail begin enter regular run warehous photo robot run familiar presenc warehous warehous run british supermarket robot shop order order send warehous bot spring life head contain requir scroll robot robot warehousesin respon great design robot use uv sanit floor squar foot warehous startup telexist large conveni store featur camera microphon sensor modelt use finger stock drink rice remot robot make warehous equip vision lift pound robot run warehousesstretch late robot center design keep human worker harm stretch gripper run warehous lift object pick fall open walk door remind practic social robot run robot use plant seed check plant nordic harvest vertic farm base taastrup denmark indoor farm big europ robot run sort packag warehous run large ecommerc firm ahead annual singl shop bonanza hide caption tusimpl promin competitor googl spinoff work car tusimpl work exclus driverless truck autonomi expert consult firm right track big competit advantag tusimpl competitor technolog purposebuilt truck tri port autonomi system build vehicl urban environ truck build virtual driver drive vehicl class truck differ skill differ system element truck rout benefit compani say truck react time fast human driver farth road night fatal involv truck due human error lu truck tire watch movi phone distract\n"
          ]
        }
      ],
      "source": [
        "# Apply Lemmatization to cleaned text\n",
        "# cleaned_text = data['Cleaned Article Text']\n",
        "lemmatized_texts = lemmatization(stemmed_texts)\n",
        "print (f\"Lemmatized Texts: {lemmatized_texts[0]}\")"
      ]
    },
    {
      "cell_type": "code",
      "execution_count": 30,
      "id": "Lkf3YLxh1p0E",
      "metadata": {
        "colab": {
          "base_uri": "https://localhost:8080/"
        },
        "id": "Lkf3YLxh1p0E",
        "outputId": "ef853dc2-a03b-49a6-c4e9-8a56e75f31ee"
      },
      "outputs": [
        {
          "output_type": "stream",
          "name": "stdout",
          "text": [
            "Total words after lemmatization: 2338949\n"
          ]
        }
      ],
      "source": [
        "# Total words After Lemmatization\n",
        "lemmatized_word_count = pd.Series(lemmatized_texts).str.split().str.len().sum()\n",
        "print(f\"Total words after lemmatization: {lemmatized_word_count}\")"
      ]
    },
    {
      "cell_type": "markdown",
      "id": "OaGl1kUfykQq",
      "metadata": {
        "id": "OaGl1kUfykQq"
      },
      "source": [
        "Tokenization"
      ]
    },
    {
      "cell_type": "code",
      "execution_count": 31,
      "id": "484c7d23-6e80-45c5-9e83-a6473e66ba20",
      "metadata": {
        "colab": {
          "base_uri": "https://localhost:8080/"
        },
        "id": "484c7d23-6e80-45c5-9e83-a6473e66ba20",
        "outputId": "4f9409b9-10a8-40b7-8342-e6e4ae939764"
      },
      "outputs": [
        {
          "output_type": "stream",
          "name": "stdout",
          "text": [
            "Tokenized Texts: ['right', 'shortag', 'truck', 'driver', 'worldwid', 'exacerb', 'boom', 'bring', 'solut', 'problem', 'truck', 'sever', 'compani', 'race', 'launch', 'tusimpl', 'mile', 'road', 'test', 'prototyp', 'truck', 'commerci', 'avail', 'truck', 'retrofit', 'technolog', 'tusimpl', 'deal', 'place', 'world', 'large', 'truck', 'manufactur', 'navistar', 'truck', 'busi', 'europ', 'design', 'builder', 'call', 'world', 'ship', 'ship', 'schedul', 'journey', 'norwegian', 'town', 'end', 'click', 'form', 'transport', 'set', 'transform', 'futur', 'pictur', 'render', 'transatlant', 'car', 'carrier', 'standard', 'car', 'carrier', 'ship', 'go', 'green', 'world', 'adopt', 'electr', 'startup', 'roll', 'product', 'line', 'top', 'speed', 'km', 'hour', 'current', 'fast', 'ground', 'vehicl', 'speed', 'kilomet', 'hour', 'hyperloop', 'sustain', 'replac', 'flight', 'start', 'hyperloop', 'test', 'facil', 'europ', 'open', 'hyperloop', 'bullet', 'train', 'track', 'rail', 'float', 'tube', 'use', 'low', 'carbon', 'travel', 'switch', 'sustain', 'fuel', 'sourc', 'redesign', 'plane', 'design', 'delft', 'univer', 'technolog', 'cut', 'fuel', 'kerosen', 'sustain', 'fuel', 'sourc', 'liquid', 'hydrogen', 'sustain', 'solut', 'short', 'flight', 'septemb', 'plan', 'hydrogenpow', 'aircraft', 'decemb', 'canadian', 'fly', 'harbour', 'half', 'annual', 'case', 'electr', 'bike', 'retail', 'report', 'sale', 'pedal', 'allow', 'less', 'effort', 'train', 'buse', 'shutey', 'overnight', 'travel', 'render', 'selfdriv', 'suit', 'design', 'studio', 'offer', 'plush', 'altern', 'test', 'meter', 'line', 'uski', 'transport', 'say', 'help', 'citi', 'solv', 'traffic', 'problem', 'ilint', 'french', 'rail', 'begin', 'enter', 'regular', 'run', 'warehous', 'photo', 'robot', 'run', 'familiar', 'presenc', 'warehous', 'warehous', 'run', 'british', 'supermarket', 'robot', 'shop', 'order', 'order', 'send', 'warehous', 'bot', 'spring', 'life', 'head', 'contain', 'requir', 'scroll', 'robot', 'robot', 'warehousesin', 'respon', 'great', 'design', 'robot', 'use', 'uv', 'sanit', 'floor', 'squar', 'foot', 'warehous', 'startup', 'telexist', 'large', 'conveni', 'store', 'featur', 'camera', 'microphon', 'sensor', 'modelt', 'use', 'finger', 'stock', 'drink', 'rice', 'remot', 'robot', 'make', 'warehous', 'equip', 'vision', 'lift', 'pound', 'robot', 'run', 'warehousesstretch', 'late', 'robot', 'center', 'design', 'keep', 'human', 'worker', 'harm', 'stretch', 'gripper', 'run', 'warehous', 'lift', 'object', 'pick', 'fall', 'open', 'walk', 'door', 'remind', 'practic', 'social', 'robot', 'run', 'robot', 'use', 'plant', 'seed', 'check', 'plant', 'nordic', 'harvest', 'vertic', 'farm', 'base', 'taastrup', 'denmark', 'indoor', 'farm', 'big', 'europ', 'robot', 'run', 'sort', 'packag', 'warehous', 'run', 'large', 'ecommerc', 'firm', 'ahead', 'annual', 'singl', 'shop', 'bonanza', 'hide', 'caption', 'tusimpl', 'promin', 'competitor', 'googl', 'spinoff', 'work', 'car', 'tusimpl', 'work', 'exclus', 'driverless', 'truck', 'autonomi', 'expert', 'consult', 'firm', 'right', 'track', 'big', 'competit', 'advantag', 'tusimpl', 'competitor', 'technolog', 'purposebuilt', 'truck', 'tri', 'port', 'autonomi', 'system', 'build', 'vehicl', 'urban', 'environ', 'truck', 'build', 'virtual', 'driver', 'drive', 'vehicl', 'class', 'truck', 'differ', 'skill', 'differ', 'system', 'element', 'truck', 'rout', 'benefit', 'compani', 'say', 'truck', 'react', 'time', 'fast', 'human', 'driver', 'farth', 'road', 'night', 'fatal', 'involv', 'truck', 'due', 'human', 'error', 'lu', 'truck', 'tire', 'watch', 'movi', 'phone', 'distract']\n"
          ]
        }
      ],
      "source": [
        "# Tokenization function\n",
        "def tokenize(texts):\n",
        "    return [text.split() for text in texts]\n",
        "\n",
        "# Apply tokenization to the lemmatized texts\n",
        "data_words = tokenize(lemmatized_texts)\n",
        "print (f\"Tokenized Texts: {data_words[0]}\")"
      ]
    },
    {
      "cell_type": "markdown",
      "id": "Q1-02zaOyqbP",
      "metadata": {
        "id": "Q1-02zaOyqbP"
      },
      "source": [
        "Generating Bigrams and Trigrams"
      ]
    },
    {
      "cell_type": "code",
      "execution_count": 32,
      "id": "685bf51b-b813-4c54-b14d-f500e9f25845",
      "metadata": {
        "colab": {
          "base_uri": "https://localhost:8080/"
        },
        "id": "685bf51b-b813-4c54-b14d-f500e9f25845",
        "outputId": "91308997-90bb-4aec-d6cc-da0c03d637c8"
      },
      "outputs": [
        {
          "output_type": "stream",
          "name": "stdout",
          "text": [
            "n-gram Token: ['right', 'shortag', 'truck_driver', 'worldwid', 'exacerb', 'boom', 'bring', 'solut', 'problem', 'truck', 'sever', 'compani', 'race', 'launch', 'tusimpl', 'mile', 'road', 'test', 'prototyp', 'truck', 'commerci', 'avail', 'truck', 'retrofit', 'technolog', 'tusimpl', 'deal', 'place', 'world', 'large', 'truck', 'manufactur', 'navistar', 'truck', 'busi', 'europ', 'design', 'builder', 'call', 'world', 'ship', 'ship', 'schedul', 'journey', 'norwegian', 'town', 'end', 'click', 'form', 'transport', 'set', 'transform', 'futur', 'pictur', 'render', 'transatlant', 'car', 'carrier', 'standard', 'car', 'carrier', 'ship', 'go', 'green', 'world', 'adopt', 'electr', 'startup', 'roll', 'product', 'line', 'top', 'speed', 'km', 'hour', 'current', 'fast', 'ground', 'vehicl', 'speed', 'kilomet', 'hour', 'hyperloop', 'sustain', 'replac', 'flight', 'start', 'hyperloop', 'test', 'facil', 'europ', 'open', 'hyperloop', 'bullet', 'train', 'track', 'rail', 'float', 'tube', 'use', 'low', 'carbon', 'travel', 'switch', 'sustain', 'fuel', 'sourc', 'redesign', 'plane', 'design', 'delft', 'univer', 'technolog', 'cut', 'fuel', 'kerosen', 'sustain', 'fuel', 'sourc', 'liquid', 'hydrogen', 'sustain', 'solut', 'short', 'flight', 'septemb', 'plan', 'hydrogenpow', 'aircraft', 'decemb', 'canadian', 'fly', 'harbour', 'half', 'annual', 'case', 'electr', 'bike', 'retail', 'report', 'sale', 'pedal', 'allow', 'less', 'effort', 'train', 'buse', 'shutey', 'overnight', 'travel', 'render', 'selfdriv', 'suit', 'design', 'studio', 'offer', 'plush', 'altern', 'test', 'meter', 'line', 'uski', 'transport', 'say', 'help', 'citi', 'solv', 'traffic', 'problem', 'ilint', 'french', 'rail', 'begin', 'enter', 'regular', 'run', 'warehous', 'photo', 'robot', 'run', 'familiar', 'presenc', 'warehous', 'warehous', 'run', 'british', 'supermarket', 'robot', 'shop', 'order', 'order', 'send', 'warehous', 'bot', 'spring', 'life', 'head', 'contain', 'requir', 'scroll', 'robot', 'robot', 'warehousesin', 'respon', 'great', 'design', 'robot', 'use', 'uv', 'sanit', 'floor', 'squar', 'foot', 'warehous', 'startup', 'telexist', 'large', 'conveni_store', 'featur', 'camera_microphon', 'sensor', 'modelt', 'use', 'finger', 'stock', 'drink', 'rice', 'remot', 'robot', 'make', 'warehous', 'equip', 'vision', 'lift', 'pound', 'robot', 'run', 'warehousesstretch', 'late', 'robot', 'center', 'design', 'keep', 'human', 'worker', 'harm', 'stretch', 'gripper', 'run', 'warehous', 'lift', 'object', 'pick', 'fall', 'open', 'walk', 'door', 'remind', 'practic', 'social', 'robot', 'run', 'robot', 'use', 'plant', 'seed', 'check', 'plant', 'nordic', 'harvest', 'vertic_farm', 'base', 'taastrup', 'denmark', 'indoor', 'farm', 'big', 'europ', 'robot', 'run', 'sort', 'packag', 'warehous', 'run', 'large', 'ecommerc', 'firm', 'ahead', 'annual', 'singl', 'shop', 'bonanza', 'hide_caption', 'tusimpl', 'promin', 'competitor', 'googl', 'spinoff', 'work', 'car', 'tusimpl', 'work', 'exclus', 'driverless', 'truck', 'autonomi', 'expert', 'consult_firm', 'right', 'track', 'big', 'competit', 'advantag', 'tusimpl', 'competitor', 'technolog', 'purposebuilt', 'truck', 'tri', 'port', 'autonomi', 'system', 'build', 'vehicl', 'urban', 'environ', 'truck', 'build', 'virtual', 'driver', 'drive', 'vehicl', 'class', 'truck', 'differ', 'skill', 'differ', 'system', 'element', 'truck', 'rout', 'benefit', 'compani', 'say', 'truck', 'react', 'time', 'fast', 'human', 'driver', 'farth', 'road', 'night', 'fatal', 'involv', 'truck', 'due', 'human', 'error', 'lu', 'truck', 'tire', 'watch', 'movi', 'phone', 'distract']\n"
          ]
        }
      ],
      "source": [
        "# Build the bigram and trigram models\n",
        "bigram_phrases = gensim.models.Phrases(data_words, min_count=5, threshold=100)\n",
        "trigram_phrases = gensim.models.Phrases(bigram_phrases[data_words], threshold=100)\n",
        "\n",
        "# Faster way to get a sentence clubbed as a trigram/bigram\n",
        "bigram = gensim.models.phrases.Phraser(bigram_phrases)\n",
        "trigram_mod = gensim.models.phrases.Phraser(trigram_phrases)\n",
        "\n",
        "def make_bigrams(texts):\n",
        "    return [bigram[doc] for doc in texts]\n",
        "\n",
        "def make_trigrams(texts):\n",
        "    return [trigram_mod[bigram[doc]] for doc in texts]\n",
        "\n",
        "# Form Bigrams and Trigrams\n",
        "data_bigrams = make_bigrams(data_words)\n",
        "data_bigrams_trigrams = make_trigrams(data_words)\n",
        "\n",
        "print (f\"n-gram Token: {data_bigrams_trigrams[0]}\")"
      ]
    },
    {
      "cell_type": "code",
      "execution_count": 33,
      "id": "RJwhfXKL7Ol_",
      "metadata": {
        "colab": {
          "base_uri": "https://localhost:8080/"
        },
        "id": "RJwhfXKL7Ol_",
        "outputId": "8d44b5f4-1038-4744-d113-b890ab7af6cf"
      },
      "outputs": [
        {
          "output_type": "stream",
          "name": "stdout",
          "text": [
            "Total word count after forming bigrams and trigrams: 2261069\n"
          ]
        }
      ],
      "source": [
        "# Calculate the total word count after forming bigrams and trigrams\n",
        "total_word_count = sum(len(doc) for doc in data_bigrams_trigrams)\n",
        "\n",
        "print(f\"Total word count after forming bigrams and trigrams: {total_word_count}\")"
      ]
    },
    {
      "cell_type": "markdown",
      "id": "uep3jpwRyuIb",
      "metadata": {
        "id": "uep3jpwRyuIb"
      },
      "source": [
        "# **LDA Model Building**\n"
      ]
    },
    {
      "cell_type": "markdown",
      "id": "YEViEF0kyvKe",
      "metadata": {
        "id": "YEViEF0kyvKe"
      },
      "source": [
        "Creating the Dictionary"
      ]
    },
    {
      "cell_type": "code",
      "execution_count": 34,
      "id": "846796a8-33f1-4eba-850c-c19c0075ed68",
      "metadata": {
        "colab": {
          "base_uri": "https://localhost:8080/"
        },
        "id": "846796a8-33f1-4eba-850c-c19c0075ed68",
        "outputId": "aad61fb5-281d-4c8a-bbbb-51df9c3bfa22"
      },
      "outputs": [
        {
          "output_type": "stream",
          "name": "stdout",
          "text": [
            "Total Vocabulary Size: 25636\n"
          ]
        }
      ],
      "source": [
        "# Generate a dictionary mapping from word IDs to words\n",
        "id2word = corpora.Dictionary(data_bigrams_trigrams)\n",
        "\n",
        "# Filter out words that occur in less than 2 documents or more than 97% of the documents\n",
        "id2word.filter_extremes(no_below=2, no_above=0.97)\n",
        "print('Total Vocabulary Size:', len(id2word))"
      ]
    },
    {
      "cell_type": "markdown",
      "id": "qhlkjQm4zA7y",
      "metadata": {
        "id": "qhlkjQm4zA7y"
      },
      "source": [
        "Text Representation using both BoW"
      ]
    },
    {
      "cell_type": "code",
      "execution_count": 35,
      "id": "93428928-9e91-49d3-b077-a772080857e9",
      "metadata": {
        "colab": {
          "base_uri": "https://localhost:8080/"
        },
        "id": "93428928-9e91-49d3-b077-a772080857e9",
        "outputId": "de1bb559-1f11-42fc-ff1e-114683527377"
      },
      "outputs": [
        {
          "output_type": "stream",
          "name": "stdout",
          "text": [
            "Bag-of-Words representation of the first document:\n",
            "[(0, 1), (1, 1), (2, 1), (3, 1), (4, 1), (5, 1), (6, 2), (7, 2), (8, 1), (9, 1), (10, 1), (11, 1), (12, 2), (13, 1), (14, 1), (15, 1), (16, 1), (17, 1), (18, 1), (19, 2), (20, 1), (21, 1), (22, 1), (23, 1), (24, 1), (25, 1), (26, 1), (27, 3), (28, 1), (29, 2), (30, 1), (31, 1), (32, 1), (33, 1), (34, 1), (35, 1), (36, 1), (37, 2), (38, 1), (39, 2), (40, 1), (41, 1), (42, 1), (43, 1), (44, 1), (45, 1), (46, 1), (47, 1), (48, 1), (49, 5), (50, 2), (51, 1), (52, 1), (53, 1), (54, 1), (55, 2), (56, 1), (57, 1), (58, 1), (59, 1), (60, 2), (61, 1), (62, 1), (63, 1), (64, 1), (65, 1), (66, 1), (67, 3), (68, 1), (69, 1), (70, 1), (71, 1), (72, 1), (73, 1), (74, 1), (75, 1), (76, 2), (77, 1), (78, 1), (79, 1), (80, 1), (81, 2), (82, 1), (83, 1), (84, 1), (85, 1), (86, 1), (87, 1), (88, 3), (89, 1), (90, 1), (91, 1), (92, 1), (93, 1), (94, 1), (95, 1), (96, 1), (97, 1), (98, 1), (99, 1), (100, 1), (101, 1), (102, 1), (103, 2), (104, 3), (105, 1), (106, 1), (107, 3), (108, 1), (109, 1), (110, 1), (111, 1), (112, 1), (113, 1), (114, 1), (115, 3), (116, 1), (117, 1), (118, 1), (119, 1), (120, 2), (121, 2), (122, 1), (123, 1), (124, 1), (125, 1), (126, 1), (127, 1), (128, 1), (129, 1), (130, 1), (131, 1), (132, 1), (133, 1), (134, 1), (135, 1), (136, 2), (137, 2), (138, 1), (139, 1), (140, 1), (141, 1), (142, 1), (143, 1), (144, 1), (145, 1), (146, 1), (147, 1), (148, 2), (149, 1), (150, 1), (151, 1), (152, 1), (153, 1), (154, 2), (155, 1), (156, 1), (157, 1), (158, 1), (159, 1), (160, 2), (161, 1), (162, 1), (163, 1), (164, 1), (165, 1), (166, 2), (167, 1), (168, 1), (169, 1), (170, 1), (171, 1), (172, 1), (173, 1), (174, 2), (175, 2), (176, 11), (177, 1), (178, 1), (179, 8), (180, 1), (181, 1), (182, 2), (183, 1), (184, 1), (185, 1), (186, 1), (187, 1), (188, 1), (189, 1), (190, 1), (191, 1), (192, 3), (193, 2), (194, 1), (195, 1), (196, 1), (197, 1), (198, 1), (199, 2), (200, 1), (201, 1), (202, 2), (203, 2), (204, 1), (205, 1), (206, 1), (207, 1), (208, 1), (209, 2), (210, 1), (211, 1), (212, 1), (213, 1), (214, 1), (215, 4), (216, 1), (217, 2), (218, 1), (219, 3), (220, 1), (221, 3), (222, 1), (223, 1), (224, 1), (225, 1), (226, 2), (227, 1), (228, 2), (229, 1), (230, 1), (231, 2), (232, 2), (233, 1), (234, 13), (235, 1), (236, 1), (237, 5), (238, 1), (239, 1), (240, 4), (241, 1), (242, 1), (243, 3), (244, 1), (245, 1), (246, 1), (247, 1), (248, 8), (249, 1), (250, 1), (251, 1), (252, 2), (253, 1), (254, 3), (255, 1)]\n"
          ]
        }
      ],
      "source": [
        "# Create the Bag-of-Words (BoW) corpus\n",
        "texts = data_bigrams_trigrams\n",
        "corpus = [id2word.doc2bow(text) for text in texts]\n",
        "# Print the BoW representation of the first document\n",
        "print(\"Bag-of-Words representation of the first document:\")\n",
        "print(corpus[0])"
      ]
    },
    {
      "cell_type": "markdown",
      "id": "TCcdSgRmy6T3",
      "metadata": {
        "id": "TCcdSgRmy6T3"
      },
      "source": [
        "Text Representation using both TF-IDF"
      ]
    },
    {
      "cell_type": "code",
      "execution_count": 36,
      "id": "f174b205-374c-490f-b8d6-e7e5ee24dc17",
      "metadata": {
        "colab": {
          "base_uri": "https://localhost:8080/"
        },
        "id": "f174b205-374c-490f-b8d6-e7e5ee24dc17",
        "outputId": "177b60a7-fa7d-4769-dbd3-b4da245e9179"
      },
      "outputs": [
        {
          "output_type": "stream",
          "name": "stdout",
          "text": [
            "TF-IDF representation of the first document:\n",
            "[(0, 0.027225779379856475), (1, 0.033431964819762065), (2, 0.01701407382017103), (3, 0.031136790238605862), (4, 0.011654789290791405), (5, 0.029037998769592958), (6, 0.045979353416237045), (7, 0.09020817063244387), (8, 0.02248567846668115), (9, 0.016219127966515492), (10, 0.009547571721766233), (11, 0.022367870660135507), (12, 0.02377172954197681), (13, 0.04726984153020845), (14, 0.06122344320932481), (15, 0.038901786474812135), (16, 0.06122344320932481), (17, 0.011124574175944226), (18, 0.022222871374585028), (19, 0.026470978038222768), (20, 0.04980606240682601), (21, 0.03452057802258502), (22, 0.04429425836201677), (23, 0.02202394167451972), (24, 0.00703716081939005), (25, 0.059913663122985066), (26, 0.03387345383180613), (27, 0.05594795431040776), (28, 0.03628013736495431), (29, 0.07800955733662017), (30, 0.00866367748240164), (31, 0.016921127566843167), (32, 0.020243896427423403), (33, 0.021639531928620788), (34, 0.025413086136293856), (35, 0.03860009495113643), (36, 0.03495962227790669), (37, 0.042339091336644145), (38, 0.03190975487065484), (39, 0.07930082414016167), (40, 0.04531920445007692), (41, 0.020324001079333902), (42, 0.05533394356509801), (43, 0.012145327738383753), (44, 0.01923553341743524), (45, 0.015892155701942717), (46, 0.019398937529013383), (47, 0.07055807929343488), (48, 0.03965041207008083), (49, 0.10546840653906395), (50, 0.023467813772092633), (51, 0.040721348808612584), (52, 0.02329402269652517), (53, 0.02956715039070206), (54, 0.016240431994216372), (55, 0.05508493035107052), (56, 0.06466857964920808), (57, 0.013488839688201616), (58, 0.05877908000498128), (59, 0.012624017383878604), (60, 0.06294336190375244), (61, 0.03160074801985483), (62, 0.010519688093952664), (63, 0.016944268984498086), (64, 0.03476867599657213), (65, 0.036985341601506586), (66, 0.03266133863603665), (67, 0.05245937873571827), (68, 0.03182031455079122), (69, 0.0321375634741456), (70, 0.01729917332397152), (71, 0.024043721290132148), (72, 0.014337329314591973), (73, 0.024557720429418936), (74, 0.033063626877600956), (75, 0.05237446798832754), (76, 0.04349520036524866), (77, 0.02815561157997156), (78, 0.0322772392539293), (79, 0.04271299345835229), (80, 0.024691229940626037), (81, 0.049229364216410686), (82, 0.03502423667241027), (83, 0.02682109566268283), (84, 0.03126083261576386), (85, 0.022280574495713218), (86, 0.017619224028623297), (87, 0.025711248375628028), (88, 0.06968711298406893), (89, 0.018763370177383384), (90, 0.006674338912722231), (91, 0.03942970480585012), (92, 0.013250478882328885), (93, 0.029070122633679887), (94, 0.06466857964920808), (95, 0.019115010092690374), (96, 0.018555430386524227), (97, 0.05343794816479227), (98, 0.024501138076500704), (99, 0.04271299345835229), (100, 0.015830954343006246), (101, 0.008064452524811446), (102, 0.037490247664081634), (103, 0.026401230343111794), (104, 0.05226254180556132), (105, 0.04980606240682601), (106, 0.07055807929343488), (107, 0.21167423788030465), (108, 0.03261236586686041), (109, 0.014030352508462964), (110, 0.03502423667241027), (111, 0.010501575207259613), (112, 0.06711294285355161), (113, 0.031095841957279782), (114, 0.05533394356509801), (115, 0.045219082293200985), (116, 0.01181799220295371), (117, 0.018004145242739297), (118, 0.013655040624008448), (119, 0.012647277053290351), (120, 0.05186162981312884), (121, 0.029633280928149694), (122, 0.04255417104110466), (123, 0.015440306375333482), (124, 0.07055807929343488), (125, 0.0048879086550892075), (126, 0.03182031455079122), (127, 0.03126083261576386), (128, 0.02123328754213172), (129, 0.06277258424890235), (130, 0.03723404477880818), (131, 0.015350188464633234), (132, 0.04623866843422572), (133, 0.0441033120806822), (134, 0.025004509736917178), (135, 0.014573605528538395), (136, 0.0254067228561467), (137, 0.024529444003357083), (138, 0.03246711870722177), (139, 0.026698485282145745), (140, 0.05777830676944154), (141, 0.019930822782916288), (142, 0.020381684613373006), (143, 0.022989676708118523), (144, 0.025732951457491857), (145, 0.009753821637190527), (146, 0.010829903844510004), (147, 0.02735630040920029), (148, 0.05137920117660037), (149, 0.06466857964920808), (150, 0.0297047526195491), (151, 0.035629003853855645), (152, 0.021169545668322073), (153, 0.030775171752651057), (154, 0.0345179989622787), (155, 0.019756970131002725), (156, 0.026698485282145745), (157, 0.05099358496044874), (158, 0.06277258424890235), (159, 0.01890812243345254), (160, 0.07168110434730182), (161, 0.030814599906603898), (162, 0.05237446798832754), (163, 0.02689552024301713), (164, 0.025668007814468298), (165, 0.02784350880932311), (166, 0.0753308892648352), (167, 0.03416150690643795), (168, 0.006185859592299374), (169, 0.014931667718975932), (170, 0.010559672882707375), (171, 0.03422030819253433), (172, 0.05402416347875826), (173, 0.04468952739464818), (174, 0.017794255071241383), (175, 0.0426466744641827), (176, 0.4551837607457981), (177, 0.024846426071305015), (178, 0.034279519246995675), (179, 0.09611684719632677), (180, 0.02815561157997156), (181, 0.04783650159519728), (182, 0.01356687360591681), (183, 0.0377544166697751), (184, 0.0494444439208712), (185, 0.04194700195097048), (186, 0.05777830676944154), (187, 0.012322812038666132), (188, 0.04271299345835229), (189, 0.02072419909901066), (190, 0.011218548427110635), (191, 0.009668095046511097), (192, 0.08002252230371874), (193, 0.06004551100575649), (194, 0.019534056920909017), (195, 0.027927497156410228), (196, 0.02636430027916898), (197, 0.0314290906274626), (198, 0.016551809259853917), (199, 0.05726215675671642), (200, 0.03147168095187622), (201, 0.02577652463980516), (202, 0.04228836442178227), (203, 0.05466007062553558), (204, 0.05877908000498128), (205, 0.02634092543105676), (206, 0.026294367769745572), (207, 0.026458448078206808), (208, 0.01002657614731653), (209, 0.07587041089219673), (210, 0.030814599906603898), (211, 0.030058835183120736), (212, 0.04224516419030465), (213, 0.027174127233374153), (214, 0.03502423667241027), (215, 0.09954268843369701), (216, 0.03271059530690963), (217, 0.024753576820635583), (218, 0.06466857964920808), (219, 0.06892186960065295), (220, 0.06277258424890235), (221, 0.04614679146434648), (222, 0.011937127381565557), (223, 0.03296125513405984), (224, 0.01631900697303985), (225, 0.02108110284225869), (226, 0.04023904783811752), (227, 0.02787141278162723), (228, 0.040832967292058174), (229, 0.04700008071652767), (230, 0.033987505905720264), (231, 0.04783987414965089), (232, 0.03361271309532349), (233, 0.017925753331095494), (234, 0.36016951356388993), (235, 0.04271299345835229), (236, 0.045539911714307636), (237, 0.3355647142677581), (238, 0.013295607797726153), (239, 0.03439919378777), (240, 0.026394267233740294), (241, 0.07055807929343488), (242, 0.06122344320932481), (243, 0.0698820680895755), (244, 0.05877908000498128), (245, 0.023005426021117124), (246, 0.035769449232111866), (247, 0.017445392548748297), (248, 0.3237714105817275), (249, 0.06466857964920808), (250, 0.06466857964920808), (251, 0.016398315373381784), (252, 0.020391858520074475), (253, 0.017147512851668035), (254, 0.03217570529166258), (255, 0.030814599906603898)]\n"
          ]
        }
      ],
      "source": [
        "# Create TF-IDF corpus\n",
        "# Initialize the TF-IDF model\n",
        "tfidf = TfidfModel(corpus)\n",
        "# Transform the corpus to TF-IDF representation\n",
        "corpus_tfidf = tfidf[corpus]\n",
        "print(\"TF-IDF representation of the first document:\")\n",
        "print (corpus_tfidf[0])"
      ]
    },
    {
      "cell_type": "markdown",
      "id": "inPAN3gUy9CB",
      "metadata": {
        "id": "inPAN3gUy9CB"
      },
      "source": [
        "# **LDA Model Training**"
      ]
    },
    {
      "cell_type": "code",
      "execution_count": 37,
      "id": "8774c9fc-7b1b-4de4-a130-30fcf6b552ab",
      "metadata": {
        "colab": {
          "base_uri": "https://localhost:8080/"
        },
        "id": "8774c9fc-7b1b-4de4-a130-30fcf6b552ab",
        "outputId": "23ea775d-1ca3-4396-dae9-753e297ccba5"
      },
      "outputs": [
        {
          "output_type": "stream",
          "name": "stdout",
          "text": [
            "LDA Model (BoW) Topics:\n",
            "\n",
            "Topic 1: 0.014*\"countri\" + 0.013*\"use\" + 0.011*\"world\" + 0.010*\"europ\" + 0.008*\"australian\" + 0.007*\"climat\" + 0.007*\"year\" + 0.006*\"global\" + 0.006*\"research\" + 0.006*\"say\"\n",
            "Topic 2: 0.203*\"royal\" + 0.044*\"queen\" + 0.030*\"duchess\" + 0.029*\"princess\" + 0.029*\"monarch\" + 0.019*\"duchess_sussex\" + 0.014*\"cell\" + 0.014*\"king\" + 0.013*\"camilla\" + 0.012*\"weekli_dispatch_bring\"\n",
            "Topic 3: 0.022*\"vote\" + 0.019*\"presid\" + 0.014*\"former\" + 0.013*\"polit\" + 0.013*\"hous\" + 0.013*\"leader\" + 0.011*\"state\" + 0.009*\"support\" + 0.009*\"trump\" + 0.009*\"conserv\"\n",
            "Topic 4: 0.021*\"govern\" + 0.012*\"countri\" + 0.012*\"report\" + 0.010*\"public\" + 0.009*\"statement\" + 0.009*\"state\" + 0.007*\"ad\" + 0.007*\"rule\" + 0.007*\"last\" + 0.007*\"group\"\n",
            "Topic 5: 0.036*\"fire\" + 0.018*\"water\" + 0.017*\"area\" + 0.016*\"flood\" + 0.013*\"hous\" + 0.010*\"town\" + 0.010*\"burn\" + 0.010*\"home\" + 0.009*\"weather\" + 0.009*\"see\"\n",
            "Topic 6: 0.040*\"russian\" + 0.028*\"ukrain\" + 0.016*\"ukrainian\" + 0.013*\"border\" + 0.012*\"countri\" + 0.011*\"attack\" + 0.011*\"see\" + 0.008*\"war\" + 0.008*\"member\" + 0.008*\"soldier\"\n",
            "Topic 7: 0.039*\"pay\" + 0.025*\"price\" + 0.023*\"money\" + 0.018*\"fund\" + 0.017*\"cost\" + 0.014*\"household\" + 0.013*\"high\" + 0.013*\"financi\" + 0.012*\"economi\" + 0.011*\"job\"\n",
            "Topic 8: 0.040*\"polic\" + 0.033*\"offic\" + 0.028*\"investig\" + 0.020*\"case\" + 0.016*\"man\" + 0.015*\"arrest\" + 0.014*\"court\" + 0.014*\"kill\" + 0.012*\"murder\" + 0.012*\"protest\"\n",
            "Topic 9: 0.012*\"famili\" + 0.011*\"find\" + 0.010*\"child\" + 0.010*\"say\" + 0.010*\"go\" + 0.009*\"year\" + 0.009*\"take\" + 0.008*\"live\" + 0.008*\"woman\" + 0.007*\"make\"\n",
            "Topic 10: 0.041*\"vaccin\" + 0.029*\"covid\" + 0.024*\"case\" + 0.017*\"health\" + 0.017*\"test\" + 0.017*\"countri\" + 0.012*\"hospit\" + 0.011*\"week\" + 0.011*\"number\" + 0.010*\"lockdown\"\n"
          ]
        }
      ],
      "source": [
        "#  Build LDA models with BoW Features\n",
        "lda_model_bow = LdaModel(corpus=corpus,\n",
        "                         id2word=id2word,\n",
        "                         num_topics=10,\n",
        "                         random_state=100,\n",
        "                         update_every=1,\n",
        "                         chunksize=100,\n",
        "                         passes=10,\n",
        "                         alpha='auto',\n",
        "                         eta= 'auto')\n",
        "\n",
        "print(\"LDA Model (BoW) Topics:\\n\")\n",
        "for idx, topic in lda_model_bow.print_topics(num_words=10):\n",
        "    print(f\"Topic {idx+1}: {topic}\")\n"
      ]
    },
    {
      "cell_type": "code",
      "execution_count": 38,
      "id": "d8d99491-4912-463d-afc7-594dc1839906",
      "metadata": {
        "id": "d8d99491-4912-463d-afc7-594dc1839906",
        "colab": {
          "base_uri": "https://localhost:8080/"
        },
        "outputId": "beb4324a-2e48-480e-8015-04f91292461c"
      },
      "outputs": [
        {
          "output_type": "stream",
          "name": "stdout",
          "text": [
            "\n",
            "LDA Model (TF-IDF) Topics:\n",
            "Topic 1: 0.013*\"russian\" + 0.008*\"ukrain\" + 0.007*\"europ\" + 0.006*\"govern\" + 0.005*\"countri\" + 0.005*\"border\" + 0.005*\"german\" + 0.005*\"ad\" + 0.005*\"prime_minist\" + 0.005*\"minist\"\n",
            "Topic 2: 0.022*\"royal\" + 0.008*\"italian\" + 0.008*\"doctor\" + 0.007*\"suffer\" + 0.007*\"dog\" + 0.006*\"anim\" + 0.006*\"daughter\" + 0.006*\"demonstr\" + 0.005*\"freedom\" + 0.005*\"love\"\n",
            "Topic 3: 0.010*\"theater\" + 0.009*\"unit_kingdom\" + 0.006*\"commiss\" + 0.006*\"trust\" + 0.006*\"nur\" + 0.006*\"defen\" + 0.006*\"garden\" + 0.006*\"leadership\" + 0.006*\"premier\" + 0.005*\"diver\"\n",
            "Topic 4: 0.000*\"kherson\" + 0.000*\"topdown\" + 0.000*\"arbor\" + 0.000*\"microchip\" + 0.000*\"saidauthor\" + 0.000*\"spreadth\" + 0.000*\"contactthi\" + 0.000*\"soth\" + 0.000*\"onemil\" + 0.000*\"worlda\"\n",
            "Topic 5: 0.000*\"topdown\" + 0.000*\"worlda\" + 0.000*\"microchip\" + 0.000*\"saidauthor\" + 0.000*\"spreadth\" + 0.000*\"contactthi\" + 0.000*\"soth\" + 0.000*\"onemil\" + 0.000*\"testingi\" + 0.000*\"arbor\"\n",
            "Topic 6: 0.000*\"topdown\" + 0.000*\"worlda\" + 0.000*\"microchip\" + 0.000*\"saidauthor\" + 0.000*\"spreadth\" + 0.000*\"contactthi\" + 0.000*\"soth\" + 0.000*\"onemil\" + 0.000*\"testingi\" + 0.000*\"arbor\"\n",
            "Topic 7: 0.000*\"topdown\" + 0.000*\"worlda\" + 0.000*\"microchip\" + 0.000*\"saidauthor\" + 0.000*\"spreadth\" + 0.000*\"contactthi\" + 0.000*\"soth\" + 0.000*\"onemil\" + 0.000*\"testingi\" + 0.000*\"arbor\"\n",
            "Topic 8: 0.006*\"vaccin\" + 0.004*\"ukrainian\" + 0.004*\"polic\" + 0.003*\"woman\" + 0.003*\"ukrain\" + 0.003*\"case\" + 0.003*\"covid\" + 0.003*\"child\" + 0.003*\"famili\" + 0.003*\"statement\"\n",
            "Topic 9: 0.014*\"franc\" + 0.013*\"street\" + 0.012*\"murder\" + 0.010*\"trial\" + 0.008*\"charg\" + 0.007*\"suspect\" + 0.006*\"poll\" + 0.006*\"birthday\" + 0.006*\"pm\" + 0.006*\"quit\"\n",
            "Topic 10: 0.024*\"australian\" + 0.013*\"accus\" + 0.012*\"prosecutor\" + 0.009*\"respond\" + 0.009*\"rape\" + 0.008*\"assess\" + 0.007*\"camp\" + 0.007*\"referendum\" + 0.006*\"resign\" + 0.005*\"duti\"\n"
          ]
        }
      ],
      "source": [
        "# Build LDA model with TF-IDF Features\n",
        "lda_model_tfidf = LdaModel(corpus=corpus_tfidf,\n",
        "                         id2word=id2word,\n",
        "                         num_topics=10,\n",
        "                         random_state=100,\n",
        "                         update_every=1,\n",
        "                         chunksize=100,\n",
        "                         passes=10,\n",
        "                         alpha='auto',\n",
        "                         eta= 'auto')\n",
        "\n",
        "\n",
        "print(\"\\nLDA Model (TF-IDF) Topics:\")\n",
        "for idx, topic in lda_model_tfidf.print_topics(num_words=10):\n",
        "    print(f\"Topic {idx+1}: {topic}\")"
      ]
    },
    {
      "cell_type": "markdown",
      "id": "GfQjWlsMzP31",
      "metadata": {
        "id": "GfQjWlsMzP31"
      },
      "source": [
        "Coherence Scores for BoW"
      ]
    },
    {
      "cell_type": "code",
      "execution_count": 44,
      "id": "021df0a1-da59-4ade-9e00-9468f8f51c87",
      "metadata": {
        "id": "021df0a1-da59-4ade-9e00-9468f8f51c87",
        "colab": {
          "base_uri": "https://localhost:8080/"
        },
        "outputId": "140f1e62-d339-491f-8860-2981cb417a10"
      },
      "outputs": [
        {
          "output_type": "stream",
          "name": "stdout",
          "text": [
            "C_V Coherence Score (BoW): 0.48071267380209387\n",
            "C_UCI Coherence Score (BoW): -0.4032905231005327\n",
            "C_NPMI Coherence Score (BoW): 0.020050138138625752\n"
          ]
        }
      ],
      "source": [
        "# Calculate C_V coherence for BoW model\n",
        "coherence_model_bow_cv = CoherenceModel(model=lda_model_bow, texts=texts, dictionary=id2word, coherence='c_v')\n",
        "coherence_bow_cv = coherence_model_bow_cv.get_coherence()\n",
        "print(f'C_V Coherence Score (BoW): {coherence_bow_cv}')\n",
        "\n",
        "# Calculate C_UCI coherence for BoW model\n",
        "coherence_model_bow_c_uci = CoherenceModel(model=lda_model_bow, texts=texts, dictionary=id2word, coherence='c_uci')\n",
        "coherence_bow_c_uci = coherence_model_bow_c_uci.get_coherence()\n",
        "print(f'C_UCI Coherence Score (BoW): {coherence_bow_c_uci}')\n",
        "\n",
        "# Calculate C_NPMI coherence for BoW model\n",
        "coherence_model_bow_c_npmi = CoherenceModel(model=lda_model_bow, texts=texts, dictionary=id2word, coherence='c_npmi')\n",
        "coherence_bow_c_npmi = coherence_model_bow_c_npmi.get_coherence()\n",
        "print(f'C_NPMI Coherence Score (BoW): {coherence_bow_c_npmi}')"
      ]
    },
    {
      "cell_type": "markdown",
      "source": [
        "Coherence Scores for TF-IDF"
      ],
      "metadata": {
        "id": "0jDVl3DSGjI3"
      },
      "id": "0jDVl3DSGjI3"
    },
    {
      "cell_type": "code",
      "source": [
        "# Calculate C_V coherence for TF-IDF model\n",
        "coherence_model_tfidf_cv = CoherenceModel(model=lda_model_tfidf, texts=texts, dictionary=id2word, coherence='c_v')\n",
        "coherence_tfidf_cv = coherence_model_tfidf_cv.get_coherence()\n",
        "print(f'C_V Coherence Score (TF-IDF): {coherence_tfidf_cv}')\n",
        "\n",
        "# Calculate C_UCI coherence for TF-IDF model\n",
        "coherence_model_tfidf_c_uci = CoherenceModel(model=lda_model_tfidf, texts=texts, dictionary=id2word, coherence='c_uci')\n",
        "coherence_tfidf_c_uci = coherence_model_tfidf_c_uci.get_coherence()\n",
        "print(f'C_UCI Coherence Score (TF-IDF): {coherence_tfidf_c_uci}')\n",
        "\n",
        "# Calculate C_NPMI coherence for TF-IDF model\n",
        "coherence_model_tfidf_c_npmi = CoherenceModel(model=lda_model_tfidf, texts=texts, dictionary=id2word, coherence='c_npmi')\n",
        "coherence_tfidf_c_npmi = coherence_model_tfidf_c_npmi.get_coherence()\n",
        "print(f'C_NPMI Coherence Score (TF-IDF): {coherence_tfidf_c_npmi}')\n"
      ],
      "metadata": {
        "id": "Iet4tzxXGiuZ",
        "outputId": "e4f7c4da-dd4b-4819-fdbd-1838a12fa6ed",
        "colab": {
          "base_uri": "https://localhost:8080/"
        }
      },
      "id": "Iet4tzxXGiuZ",
      "execution_count": 40,
      "outputs": [
        {
          "output_type": "stream",
          "name": "stdout",
          "text": [
            "C_V Coherence Score (TF-IDF): 0.34596390102941466\n",
            "C_UCI Coherence Score (TF-IDF): -4.286619381457177\n",
            "C_NPMI Coherence Score (TF-IDF): -0.1486398395049952\n"
          ]
        }
      ]
    },
    {
      "cell_type": "markdown",
      "id": "DzgTWdvizay_",
      "metadata": {
        "id": "DzgTWdvizay_"
      },
      "source": [
        "Visualization of LDA topic Modeling"
      ]
    },
    {
      "cell_type": "code",
      "execution_count": 41,
      "id": "dde29f87-f333-4981-a34c-2d0bc842a80c",
      "metadata": {
        "id": "dde29f87-f333-4981-a34c-2d0bc842a80c",
        "colab": {
          "base_uri": "https://localhost:8080/",
          "height": 897
        },
        "outputId": "0cf6e34c-2ad0-4a6d-b7ae-afb3b1f7c16f"
      },
      "outputs": [
        {
          "output_type": "stream",
          "name": "stdout",
          "text": [
            "\n",
            "Visualizing BoW Model:\n"
          ]
        },
        {
          "output_type": "execute_result",
          "data": {
            "text/plain": [
              "<IPython.core.display.HTML object>"
            ],
            "text/html": [
              "\n",
              "<link rel=\"stylesheet\" type=\"text/css\" href=\"https://cdn.jsdelivr.net/gh/bmabey/pyLDAvis@3.4.0/pyLDAvis/js/ldavis.v1.0.0.css\">\n",
              "\n",
              "\n",
              "<div id=\"ldavis_el1831342804572072808366468576\" style=\"background-color:white;\"></div>\n",
              "<script type=\"text/javascript\">\n",
              "\n",
              "var ldavis_el1831342804572072808366468576_data = {\"mdsDat\": {\"x\": [-0.1101888812071641, -0.13692207402667544, -0.0736079917939713, -0.08165298099713315, -0.07111277274998783, -0.06895871396595608, -0.09497118832662438, 0.011338185309608156, 0.15495693792889645, 0.47111947982900726], \"y\": [0.024472949998893847, -0.011491541913780762, 0.1650107258627046, 0.07570538362912811, 0.05905528891294682, -0.22903754058065937, -0.1606943591734902, -0.07432487442455647, 0.24621683646981704, -0.09491286878100345], \"topics\": [1, 2, 3, 4, 5, 6, 7, 8, 9, 10], \"cluster\": [1, 1, 1, 1, 1, 1, 1, 1, 1, 1], \"Freq\": [22.301531344340205, 20.444472679597023, 12.432325892376351, 11.611832078862305, 9.393550846535376, 8.860930112927827, 7.744569996718377, 4.040011084763771, 2.7690796895190757, 0.401696274359694]}, \"tinfo\": {\"Term\": [\"vaccin\", \"polic\", \"russian\", \"case\", \"covid\", \"offic\", \"investig\", \"ukrain\", \"vote\", \"fire\", \"countri\", \"pay\", \"royal\", \"govern\", \"presid\", \"famili\", \"hous\", \"health\", \"man\", \"test\", \"home\", \"statement\", \"find\", \"ukrainian\", \"polit\", \"former\", \"arrest\", \"high\", \"report\", \"leader\", \"migrant\", \"mother\", \"friend\", \"tension\", \"daughter\", \"love\", \"dog\", \"italian\", \"birthday\", \"disappear\", \"tour\", \"itali\", \"wonder\", \"brother\", \"music\", \"sleep\", \"boy\", \"whale\", \"cloth\", \"garden\", \"discov\", \"proper\", \"tear\", \"gift\", \"indigen\", \"tragic\", \"father\", \"flower\", \"bone\", \"imagin\", \"young\", \"game\", \"life\", \"famili\", \"feel\", \"rememb\", \"bear\", \"heart\", \"sister\", \"film\", \"live\", \"book\", \"girl\", \"child\", \"think\", \"parent\", \"honor\", \"old\", \"find\", \"go\", \"team\", \"name\", \"stori\", \"never\", \"woman\", \"year\", \"walk\", \"help\", \"leave\", \"know\", \"get\", \"say\", \"take\", \"home\", \"make\", \"see\", \"show\", \"last\", \"give\", \"man\", \"start\", \"come\", \"prime_minist\", \"scandal\", \"racism\", \"macron\", \"poison\", \"rape\", \"austrian\", \"complaint\", \"secret\", \"spanish\", \"sexual_abus\", \"proof\", \"deescal\", \"dialogu\", \"nationalist\", \"abroad\", \"tran\", \"reluct\", \"prayer\", \"detain\", \"sexual_assault\", \"deepli\", \"soviet\", \"gender\", \"populist\", \"labour\", \"detent\", \"ethnic_minor\", \"abort\", \"press_confer\", \"freedom\", \"spokesperson\", \"franc\", \"minist\", \"parliament\", \"govern\", \"medium\", \"french\", \"ban\", \"discuss\", \"rule\", \"letter\", \"journalist\", \"press\", \"concern\", \"group\", \"comment\", \"respon\", \"report\", \"threat\", \"offici\", \"statement\", \"public\", \"critic\", \"right\", \"institut\", \"ad\", \"meet\", \"nation\", \"countri\", \"claim\", \"state\", \"follow\", \"organ\", \"law\", \"week\", \"call\", \"last\", \"say\", \"member\", \"leader\", \"author\", \"make\", \"month\", \"take\", \"support\", \"product\", \"fish\", \"trade\", \"forest\", \"vessel\", \"technolog\", \"contin\", \"emiss\", \"coal\", \"export\", \"wildfir\", \"defen_ministri\", \"fossil_fuel\", \"plastic\", \"environment\", \"farm\", \"sweden\", \"carbon\", \"speci\", \"farmer\", \"norwegian\", \"centr\", \"geopolit\", \"shipment\", \"sale\", \"submarin\", \"glasgow\", \"acceler\", \"scotland\", \"drone\", \"australian\", \"denmark\", \"industri\", \"global\", \"research\", \"ship\", \"climat\", \"nuclear\", \"europ\", \"plant\", \"develop\", \"world\", \"cop\", \"project\", \"european\", \"energi\", \"use\", \"large\", \"crisi\", \"big\", \"countri\", \"system\", \"grow\", \"less\", \"level\", \"food\", \"impact\", \"alreadi\", \"deal\", \"year\", \"say\", \"find\", \"make\", \"power\", \"effect\", \"plan\", \"end\", \"nation\", \"vote\", \"trump\", \"poll\", \"harri\", \"voter\", \"win\", \"elect\", \"candid\", \"mp\", \"referendum\", \"scottish\", \"biden\", \"senat\", \"elector\", \"brexit\", \"cum\", \"oppon\", \"speaker\", \"cannabi\", \"cathol\", \"ballot\", \"agenda\", \"cabinet\", \"centerleft\", \"inner_circl\", \"reelect\", \"hostag\", \"pact\", \"arguabl\", \"deleg\", \"conserv\", \"parti\", \"presid\", \"seat\", \"polit\", \"coalit\", \"victori\", \"campaign\", \"former\", \"leader\", \"hous\", \"legisl\", \"race\", \"support\", \"power\", \"major\", \"state\", \"talk\", \"point\", \"hold\", \"term\", \"question\", \"seem\", \"right\", \"member\", \"make\", \"last\", \"go\", \"year\", \"vaccin\", \"covid\", \"lockdown\", \"coronaviru\", \"infect\", \"variant\", \"mask\", \"patient\", \"teacher\", \"outbreak\", \"astrazeneca\", \"viru\", \"nur\", \"dose\", \"unvaccin\", \"reopen\", \"inten_care\", \"indoor\", \"disea\", \"wear_mask\", \"administ\", \"quarantin\", \"transmiss\", \"healthcar_worker\", \"health\", \"blood_clot\", \"infecti\", \"chat\", \"mutat\", \"iceland\", \"test\", \"hospit\", \"rollout\", \"worker\", \"medic\", \"doctor\", \"school\", \"rate\", \"restrict\", \"case\", \"spread\", \"wear\", \"care\", \"wave\", \"number\", \"death\", \"countri\", \"high\", \"week\", \"face\", \"protect\", \"public\", \"state\", \"day\", \"investig\", \"court\", \"murder\", \"prosecutor\", \"lawyer\", \"crimin\", \"sentenc\", \"jail\", \"custodi\", \"extradit\", \"lawsuit\", \"attorney\", \"couzen\", \"judg\", \"riot\", \"guilti\", \"convict\", \"metropolitan\", \"everard\", \"prosecut\", \"kidnap\", \"verdict\", \"cocain\", \"probe\", \"arrest_suspicion\", \"innoc\", \"warrant\", \"plead_guilti\", \"pretend\", \"polic\", \"charg\", \"prison\", \"crime\", \"arrest\", \"justic\", \"file\", \"offic\", \"suspect\", \"trial\", \"incid\", \"gun\", \"shoot\", \"kill\", \"victim\", \"protest\", \"man\", \"case\", \"hear\", \"statement\", \"attack\", \"involv\", \"accord\", \"find\", \"death\", \"report\", \"legal\", \"relea\", \"former\", \"russian\", \"ukrain\", \"ukrainian\", \"soldier\", \"troop\", \"kyiv\", \"sanction\", \"ukraineukrainian\", \"refuge\", \"civilian\", \"invas\", \"bomb\", \"separatist\", \"flee\", \"militari\", \"belarusian\", \"ukrainea\", \"belaru\", \"jewish\", \"mariupol\", \"ukraineukrainian_soldier\", \"convoy\", \"foreign_minist\", \"humanitarian\", \"syrian\", \"train_station\", \"polish\", \"kharkiv\", \"peskov\", \"marinka\", \"front_line\", \"eastern\", \"border\", \"war\", \"conflict\", \"attack\", \"arm\", \"deploy\", \"fight\", \"vehicl\", \"diplomat\", \"western\", \"see\", \"region\", \"countri\", \"member\", \"forc\", \"hit\", \"unit\", \"destroy\", \"hold\", \"show\", \"ministri\", \"kill\", \"build\", \"stand\", \"europ\", \"take\", \"video\", \"remain\", \"hous\", \"flood\", \"weather\", \"smoke\", \"rain\", \"battl_wildfir_scorch_heat\", \"turkish\", \"nsw\", \"wildfir_rage\", \"lava\", \"wale\", \"booster\", \"drought\", \"railway\", \"bushfir\", \"novemb_photo_bushfir\", \"aerial_photo\", \"earthquak\", \"corridor\", \"sydney\", \"coastal\", \"decemb_photo_bushfir\", \"palma\", \"snow\", \"photo_bushfir_rage\", \"northeast\", \"deadli_flood\", \"bushfir_rage\", \"photo_bushfir_rage_australiaa\", \"peninsula\", \"debri\", \"rescu\", \"fire\", \"tree\", \"water\", \"burn\", \"rage\", \"storm\", \"crew\", \"ice\", \"town\", \"area\", \"collap\", \"wind\", \"destroy\", \"warm\", \"boat\", \"damag\", \"kilomet\", \"hot\", \"hous\", \"build\", \"resid\", \"home\", \"condit\", \"rise\", \"see\", \"region\", \"accord\", \"climat\", \"sever\", \"show\", \"author\", \"local\", \"report\", \"state\", \"high\", \"price\", \"estat\", \"maximum\", \"payment\", \"cool\", \"calm\", \"cash\", \"inflat\", \"weekli\", \"euro\", \"rent\", \"loan\", \"debt\", \"owe\", \"wellb\", \"burst\", \"real_estat\", \"deterr\", \"investor\", \"trucker\", \"borrow\", \"pension\", \"hungri\", \"modest\", \"taxpay\", \"hike\", \"brake\", \"hood\", \"uncertainti\", \"buyer\", \"financi\", \"money\", \"pay\", \"household\", \"wage\", \"tax\", \"fund\", \"cost\", \"expen\", \"dollar\", \"economi\", \"oil\", \"earn\", \"bank\", \"job\", \"packag\", \"market\", \"rate\", \"high\", \"sell\", \"spend\", \"hous\", \"home\", \"buy\", \"help\", \"last\", \"royal\", \"queen\", \"duchess\", \"princess\", \"monarch\", \"duchess_sussex\", \"cell\", \"camilla\", \"weekli_dispatch_bring\", \"belgian\", \"sampl\", \"sussex\", \"meghan\", \"throne\", \"priest\", \"windsor\", \"line_throne\", \"giuffr\", \"duchess_cornwal\", \"duke_duchess\", \"archi\", \"camilla_duchess_cornwal\", \"tabloid\", \"cleric\", \"renov\", \"delight\", \"remembr\", \"archbishop\", \"launch_weekli_dispatch\", \"saidmoorhous\", \"king\", \"guest\"], \"Freq\": [8547.0, 7789.0, 6874.0, 9764.0, 6045.0, 8192.0, 5421.0, 4746.0, 5535.0, 4104.0, 15289.0, 3371.0, 1800.0, 11944.0, 5569.0, 6212.0, 6873.0, 3545.0, 5766.0, 3800.0, 4963.0, 6681.0, 8849.0, 2796.0, 3963.0, 5378.0, 3074.0, 5064.0, 9205.0, 6337.0, 2355.9099646750556, 1707.0580559874734, 1539.3338507518858, 1530.9520411862013, 1151.5695759684277, 1099.4719724481502, 1008.539856839174, 999.8983547003056, 671.544163910145, 585.7892469356686, 543.6599353976411, 518.4120717719845, 491.4684236551084, 484.3380370048892, 474.022496337298, 463.11094461864707, 462.28537059770497, 425.00867059080616, 394.3607408281675, 380.23298986936976, 352.6561908865384, 349.5350730060974, 339.45484654320677, 338.5473531924911, 337.9638174567585, 333.5326197883281, 325.59766113884115, 325.3939071928692, 319.4757721125129, 315.2020323804235, 2765.714230258611, 592.6419719805359, 3364.147552635526, 5933.88945792296, 2172.3470304288116, 633.4583424197193, 1260.7070680223014, 769.5006259890606, 782.0787768282117, 607.5199872585767, 4022.220207231427, 713.1059630532269, 1118.5072434933807, 5068.064118209272, 2044.9317135391964, 1238.920360459073, 733.9080935513107, 1546.531878790713, 5346.896343058233, 4696.152306728573, 1832.300378961502, 1853.3119001879418, 1415.0493801996179, 1951.6946403580089, 3861.474510265885, 4641.554833140654, 1659.0417118180815, 2917.467170564747, 2429.650523501215, 2142.696525017056, 2507.4628421262223, 4779.248894240268, 4261.480274053316, 2546.801517187541, 3656.1484456578564, 3203.045450789907, 2538.544918584863, 2548.6041430260793, 2018.7779588969026, 2080.75418091724, 1861.5945939456153, 2043.1821936301233, 2083.571120994814, 866.3908261917373, 732.4985375410665, 634.1042749159838, 567.4862476897017, 559.584262533093, 431.03066387925065, 403.9285692163849, 363.67537649603423, 363.4173734753061, 354.95460684450586, 347.5983468654337, 322.00222286432745, 320.04569121364483, 315.86006697405406, 315.4329298055366, 264.9967754463181, 264.8263822353939, 264.03479875028466, 261.92075305532865, 256.08378882286047, 255.22300932629526, 248.8680979967044, 246.90228075540185, 236.66919266547546, 230.7081844837369, 230.44818794637845, 225.48404300170307, 224.50753461865423, 213.7029236721667, 952.3210457737653, 1039.2083631821788, 1719.9202175384646, 1964.271951148327, 1198.5903325380923, 9408.732870166294, 2085.3925656633137, 1864.7940023908363, 840.0744656164999, 1047.391014495944, 3333.644125431571, 968.6481568195368, 986.3580339532207, 1168.8893479514031, 2540.2423433116405, 3222.423944034075, 1823.3397683617118, 2553.797207178201, 5481.188663998757, 1471.7179540962704, 2213.962846903694, 4146.944351179439, 4417.889281871327, 2150.2532030580846, 2934.9680790787193, 994.2816330269786, 3343.586947007937, 2922.412911341275, 3198.2604240366377, 5538.559554491673, 1866.4041342965274, 4004.4314146269467, 2458.0515412402883, 1573.232962084114, 1801.1657779612844, 3198.4360633439574, 2604.442602092152, 3332.5304840887447, 3048.5515219804365, 2533.6675156211522, 2351.7488407600304, 2149.523156283694, 2334.5655667825217, 2110.5998489995895, 2227.082494613288, 2010.3773742416568, 1089.6497285508806, 803.8036198951245, 790.3792905517771, 687.698885813229, 618.6557407148023, 589.227389420574, 513.2803509136899, 512.2319998740584, 494.4543435506382, 473.2427649383442, 401.39830667756945, 354.84455958442675, 354.61419798570546, 352.7599482191806, 337.8840951614143, 331.39919763131246, 320.31210858276023, 317.54524917011713, 313.7451919873887, 310.7898897048319, 307.0016680231595, 304.52776118786824, 301.12424114294697, 250.9465976132521, 246.28160775564055, 223.1515454647561, 218.49440340568847, 213.79033406345795, 205.3935245885057, 198.07494202040587, 2286.643049256385, 549.1459387175948, 963.4152092363071, 1770.1653903700817, 1720.3841882733338, 1201.7419406602007, 2005.8388640504982, 641.7015348762001, 2783.2650121877623, 1081.71668887809, 1449.2971089425484, 2991.561663959156, 480.7685485289748, 1024.0396443975849, 1119.3851010369233, 534.4881970364326, 3507.113537830241, 1234.4546275466673, 1428.535151763903, 1466.8553778245607, 3887.062598825793, 1293.2597771170467, 1198.5358278404406, 1179.6805666917599, 1186.7497104923202, 933.7660349277667, 963.6579805652461, 1251.0512539924723, 1079.0014781883842, 1899.930717193764, 1714.8451737791115, 1570.295998170023, 1568.8784177793875, 1182.375232738123, 1016.6230919541669, 1108.3805733811826, 1101.2124069518406, 1125.2983853381252, 5534.193085861794, 2330.176287478604, 1716.4573297095903, 1472.5894926879837, 1252.0129994006916, 1200.9509873341835, 1126.7262319974304, 946.3390523197953, 739.7342426297566, 736.6071894547957, 733.3411071405052, 713.8587923507566, 707.29111063386, 704.8540782065621, 580.8232212668127, 542.5632721727734, 524.5898973045705, 431.31525964679827, 414.70422732219373, 405.026267699398, 394.8303008783069, 323.48406848695004, 318.05040091787737, 298.66435769889057, 252.58579239235314, 250.51692199796514, 241.03141612804765, 227.98395152859248, 227.77862581082124, 224.76116311474044, 2235.7311055133814, 1644.1824386843957, 4799.365028406436, 1073.9669083379579, 3285.153322128006, 1166.9303841221724, 702.8793042592387, 2234.7590337942447, 3494.5420517807206, 3242.891324208437, 3276.2382945910513, 714.6860544648476, 917.3616372788897, 2404.1724462536476, 1792.8494617276206, 1694.02614311076, 2817.4612043808447, 1512.7135525867254, 1449.9387675768128, 1470.6573869205831, 1060.2912799332416, 1234.9979304002811, 1055.7156539683858, 1340.0657013933937, 1422.2267381957981, 1337.2704588690062, 1349.8859379429573, 1279.1368514970154, 1213.9849244520153, 8545.803732701548, 6043.840423647002, 2145.1845078968545, 1618.9177415339, 1614.2607413283229, 1334.0749913147147, 1296.5090114986126, 1186.4655072102357, 818.2394966074481, 816.6412048038032, 749.9859670629456, 737.7580272154847, 656.2935943839268, 603.5790343562444, 571.5943007027527, 511.0746542246474, 483.51614853615695, 403.5620035965725, 368.6182559204071, 363.26566084136704, 276.35115612474357, 235.4697838049869, 231.04531543613788, 211.03521209634778, 3520.04115304801, 169.47936005695558, 159.60794127840708, 150.9923197592857, 145.92465873663232, 140.22250662470853, 3458.1357643398337, 2479.081231441479, 387.0594503018899, 1980.6072139917817, 1786.5493086944387, 995.583841696175, 2038.4534795212496, 1642.0331464175727, 1879.4097057461634, 5061.782139596403, 1323.670909035188, 1232.3220291823377, 1432.2685555756336, 1035.128957414637, 2181.912148614646, 1722.2566541927988, 3451.6573651801245, 1882.0661656468706, 2183.933225575978, 1659.7748892764914, 1356.8719333988795, 1538.3227420340286, 1579.5895623273643, 1124.1357906847318, 5420.505925192056, 2641.899969790993, 2359.6011545379015, 1491.1688094155704, 1113.8853911556146, 1072.0865196962184, 862.0624337257784, 861.4769926843494, 687.3499831415558, 465.8864228772855, 464.4807550171322, 452.8955798458173, 439.2917835909979, 416.87917785558665, 416.3717258918375, 387.8282236824892, 384.8176633853222, 345.20657882224054, 343.6708988495002, 322.10409944079856, 303.3302412439945, 224.84874098238583, 217.69461871435252, 213.5415980098667, 207.8374586784876, 202.4368628418684, 177.71371130915327, 174.35326881742708, 170.8950443931754, 7732.380856468167, 1940.4995835538634, 2123.8804178041737, 1477.4317268711418, 2889.6749530291368, 981.1176038576343, 867.9724142000834, 6506.424933313153, 1005.7046724078672, 1763.6265399324823, 1695.937113670599, 565.367789701278, 1777.3382476049894, 2640.4220426629486, 1457.7819353715565, 2294.1197968799975, 3188.7548350142583, 3937.2800873334477, 1531.5825220958823, 2210.722506354449, 1542.7956689030577, 1188.3251699941493, 1715.0259295070596, 1748.4503656374663, 1348.3009135992152, 1660.073779456153, 1134.8176596048957, 1136.9523320739622, 1132.569846129842, 6873.63724018098, 4745.161972657383, 2795.3565918369163, 1315.3853757913885, 1153.1590652234715, 1063.5014681308285, 769.4372809365265, 718.6182435892251, 608.0239639968086, 603.2462403078049, 485.62392789700874, 480.8229928524016, 476.21259760019666, 435.7904590169993, 438.34374787884946, 398.2364331787597, 374.5782987254267, 354.92022805743835, 299.849200251004, 247.93485718842942, 246.71359807263, 236.49581227775016, 226.91399377912137, 218.53296547825133, 205.3173178453188, 201.41896272262687, 193.8864605018558, 178.01382807082416, 153.22346435880084, 154.1654519161284, 771.3150160120896, 508.3388228106486, 2226.757393550852, 1427.4576702482316, 652.5878987182305, 1842.7916515572394, 613.4600714282283, 603.9140039815949, 1223.9044154287742, 639.4887053180344, 636.4132801915226, 736.1135644024855, 1797.63046162922, 1002.3445540452299, 2048.263181833622, 1385.2015563540592, 709.7718554303365, 825.4486667359395, 996.6596797050397, 696.6835920349193, 1049.3702835521337, 1100.2400361216096, 675.0378900614988, 839.5083094651717, 796.3541068874114, 745.2382503557839, 771.211677785088, 815.075972964237, 717.3622071854925, 729.3837021144775, 733.7810616371714, 1413.2833658653299, 837.7323081213744, 543.4255980729466, 452.85758848620264, 344.75748569057777, 311.17698950407123, 283.6803489386859, 264.06298260224094, 237.91207146879867, 228.16688468589226, 220.4054804816121, 217.27969597540712, 204.89347423362312, 201.9429501176473, 200.8619254534856, 190.77492596582135, 188.02618040393406, 177.13575726533162, 176.68598515540123, 167.42976718983422, 165.4047352859553, 161.1780945098564, 159.63189273517986, 151.50277966768968, 151.5778971873632, 148.75119361444297, 148.11630232857962, 141.76606252507767, 141.31615564730907, 133.70397054021092, 751.7643602569285, 3203.1490411454433, 635.5866464415278, 1611.6075507245564, 857.9812380147542, 423.8978875355669, 334.585955668078, 476.14522212878256, 291.38792894173156, 901.8521916576129, 1542.7610066321454, 467.67404755437167, 260.4162685675244, 769.654479778181, 374.58135948691944, 397.9140263209791, 640.065624444562, 318.2005501608433, 342.8731410430457, 1142.0043326663088, 729.5614211104127, 628.4068794934997, 848.392734393916, 515.4792683316853, 668.3926629620435, 779.1177529770408, 546.180501488365, 685.8908776097467, 502.81801653236073, 565.6268785383768, 605.2059948717075, 570.3950890557487, 521.4129925810273, 574.9670361336424, 534.0431441099929, 469.7469013073058, 1506.1623268207015, 608.0985613903836, 547.7213176722529, 517.8350498591515, 494.438565223265, 468.91778619469306, 444.3901597726371, 330.3319418967387, 329.06877956690477, 235.21274603381235, 222.33410647175117, 214.42270789022885, 210.7522951887103, 196.0836616935075, 189.60843061927562, 181.11985072656586, 158.37856600086764, 156.55740726123992, 155.33679277938566, 152.24397350915854, 144.2200235061268, 138.5624955624064, 137.83014392653953, 130.2764087511471, 128.4306080715071, 120.45996367227356, 111.6347740263337, 109.32407344729236, 106.11080141838924, 103.57398901262617, 777.1485795755683, 1387.6172578951612, 2375.9261741955256, 852.7356699627355, 296.65624393828773, 453.9211903629254, 1070.8162706299438, 1036.1931796075603, 375.6011184004855, 397.282501273856, 720.6885800791831, 418.18779093618207, 274.0471644997489, 267.5075290009866, 680.0444427592647, 376.59748270160514, 488.0259764048429, 611.3574934846035, 811.2005005558677, 409.26158212612614, 559.4840781030312, 595.579603201858, 538.7043571730859, 335.3239100835183, 354.8209711393983, 360.18288106919965, 1798.8110839258225, 390.0738658047334, 265.92554602997257, 253.06052199143625, 252.87023518649536, 164.40997643705825, 127.4895535455183, 114.31474034560135, 104.87426858523816, 102.1629125053894, 97.68650530155107, 94.89182246819529, 86.76650333161494, 82.46414637876845, 80.94251162655259, 76.960977105368, 65.67788323929922, 57.4063361640806, 56.51649631902191, 52.40046392420288, 51.480839197039565, 44.7669416781874, 43.685161686863914, 41.566134720774535, 40.06197343621641, 39.41722804252953, 39.26316219402402, 38.80388376485994, 38.13280860136129, 38.06629562820073, 124.1342436967562, 69.2456206483873], \"Total\": [8547.0, 7789.0, 6874.0, 9764.0, 6045.0, 8192.0, 5421.0, 4746.0, 5535.0, 4104.0, 15289.0, 3371.0, 1800.0, 11944.0, 5569.0, 6212.0, 6873.0, 3545.0, 5766.0, 3800.0, 4963.0, 6681.0, 8849.0, 2796.0, 3963.0, 5378.0, 3074.0, 5064.0, 9205.0, 6337.0, 2357.172799293473, 1708.320664465337, 1540.5964341974445, 1532.2152735012867, 1152.8321280172777, 1100.7345660900598, 1009.8024281421004, 1001.161235734204, 672.8066860314474, 587.0518461990196, 544.9225481498929, 519.6749222019863, 492.73114116170694, 485.6006307707423, 475.2850496467507, 464.3735986880086, 463.54788300683254, 426.2728697140903, 395.6233750938882, 381.49572814367616, 353.91877406866894, 350.79799820129637, 340.7176271456807, 339.81008474570694, 339.2264416436004, 334.80517022324346, 326.8602230212143, 326.6566153151449, 320.73824153054494, 316.46476572785144, 2806.233286031852, 595.981964713566, 3444.8389351671503, 6212.360879831598, 2267.2058917829168, 644.7226788189579, 1313.3462848911586, 793.0229184300144, 808.4417327022945, 622.282275943843, 4534.906290756739, 737.3557338650368, 1199.0803170488555, 6217.194341088744, 2347.5965209836954, 1389.3492834895185, 773.6228741974988, 1830.050898184905, 8849.617254273458, 7700.566789736965, 2422.0549133127897, 2533.696052660776, 1824.9022932501068, 2809.014355016191, 6988.1126460018795, 9088.045050272442, 2310.3995367192265, 5101.495715826846, 3955.6073069152744, 3323.370101590371, 4179.331952880174, 10954.630405898399, 9803.440379497535, 4963.345425946245, 9626.2853833228, 8129.462868773632, 6730.417203664492, 10216.294183220474, 4781.622451681902, 5766.018125987368, 3955.79536234102, 6661.543649814503, 2084.845705190184, 867.6653119078481, 733.7728190758893, 635.3787892728265, 568.7605679770302, 560.858601611676, 432.30555297755046, 405.2032028744091, 364.9498158179865, 364.6918781106812, 356.228947795955, 348.8730732782516, 323.2769651533295, 321.3200411290228, 317.1345838218889, 316.7076910913283, 266.27111964300616, 266.1008522722439, 265.3093865846843, 263.1950599467316, 257.3581200967645, 256.49738835254317, 250.14280353043844, 248.17662938507792, 237.9436561664234, 231.98270209525037, 231.72245651527197, 226.758406275697, 225.78171369235895, 214.97768970693704, 980.4120120787799, 1076.4543609571106, 1826.3525209578183, 2142.84939350819, 1309.8724733457495, 11944.508987341847, 2407.0884291304474, 2159.533445586814, 916.7305100977704, 1192.092870318938, 4267.293582590622, 1100.5409691371206, 1143.0191393855685, 1385.453794542879, 3452.4946080971613, 4623.626216372249, 2425.6661375772073, 3685.1111914403514, 9205.545418675481, 1927.4949391226705, 3135.2126917934256, 6681.701657075397, 7307.954026833575, 3136.112377037557, 5260.13313994101, 1221.7548056540534, 6528.802931691535, 5741.510994047558, 6680.120533455866, 15289.688192056505, 3028.1424891878623, 9860.386599513431, 5037.173983572738, 2397.536715213595, 3075.688291594511, 9076.022258261555, 6315.563601762713, 10216.294183220474, 10954.630405898399, 7203.554891594831, 6337.18905074191, 5370.66597608737, 9626.2853833228, 6135.5630739455055, 9803.440379497535, 6216.113095740941, 1090.9040196638432, 805.0579719799828, 791.6335303290311, 689.0549509821805, 619.9100559675384, 590.481619024612, 514.5347460309007, 513.4862713441137, 495.7085957643526, 474.4969880631197, 402.6527728558992, 356.09913058675886, 355.8685301316428, 354.0142798999568, 339.1384473780886, 332.6533917030578, 321.56655317525343, 318.7994753797582, 314.999426916547, 312.0442259084484, 308.2564460170654, 305.7823599037307, 302.3787843572728, 252.20115119438992, 247.53597158416247, 224.40583329305483, 219.74891277639745, 215.04457533479223, 206.64797336764093, 199.3293322573127, 2332.064063851481, 564.9754432374303, 1012.9028281743756, 1994.0083540521525, 1988.936530296466, 1399.8262575136953, 2509.78160427497, 724.7543194842059, 4146.0913342067915, 1369.455840942243, 1968.8453380506196, 4794.649501294637, 527.53549852034, 1381.9405770200701, 1587.0817514549383, 615.8295405868824, 7750.240464721318, 1949.4682511224235, 2499.55472811718, 3000.8812318026007, 15289.688192056505, 2762.6910915210533, 2433.560721262849, 2498.252705190198, 2546.0587905456373, 1616.048226388325, 1793.2188487363205, 3224.5778021276333, 2385.089711424414, 9088.045050272442, 10954.630405898399, 8849.617254273458, 9626.2853833228, 3946.708183928899, 2443.896857029758, 4199.826264835402, 4038.9456901091594, 6680.120533455866, 5535.354446102534, 2331.3376041680876, 1717.6187813912802, 1473.7511654951109, 1253.174299696058, 1202.1124649440924, 1127.8875816645734, 947.5004758654455, 740.8959196338454, 737.7687997806848, 734.5028936368813, 715.0202246936823, 708.4524075163338, 706.0154230133892, 581.9847219264939, 543.726289892039, 525.7513395759805, 432.4767169660602, 415.86665087594696, 406.1878997927477, 395.9915944283709, 324.64556249205924, 319.2119435828799, 299.82584021298754, 253.74730600728984, 251.6782803841965, 242.19533318299162, 229.14557960297978, 228.94019472487741, 225.92304437341537, 2298.480006958892, 1773.2825871641294, 5569.681571581812, 1162.7451429382766, 3963.6953576107217, 1315.1450279953124, 789.8786740679475, 3047.7484387317013, 5378.323513306745, 6337.18905074191, 6873.330786131261, 916.2518505185687, 1355.598223510149, 6216.113095740941, 3946.708183928899, 3680.4832961055795, 9860.386599513431, 3344.604428225576, 3801.8572217917117, 5598.107066024658, 2206.4245366185933, 3499.7641060294254, 2329.6496321494988, 5260.13313994101, 7203.554891594831, 9626.2853833228, 10216.294183220474, 7700.566789736965, 9088.045050272442, 8547.077504534609, 6045.114338516354, 2146.4583780248936, 1620.1914602679722, 1615.5344617457783, 1335.3488450101327, 1297.7828116687524, 1187.7392661379233, 819.5136725479798, 817.9149526380079, 751.2597828983742, 739.0317435966684, 657.5673332884834, 604.8528165523636, 572.8680506084722, 512.348441554568, 484.78989948078294, 404.83606479303006, 369.8920427323845, 364.5393808645817, 277.62501462594975, 236.7436077352889, 232.31906941243773, 212.30905050950867, 3545.637898309862, 170.75498779267346, 160.88161430648574, 152.2677302573117, 147.19846662638432, 141.49757882332835, 3800.3491034205495, 3053.8357713515675, 420.8127635686554, 2576.7541226693993, 2320.8429685118704, 1302.3164696081449, 3041.7110112971723, 2389.157690854465, 2871.1804230344947, 9764.079927423489, 1886.2655765397149, 1829.9002989556686, 2302.6944586751374, 1519.7761643049876, 5675.1752797024565, 4197.081352043149, 15289.688192056505, 5064.2009821242955, 9076.022258261555, 5686.304627564509, 4111.6059812274025, 7307.954026833575, 9860.386599513431, 4554.149366150427, 5421.7294240398005, 2643.123411538625, 2360.8245153980947, 1492.3921983350817, 1115.108830414453, 1073.3099534818969, 863.2858341728156, 862.7005339063595, 688.5733584732332, 467.10977861518484, 465.7042192517919, 454.1189116802403, 440.5153672022528, 418.1028766967975, 417.59528504584154, 389.05160832779615, 386.04113150256114, 346.4300958605229, 344.8946631597965, 323.32748618979286, 304.55363034539346, 226.07222991816823, 218.91805401031885, 214.76531894618614, 209.06106008214363, 203.66052859641184, 178.93713546147364, 175.57659085986884, 172.1202633399037, 7789.042957765426, 1982.2025922618532, 2206.0711512683843, 1536.1308919541393, 3074.520558696325, 1032.4258092721816, 944.0298377002885, 8192.076178687637, 1115.4286446992755, 2088.2849780007045, 2057.6744867986927, 608.4673316885242, 2473.1102759634755, 4086.277306062561, 2043.8300167359134, 3662.0932575219135, 5766.018125987368, 9764.079927423489, 3074.1861846002544, 6681.701657075397, 3716.189273268675, 2597.282420734852, 6648.315682359888, 8849.617254273458, 4197.081352043149, 9205.545418675481, 2537.169733124935, 2769.7742751920773, 5378.323513306745, 6874.971593098727, 4746.496305291936, 2796.6909252344235, 1316.7197096356358, 1154.4934561523198, 1064.8358350337498, 770.7716240348999, 719.9525224419281, 609.3584386270458, 604.580558974705, 486.9584605960699, 482.15743187863444, 477.5470596236966, 437.1249169460271, 439.7337477880426, 399.57072525772674, 375.91258699817945, 356.25450329818915, 301.1835388533915, 249.26966109953528, 248.04789725162178, 237.83031231296607, 228.24848066147317, 219.8673359079188, 206.65173043779492, 202.7534926285784, 195.22092357552913, 179.3482233146615, 154.55782489339356, 155.5101667360674, 832.5270146579456, 540.6518541754064, 2640.794785819248, 1710.1180334936562, 824.0649481283767, 3716.189273268675, 873.5847102057963, 877.533451582014, 2661.003750691498, 1028.528695886037, 1100.4532426692786, 1424.9482774755065, 8129.462868773632, 2662.108789579539, 15289.688192056505, 7203.554891594831, 1519.4998241844316, 2310.5772654117554, 4207.382170357402, 1500.891233891907, 5598.107066024658, 6730.417203664492, 1404.8863788975348, 4086.277306062561, 3323.992579189519, 2831.3342974609727, 4146.0913342067915, 9803.440379497535, 3260.882757922379, 5399.880622283438, 6873.330786131261, 1414.5403140627236, 838.9894910962856, 544.68288627187, 454.11450983554926, 346.0143972387346, 312.4341740460751, 284.9374736655475, 265.3198799766738, 239.16925016801846, 229.4248937280078, 221.66391196260665, 218.53667028295132, 206.15094347259412, 203.19981961922255, 202.11879099166717, 192.03204316359273, 189.283140731477, 178.39367730187115, 177.94335270066372, 168.68667477780903, 166.66160135615263, 162.43564617208523, 160.88918936347628, 152.75964597023423, 152.83551306174954, 150.00829609906643, 149.373178457039, 143.02292908100821, 142.5750833014671, 134.96082942081455, 819.092771859157, 4104.224897187291, 740.7466007390409, 2083.9157911673046, 1042.5358700427414, 477.689563274484, 397.906754395902, 629.6733520559994, 341.93556081497564, 1592.9652767599314, 3485.341385630623, 686.0147850904615, 307.2870973723362, 1500.891233891907, 551.8898648641893, 621.2609624573876, 1421.6850864914136, 438.40509387630215, 505.22236338021975, 6873.330786131261, 3323.992579189519, 2392.7754764973643, 4963.345425946245, 1611.0816632383053, 3303.2350438811754, 8129.462868773632, 2662.108789579539, 6648.315682359888, 2509.78160427497, 4239.40477138217, 6730.417203664492, 5370.66597608737, 4088.429139618776, 9205.545418675481, 9860.386599513431, 5064.2009821242955, 1507.2728905194822, 609.2092774399607, 548.8322068295047, 518.9455080157572, 495.5501717032577, 470.02868898106846, 445.5007146819551, 331.44261660968044, 330.1796298891064, 236.32447870300336, 223.44462152964735, 215.53315263169532, 211.86276533257785, 197.19425899942584, 190.71964847798915, 182.2306769110447, 159.48909372227894, 157.6685894174258, 156.44725408447903, 153.35468335476045, 145.33060101964577, 139.67329702744973, 138.94128052518593, 131.38740059940795, 129.5411205051859, 121.57069246051266, 112.7458849317378, 110.43485254960898, 107.22164202443061, 104.68452538469651, 933.2188561360117, 1822.5993129527756, 3371.0031861014645, 1085.9346223332989, 342.50266579042443, 572.921557078334, 1607.2665143665502, 1711.0452786598703, 545.4908561443108, 610.301342629754, 1438.3031834777453, 724.8182825654314, 387.2978502055044, 372.95124054664933, 1907.5918239204984, 677.1518716999972, 1176.655464847699, 2389.157690854465, 5064.2009821242955, 1067.1960952777297, 2679.8183282338505, 6873.330786131261, 4963.345425946245, 951.2291789733014, 5101.495715826846, 10216.294183220474, 1800.138252423283, 391.40109924623334, 267.2526872647597, 254.38770976858325, 254.1974044142193, 165.73710193750898, 128.81708592589123, 115.64190610914821, 106.20142406546117, 103.49059991184792, 99.01396930058888, 96.21897541323997, 88.09364066401247, 83.79130838810948, 82.27014945657098, 78.28814184607606, 67.00500968007407, 58.733516298469226, 57.84366281892944, 53.727582310575045, 52.807944552241004, 46.094106983652445, 45.012901197536614, 42.89344340327084, 41.39038729101831, 40.74477339233546, 40.59074545491845, 40.131038421828016, 39.460150688926035, 39.39433831598461, 250.99745571162742, 106.14418637693058], \"Category\": [\"Default\", \"Default\", \"Default\", \"Default\", \"Default\", \"Default\", \"Default\", \"Default\", \"Default\", \"Default\", \"Default\", \"Default\", \"Default\", \"Default\", \"Default\", \"Default\", \"Default\", \"Default\", \"Default\", \"Default\", \"Default\", \"Default\", \"Default\", \"Default\", \"Default\", \"Default\", \"Default\", \"Default\", \"Default\", \"Default\", \"Topic1\", \"Topic1\", \"Topic1\", \"Topic1\", \"Topic1\", \"Topic1\", \"Topic1\", \"Topic1\", \"Topic1\", \"Topic1\", \"Topic1\", \"Topic1\", \"Topic1\", \"Topic1\", \"Topic1\", \"Topic1\", \"Topic1\", \"Topic1\", \"Topic1\", \"Topic1\", \"Topic1\", \"Topic1\", \"Topic1\", \"Topic1\", \"Topic1\", \"Topic1\", \"Topic1\", \"Topic1\", \"Topic1\", \"Topic1\", \"Topic1\", \"Topic1\", \"Topic1\", \"Topic1\", \"Topic1\", \"Topic1\", \"Topic1\", \"Topic1\", \"Topic1\", \"Topic1\", \"Topic1\", \"Topic1\", \"Topic1\", \"Topic1\", \"Topic1\", \"Topic1\", \"Topic1\", \"Topic1\", \"Topic1\", \"Topic1\", \"Topic1\", \"Topic1\", \"Topic1\", \"Topic1\", \"Topic1\", \"Topic1\", \"Topic1\", \"Topic1\", \"Topic1\", \"Topic1\", \"Topic1\", \"Topic1\", \"Topic1\", \"Topic1\", \"Topic1\", \"Topic1\", \"Topic1\", \"Topic1\", \"Topic1\", \"Topic1\", \"Topic1\", \"Topic1\", \"Topic2\", \"Topic2\", \"Topic2\", \"Topic2\", \"Topic2\", \"Topic2\", \"Topic2\", \"Topic2\", \"Topic2\", \"Topic2\", \"Topic2\", \"Topic2\", \"Topic2\", \"Topic2\", \"Topic2\", \"Topic2\", \"Topic2\", \"Topic2\", \"Topic2\", \"Topic2\", \"Topic2\", \"Topic2\", \"Topic2\", \"Topic2\", \"Topic2\", \"Topic2\", \"Topic2\", \"Topic2\", \"Topic2\", \"Topic2\", \"Topic2\", \"Topic2\", \"Topic2\", \"Topic2\", \"Topic2\", \"Topic2\", \"Topic2\", \"Topic2\", \"Topic2\", \"Topic2\", \"Topic2\", \"Topic2\", \"Topic2\", \"Topic2\", \"Topic2\", \"Topic2\", \"Topic2\", \"Topic2\", \"Topic2\", \"Topic2\", \"Topic2\", \"Topic2\", \"Topic2\", \"Topic2\", \"Topic2\", \"Topic2\", \"Topic2\", \"Topic2\", \"Topic2\", \"Topic2\", \"Topic2\", \"Topic2\", \"Topic2\", \"Topic2\", \"Topic2\", \"Topic2\", \"Topic2\", \"Topic2\", \"Topic2\", \"Topic2\", \"Topic2\", \"Topic2\", \"Topic2\", \"Topic2\", \"Topic2\", \"Topic2\", \"Topic3\", \"Topic3\", \"Topic3\", \"Topic3\", \"Topic3\", \"Topic3\", \"Topic3\", \"Topic3\", \"Topic3\", \"Topic3\", \"Topic3\", \"Topic3\", \"Topic3\", \"Topic3\", \"Topic3\", \"Topic3\", \"Topic3\", \"Topic3\", \"Topic3\", \"Topic3\", \"Topic3\", \"Topic3\", \"Topic3\", \"Topic3\", \"Topic3\", \"Topic3\", \"Topic3\", \"Topic3\", \"Topic3\", \"Topic3\", \"Topic3\", \"Topic3\", \"Topic3\", \"Topic3\", \"Topic3\", \"Topic3\", \"Topic3\", \"Topic3\", \"Topic3\", \"Topic3\", \"Topic3\", \"Topic3\", \"Topic3\", \"Topic3\", \"Topic3\", \"Topic3\", \"Topic3\", \"Topic3\", \"Topic3\", \"Topic3\", \"Topic3\", \"Topic3\", \"Topic3\", \"Topic3\", \"Topic3\", \"Topic3\", \"Topic3\", \"Topic3\", \"Topic3\", \"Topic3\", \"Topic3\", \"Topic3\", \"Topic3\", \"Topic3\", \"Topic3\", \"Topic3\", \"Topic3\", \"Topic3\", \"Topic4\", \"Topic4\", \"Topic4\", \"Topic4\", \"Topic4\", \"Topic4\", \"Topic4\", \"Topic4\", \"Topic4\", \"Topic4\", \"Topic4\", \"Topic4\", \"Topic4\", \"Topic4\", \"Topic4\", \"Topic4\", \"Topic4\", \"Topic4\", \"Topic4\", \"Topic4\", \"Topic4\", \"Topic4\", \"Topic4\", \"Topic4\", \"Topic4\", \"Topic4\", \"Topic4\", \"Topic4\", \"Topic4\", \"Topic4\", \"Topic4\", \"Topic4\", \"Topic4\", \"Topic4\", \"Topic4\", \"Topic4\", \"Topic4\", \"Topic4\", \"Topic4\", \"Topic4\", \"Topic4\", \"Topic4\", \"Topic4\", \"Topic4\", \"Topic4\", \"Topic4\", \"Topic4\", \"Topic4\", \"Topic4\", \"Topic4\", \"Topic4\", \"Topic4\", \"Topic4\", \"Topic4\", \"Topic4\", \"Topic4\", \"Topic4\", \"Topic4\", \"Topic4\", \"Topic5\", \"Topic5\", \"Topic5\", \"Topic5\", \"Topic5\", \"Topic5\", \"Topic5\", \"Topic5\", \"Topic5\", \"Topic5\", \"Topic5\", \"Topic5\", \"Topic5\", \"Topic5\", \"Topic5\", \"Topic5\", \"Topic5\", \"Topic5\", \"Topic5\", \"Topic5\", \"Topic5\", \"Topic5\", \"Topic5\", \"Topic5\", \"Topic5\", \"Topic5\", \"Topic5\", \"Topic5\", \"Topic5\", \"Topic5\", \"Topic5\", \"Topic5\", \"Topic5\", \"Topic5\", \"Topic5\", \"Topic5\", \"Topic5\", \"Topic5\", \"Topic5\", \"Topic5\", \"Topic5\", \"Topic5\", \"Topic5\", \"Topic5\", \"Topic5\", \"Topic5\", \"Topic5\", \"Topic5\", \"Topic5\", \"Topic5\", \"Topic5\", \"Topic5\", \"Topic5\", \"Topic5\", \"Topic6\", \"Topic6\", \"Topic6\", \"Topic6\", \"Topic6\", \"Topic6\", \"Topic6\", \"Topic6\", \"Topic6\", \"Topic6\", \"Topic6\", \"Topic6\", \"Topic6\", \"Topic6\", \"Topic6\", \"Topic6\", \"Topic6\", \"Topic6\", \"Topic6\", \"Topic6\", \"Topic6\", \"Topic6\", \"Topic6\", \"Topic6\", \"Topic6\", \"Topic6\", \"Topic6\", \"Topic6\", \"Topic6\", \"Topic6\", \"Topic6\", \"Topic6\", \"Topic6\", \"Topic6\", \"Topic6\", \"Topic6\", \"Topic6\", \"Topic6\", \"Topic6\", \"Topic6\", \"Topic6\", \"Topic6\", \"Topic6\", \"Topic6\", \"Topic6\", \"Topic6\", \"Topic6\", \"Topic6\", \"Topic6\", \"Topic6\", \"Topic6\", \"Topic6\", \"Topic6\", \"Topic6\", \"Topic6\", \"Topic6\", \"Topic6\", \"Topic6\", \"Topic7\", \"Topic7\", \"Topic7\", \"Topic7\", \"Topic7\", \"Topic7\", \"Topic7\", \"Topic7\", \"Topic7\", \"Topic7\", \"Topic7\", \"Topic7\", \"Topic7\", \"Topic7\", \"Topic7\", \"Topic7\", \"Topic7\", \"Topic7\", \"Topic7\", \"Topic7\", \"Topic7\", \"Topic7\", \"Topic7\", \"Topic7\", \"Topic7\", \"Topic7\", \"Topic7\", \"Topic7\", \"Topic7\", \"Topic7\", \"Topic7\", \"Topic7\", \"Topic7\", \"Topic7\", \"Topic7\", \"Topic7\", \"Topic7\", \"Topic7\", \"Topic7\", \"Topic7\", \"Topic7\", \"Topic7\", \"Topic7\", \"Topic7\", \"Topic7\", \"Topic7\", \"Topic7\", \"Topic7\", \"Topic7\", \"Topic7\", \"Topic7\", \"Topic7\", \"Topic7\", \"Topic7\", \"Topic7\", \"Topic7\", \"Topic7\", \"Topic7\", \"Topic7\", \"Topic7\", \"Topic7\", \"Topic8\", \"Topic8\", \"Topic8\", \"Topic8\", \"Topic8\", \"Topic8\", \"Topic8\", \"Topic8\", \"Topic8\", \"Topic8\", \"Topic8\", \"Topic8\", \"Topic8\", \"Topic8\", \"Topic8\", \"Topic8\", \"Topic8\", \"Topic8\", \"Topic8\", \"Topic8\", \"Topic8\", \"Topic8\", \"Topic8\", \"Topic8\", \"Topic8\", \"Topic8\", \"Topic8\", \"Topic8\", \"Topic8\", \"Topic8\", \"Topic8\", \"Topic8\", \"Topic8\", \"Topic8\", \"Topic8\", \"Topic8\", \"Topic8\", \"Topic8\", \"Topic8\", \"Topic8\", \"Topic8\", \"Topic8\", \"Topic8\", \"Topic8\", \"Topic8\", \"Topic8\", \"Topic8\", \"Topic8\", \"Topic8\", \"Topic8\", \"Topic8\", \"Topic8\", \"Topic8\", \"Topic8\", \"Topic8\", \"Topic8\", \"Topic8\", \"Topic8\", \"Topic8\", \"Topic8\", \"Topic8\", \"Topic8\", \"Topic8\", \"Topic8\", \"Topic8\", \"Topic8\", \"Topic9\", \"Topic9\", \"Topic9\", \"Topic9\", \"Topic9\", \"Topic9\", \"Topic9\", \"Topic9\", \"Topic9\", \"Topic9\", \"Topic9\", \"Topic9\", \"Topic9\", \"Topic9\", \"Topic9\", \"Topic9\", \"Topic9\", \"Topic9\", \"Topic9\", \"Topic9\", \"Topic9\", \"Topic9\", \"Topic9\", \"Topic9\", \"Topic9\", \"Topic9\", \"Topic9\", \"Topic9\", \"Topic9\", \"Topic9\", \"Topic9\", \"Topic9\", \"Topic9\", \"Topic9\", \"Topic9\", \"Topic9\", \"Topic9\", \"Topic9\", \"Topic9\", \"Topic9\", \"Topic9\", \"Topic9\", \"Topic9\", \"Topic9\", \"Topic9\", \"Topic9\", \"Topic9\", \"Topic9\", \"Topic9\", \"Topic9\", \"Topic9\", \"Topic9\", \"Topic9\", \"Topic9\", \"Topic9\", \"Topic9\", \"Topic10\", \"Topic10\", \"Topic10\", \"Topic10\", \"Topic10\", \"Topic10\", \"Topic10\", \"Topic10\", \"Topic10\", \"Topic10\", \"Topic10\", \"Topic10\", \"Topic10\", \"Topic10\", \"Topic10\", \"Topic10\", \"Topic10\", \"Topic10\", \"Topic10\", \"Topic10\", \"Topic10\", \"Topic10\", \"Topic10\", \"Topic10\", \"Topic10\", \"Topic10\", \"Topic10\", \"Topic10\", \"Topic10\", \"Topic10\", \"Topic10\", \"Topic10\"], \"logprob\": [30.0, 29.0, 28.0, 27.0, 26.0, 25.0, 24.0, 23.0, 22.0, 21.0, 20.0, 19.0, 18.0, 17.0, 16.0, 15.0, 14.0, 13.0, 12.0, 11.0, 10.0, 9.0, 8.0, 7.0, 6.0, 5.0, 4.0, 3.0, 2.0, 1.0, -5.3407, -5.6628, -5.7663, -5.7717, -6.0565, -6.1028, -6.1891, -6.1977, -6.5958, -6.7324, -6.807, -6.8546, -6.908, -6.9226, -6.9441, -6.9674, -6.9692, -7.0532, -7.1281, -7.1646, -7.2399, -7.2488, -7.278, -7.2807, -7.2824, -7.2956, -7.3197, -7.3203, -7.3387, -7.3521, -5.1803, -6.7208, -4.9844, -4.4169, -5.4218, -6.6542, -5.9659, -6.4596, -6.4434, -6.696, -4.8058, -6.5357, -6.0856, -4.5746, -5.4822, -5.9834, -6.507, -5.7616, -4.5211, -4.6509, -5.592, -5.5806, -5.8504, -5.5289, -4.8466, -4.6626, -5.6914, -5.1269, -5.3099, -5.4355, -5.2783, -4.6333, -4.748, -5.2628, -4.9012, -5.0335, -5.266, -5.2621, -5.4951, -5.4649, -5.5762, -5.4831, -5.3766, -6.2541, -6.422, -6.5662, -6.6772, -6.6912, -6.9522, -7.0172, -7.1222, -7.1229, -7.1464, -7.1674, -7.2439, -7.25, -7.2631, -7.2645, -7.4387, -7.4393, -7.4423, -7.4504, -7.4729, -7.4763, -7.5015, -7.5094, -7.5518, -7.5773, -7.5784, -7.6002, -7.6045, -7.6538, -6.1595, -6.0722, -5.5684, -5.4355, -5.9295, -3.869, -5.3757, -5.4875, -6.2849, -6.0644, -4.9066, -6.1425, -6.1244, -5.9546, -5.1784, -4.9405, -5.51, -5.1731, -4.4093, -5.7242, -5.3159, -4.6883, -4.625, -5.3451, -5.034, -6.1164, -4.9036, -5.0383, -4.9481, -4.3989, -5.4866, -4.7233, -5.2113, -5.6575, -5.5222, -4.948, -5.1534, -4.9069, -4.996, -5.181, -5.2555, -5.3454, -5.2628, -5.3637, -5.31, -5.4123, -5.5274, -5.8316, -5.8485, -5.9877, -6.0935, -6.1422, -6.2802, -6.2822, -6.3175, -6.3614, -6.526, -6.6493, -6.65, -6.6552, -6.6983, -6.7177, -6.7517, -6.7604, -6.7724, -6.7819, -6.7942, -6.8022, -6.8135, -6.9958, -7.0145, -7.1132, -7.1342, -7.156, -7.1961, -7.2324, -4.7862, -6.2126, -5.6505, -5.0422, -5.0707, -5.4295, -4.9172, -6.0569, -4.5896, -5.5347, -5.2422, -4.5175, -6.3456, -5.5895, -5.5005, -6.2397, -4.3585, -5.4026, -5.2566, -5.2301, -4.2556, -5.3561, -5.4321, -5.448, -5.442, -5.6818, -5.6503, -5.3893, -5.5372, -4.9714, -5.0739, -5.162, -5.1629, -5.4457, -5.5968, -5.5103, -5.5168, -5.4952, -3.834, -4.699, -5.0047, -5.158, -5.3202, -5.3619, -5.4257, -5.6001, -5.8464, -5.8507, -5.8551, -5.882, -5.8913, -5.8947, -6.0883, -6.1564, -6.1901, -6.3859, -6.4252, -6.4488, -6.4743, -6.6736, -6.6905, -6.7534, -6.921, -6.9292, -6.9678, -7.0235, -7.0244, -7.0377, -4.7404, -5.0477, -3.9765, -5.4736, -4.3556, -5.3906, -5.8975, -4.7408, -4.2938, -4.3685, -4.3583, -5.8809, -5.6312, -4.6678, -4.9612, -5.0179, -4.5091, -5.1311, -5.1735, -5.1593, -5.4864, -5.3339, -5.4908, -5.2523, -5.1927, -5.2543, -5.245, -5.2988, -5.3511, -3.1875, -3.5339, -4.5697, -4.8512, -4.8541, -5.0447, -5.0733, -5.162, -5.5336, -5.5355, -5.6207, -5.6371, -5.7541, -5.8378, -5.8923, -6.0042, -6.0596, -6.2404, -6.331, -6.3456, -6.6191, -6.7791, -6.7981, -6.8887, -4.0745, -7.108, -7.168, -7.2235, -7.2576, -7.2975, -4.0922, -4.4251, -6.2821, -4.6496, -4.7527, -5.3374, -4.6208, -4.837, -4.702, -3.7113, -5.0526, -5.1241, -4.9737, -5.2984, -4.5528, -4.7893, -4.0941, -4.7006, -4.5518, -4.8263, -5.0278, -4.9023, -4.8758, -5.216, -3.5844, -4.3031, -4.4161, -4.875, -5.1667, -5.205, -5.423, -5.4237, -5.6495, -6.0384, -6.0414, -6.0667, -6.0972, -6.1496, -6.1508, -6.2218, -6.2296, -6.3382, -6.3427, -6.4075, -6.4675, -6.7669, -6.7993, -6.8185, -6.8456, -6.8719, -7.0022, -7.0213, -7.0413, -3.2292, -4.6117, -4.5214, -4.8843, -4.2135, -5.2937, -5.4162, -3.4018, -5.2689, -4.7072, -4.7464, -5.8449, -4.6995, -4.3037, -4.8977, -4.4443, -4.115, -3.9041, -4.8483, -4.4813, -4.841, -5.1021, -4.7352, -4.7159, -4.9758, -4.7677, -5.1481, -5.1462, -5.1501, -3.2122, -3.5828, -4.112, -4.8658, -4.9974, -5.0784, -5.402, -5.4704, -5.6375, -5.6454, -5.8623, -5.8722, -5.8818, -5.9705, -5.9647, -6.0606, -6.1219, -6.1758, -6.3444, -6.5345, -6.5395, -6.5818, -6.6231, -6.6608, -6.7231, -6.7423, -6.7804, -6.8658, -7.0158, -7.0097, -5.3996, -5.8165, -4.3394, -4.784, -5.5667, -4.5287, -5.6286, -5.6443, -4.9379, -5.587, -5.5918, -5.4463, -4.5535, -5.1376, -4.4229, -4.8141, -5.4828, -5.3318, -5.1433, -5.5014, -5.0917, -5.0444, -5.5329, -5.3149, -5.3677, -5.434, -5.3997, -5.3444, -5.4721, -5.4555, -5.4495, -4.1433, -4.6663, -5.0991, -5.2814, -5.5541, -5.6566, -5.7491, -5.8208, -5.925, -5.9669, -6.0015, -6.0158, -6.0745, -6.089, -6.0943, -6.1459, -6.1604, -6.22, -6.2226, -6.2764, -6.2886, -6.3144, -6.3241, -6.3763, -6.3759, -6.3947, -6.399, -6.4428, -6.446, -6.5013, -4.7745, -3.3251, -4.9424, -4.012, -4.6424, -5.3475, -5.5841, -5.2312, -5.7223, -4.5925, -4.0556, -5.2492, -5.8347, -4.751, -5.4711, -5.4107, -4.9354, -5.6343, -5.5596, -4.3564, -4.8045, -4.9538, -4.6536, -5.1519, -4.8921, -4.7388, -5.094, -4.8662, -5.1767, -5.059, -4.9914, -5.0506, -5.1404, -5.0426, -5.1165, -5.2448, -3.7019, -4.6089, -4.7135, -4.7696, -4.8158, -4.8688, -4.9225, -5.2191, -5.223, -5.5587, -5.615, -5.6513, -5.6685, -5.7407, -5.7743, -5.8201, -5.9542, -5.9658, -5.9736, -5.9937, -6.0479, -6.0879, -6.0932, -6.1496, -6.1638, -6.2279, -6.304, -6.3249, -6.3547, -6.3789, -4.3636, -3.7839, -3.2461, -4.2708, -5.3266, -4.9013, -4.043, -4.0759, -5.0907, -5.0346, -4.439, -4.9833, -5.4059, -5.4301, -4.4971, -5.088, -4.8288, -4.6035, -4.3207, -5.0049, -4.6922, -4.6297, -4.7301, -5.2041, -5.1476, -5.1326, -1.5938, -3.1223, -3.5054, -3.555, -3.5558, -3.9863, -4.2406, -4.3497, -4.4359, -4.4621, -4.5069, -4.5359, -4.6254, -4.6763, -4.6949, -4.7453, -4.9039, -5.0385, -5.0541, -5.1297, -5.1474, -5.2872, -5.3116, -5.3614, -5.3982, -5.4144, -5.4184, -5.4301, -5.4476, -5.4493, -4.2673, -4.851], \"loglift\": [30.0, 29.0, 28.0, 27.0, 26.0, 25.0, 24.0, 23.0, 22.0, 21.0, 20.0, 19.0, 18.0, 17.0, 16.0, 15.0, 14.0, 13.0, 12.0, 11.0, 10.0, 9.0, 8.0, 7.0, 6.0, 5.0, 4.0, 3.0, 2.0, 1.0, 1.5, 1.4998, 1.4997, 1.4997, 1.4994, 1.4994, 1.4993, 1.4993, 1.4986, 1.4984, 1.4982, 1.4981, 1.4979, 1.4979, 1.4979, 1.4978, 1.4978, 1.4975, 1.4973, 1.4972, 1.4969, 1.4969, 1.4968, 1.4968, 1.4968, 1.4967, 1.4966, 1.4966, 1.4966, 1.4965, 1.486, 1.4949, 1.4768, 1.4547, 1.4578, 1.4829, 1.4596, 1.4704, 1.4674, 1.4765, 1.3805, 1.4671, 1.431, 1.2962, 1.3625, 1.3859, 1.4478, 1.3322, 0.9967, 1.006, 1.2215, 1.1878, 1.2462, 1.1364, 0.9074, 0.8286, 1.1693, 0.9417, 1.0131, 1.0616, 0.9896, 0.671, 0.6674, 0.8333, 0.5324, 0.5691, 0.5255, 0.1121, 0.6382, 0.4813, 0.7468, 0.3187, 1.5868, 1.586, 1.5857, 1.5854, 1.5852, 1.5852, 1.5845, 1.5843, 1.584, 1.584, 1.5839, 1.5838, 1.5835, 1.5835, 1.5834, 1.5834, 1.5827, 1.5827, 1.5826, 1.5826, 1.5825, 1.5825, 1.5823, 1.5823, 1.5821, 1.5819, 1.5819, 1.5818, 1.5818, 1.5815, 1.5584, 1.5522, 1.5274, 1.5004, 1.4987, 1.3488, 1.444, 1.4407, 1.5001, 1.458, 1.3405, 1.4598, 1.44, 1.4175, 1.2806, 1.2264, 1.302, 1.2207, 1.069, 1.3177, 1.2395, 1.1105, 1.0842, 1.2101, 1.004, 1.3814, 0.9183, 0.9121, 0.8509, 0.572, 1.1035, 0.6863, 0.87, 1.1661, 1.0524, 0.5445, 0.7017, 0.4672, 0.3084, 0.5426, 0.5962, 0.6718, 0.1708, 0.5203, 0.1054, 0.4586, 2.0837, 2.0833, 2.0833, 2.0829, 2.0828, 2.0827, 2.0824, 2.0824, 2.0823, 2.0822, 2.0817, 2.0813, 2.0813, 2.0813, 2.0812, 2.0811, 2.081, 2.0809, 2.0809, 2.0808, 2.0808, 2.0808, 2.0807, 2.0799, 2.0798, 2.0793, 2.0791, 2.079, 2.0788, 2.0786, 2.0652, 2.0565, 2.0348, 1.9658, 1.9398, 1.9323, 1.8607, 1.9632, 1.6863, 1.849, 1.7785, 1.6132, 1.992, 1.7851, 1.7358, 1.9432, 1.2919, 1.6279, 1.5254, 1.3691, 0.7153, 1.3258, 1.3766, 1.3345, 1.3215, 1.5364, 1.4638, 1.1381, 1.2917, 0.5197, 0.2304, 0.3558, 0.2707, 0.8795, 1.2078, 0.7527, 0.7853, 0.3038, 2.1529, 2.1526, 2.1525, 2.1524, 2.1522, 2.1522, 2.1521, 2.1519, 2.1516, 2.1516, 2.1516, 2.1515, 2.1515, 2.1515, 2.1511, 2.151, 2.1509, 2.1505, 2.1503, 2.1503, 2.1502, 2.1496, 2.1495, 2.1493, 2.1486, 2.1485, 2.1483, 2.1481, 2.1481, 2.148, 2.1255, 2.0776, 2.0043, 2.0737, 1.9654, 2.0336, 2.0365, 1.8429, 1.722, 1.4832, 1.4122, 1.9047, 1.7626, 1.2032, 1.3641, 1.3772, 0.9005, 1.3597, 1.1892, 0.8164, 1.4203, 1.1115, 1.3616, 0.7857, 0.5308, 0.1793, 0.1292, 0.358, 0.1401, 2.365, 2.3649, 2.3646, 2.3644, 2.3644, 2.3642, 2.3642, 2.3641, 2.3636, 2.3636, 2.3634, 2.3634, 2.3632, 2.363, 2.3629, 2.3627, 2.3625, 2.362, 2.3617, 2.3616, 2.3605, 2.3598, 2.3596, 2.3591, 2.3579, 2.3576, 2.3572, 2.3567, 2.3565, 2.3561, 2.2708, 2.1566, 2.2815, 2.102, 2.1035, 2.0966, 1.9649, 1.9901, 1.9414, 1.7082, 2.011, 1.9698, 1.8903, 1.9811, 1.4092, 1.4744, 0.8768, 1.3753, 0.9406, 1.1338, 1.2565, 0.8069, 0.5338, 0.9661, 2.4233, 2.4231, 2.423, 2.4227, 2.4224, 2.4224, 2.4221, 2.4221, 2.4217, 2.4209, 2.4209, 2.4208, 2.4207, 2.4206, 2.4206, 2.4204, 2.4203, 2.42, 2.42, 2.4197, 2.4195, 2.4181, 2.4179, 2.4178, 2.4176, 2.4175, 2.4167, 2.4165, 2.4164, 2.4162, 2.4023, 2.3856, 2.3846, 2.3615, 2.3725, 2.3395, 2.1931, 2.32, 2.2545, 2.2302, 2.3501, 2.0932, 1.9868, 2.0856, 1.9558, 1.8312, 1.5153, 1.7268, 1.3175, 1.5444, 1.6416, 1.0686, 0.8019, 1.288, 0.7106, 1.6189, 1.5331, 0.8656, 2.558, 2.5579, 2.5577, 2.5572, 2.557, 2.5569, 2.5564, 2.5563, 2.556, 2.556, 2.5554, 2.5554, 2.5554, 2.5551, 2.555, 2.5548, 2.5546, 2.5544, 2.5537, 2.5528, 2.5528, 2.5526, 2.5523, 2.5521, 2.5517, 2.5516, 2.5513, 2.5507, 2.5495, 2.5495, 2.4818, 2.4966, 2.3876, 2.3775, 2.3249, 1.8568, 2.2047, 2.1845, 1.7815, 2.083, 2.0105, 1.8977, 1.0492, 1.5814, 0.548, 0.9094, 1.797, 1.5289, 1.118, 1.7907, 0.8839, 0.7471, 1.8252, 0.9756, 1.1293, 1.2234, 0.8762, 0.071, 1.044, 0.5562, 0.321, 3.208, 3.2074, 3.2066, 3.2062, 3.2053, 3.2049, 3.2045, 3.2042, 3.2037, 3.2034, 3.2032, 3.2032, 3.2028, 3.2027, 3.2027, 3.2024, 3.2023, 3.2018, 3.2018, 3.2014, 3.2014, 3.2012, 3.2011, 3.2007, 3.2007, 3.2005, 3.2005, 3.2001, 3.2001, 3.1996, 3.1231, 2.961, 3.0558, 2.9519, 3.0141, 3.0895, 3.0356, 2.9294, 3.049, 2.64, 2.3939, 2.8258, 3.0434, 2.5411, 2.8214, 2.7634, 2.4109, 2.8885, 2.8213, 1.4141, 1.6924, 1.8719, 1.4424, 2.0694, 1.6111, 0.8638, 1.625, 0.9375, 1.6012, 1.1947, 0.8001, 0.9665, 1.1495, 0.4357, 0.2931, 0.8312, 3.5859, 3.5848, 3.5846, 3.5845, 3.5844, 3.5843, 3.5842, 3.5833, 3.5833, 3.5819, 3.5817, 3.5815, 3.5814, 3.581, 3.5808, 3.5805, 3.5797, 3.5796, 3.5795, 3.5794, 3.579, 3.5787, 3.5786, 3.5782, 3.578, 3.5775, 3.5768, 3.5765, 3.5762, 3.576, 3.4036, 3.314, 3.2368, 3.3449, 3.4429, 3.3538, 3.1805, 3.0851, 3.2135, 3.1573, 2.8956, 3.0367, 3.2408, 3.2544, 2.5552, 2.9999, 2.7066, 2.2236, 1.7552, 2.6282, 2.0202, 1.1408, 1.366, 2.544, 0.921, 0.2415, 5.5165, 5.5138, 5.5123, 5.512, 5.512, 5.5092, 5.5069, 5.5057, 5.5047, 5.5043, 5.5037, 5.5033, 5.502, 5.5013, 5.501, 5.5001, 5.4972, 5.4944, 5.494, 5.4922, 5.4918, 5.488, 5.4873, 5.4858, 5.4846, 5.4841, 5.484, 5.4836, 5.483, 5.4829, 4.8132, 5.0901]}, \"token.table\": {\"Topic\": [2, 2, 3, 1, 2, 3, 5, 6, 7, 8, 9, 1, 2, 3, 4, 5, 6, 7, 8, 9, 5, 8, 4, 1, 2, 3, 4, 5, 6, 7, 8, 9, 10, 10, 1, 2, 3, 5, 7, 8, 4, 1, 2, 3, 4, 6, 7, 6, 7, 6, 5, 2, 4, 6, 7, 6, 1, 3, 2, 1, 2, 3, 5, 6, 7, 8, 4, 2, 3, 3, 7, 9, 8, 1, 7, 7, 7, 10, 4, 1, 3, 4, 9, 1, 5, 1, 8, 7, 1, 1, 4, 8, 2, 3, 7, 9, 1, 9, 4, 1, 1, 3, 4, 7, 8, 9, 1, 3, 7, 8, 9, 8, 8, 1, 3, 5, 6, 7, 9, 9, 4, 1, 2, 3, 4, 6, 7, 9, 9, 10, 10, 2, 4, 4, 4, 3, 1, 2, 4, 5, 7, 9, 2, 3, 5, 6, 9, 4, 10, 4, 3, 3, 6, 5, 1, 5, 7, 9, 7, 2, 4, 6, 7, 9, 10, 3, 8, 1, 3, 2, 4, 8, 6, 1, 3, 7, 8, 1, 2, 3, 4, 5, 6, 7, 8, 2, 4, 6, 7, 2, 2, 3, 4, 5, 6, 7, 8, 9, 1, 2, 5, 6, 8, 2, 3, 4, 7, 2, 4, 3, 6, 7, 9, 3, 6, 5, 8, 3, 4, 5, 7, 9, 2, 3, 4, 5, 7, 6, 6, 5, 1, 8, 6, 7, 6, 2, 3, 4, 5, 7, 2, 3, 4, 5, 8, 4, 6, 2, 3, 6, 7, 8, 1, 1, 2, 3, 4, 5, 6, 7, 8, 8, 1, 2, 3, 4, 5, 6, 1, 5, 6, 8, 9, 8, 2, 2, 3, 4, 10, 3, 10, 2, 3, 7, 8, 6, 7, 8, 2, 2, 9, 1, 2, 3, 4, 5, 2, 2, 7, 1, 1, 2, 4, 7, 5, 1, 5, 1, 3, 9, 5, 3, 8, 10, 10, 10, 10, 1, 4, 9, 8, 7, 8, 3, 4, 5, 9, 2, 3, 4, 5, 8, 4, 4, 3, 1, 2, 3, 4, 5, 6, 7, 8, 9, 3, 9, 3, 9, 2, 9, 3, 5, 7, 2, 3, 7, 6, 1, 3, 4, 9, 3, 6, 1, 2, 3, 4, 5, 6, 7, 8, 9, 1, 5, 9, 3, 3, 1, 1, 4, 5, 1, 2, 4, 5, 6, 7, 8, 6, 9, 1, 7, 2, 7, 9, 1, 2, 3, 6, 6, 7, 8, 3, 7, 8, 1, 1, 2, 4, 5, 6, 7, 8, 9, 1, 3, 5, 7, 9, 2, 3, 5, 6, 7, 8, 9, 7, 3, 1, 2, 4, 6, 7, 3, 2, 7, 2, 4, 2, 3, 7, 1, 3, 5, 7, 2, 3, 4, 9, 1, 3, 1, 2, 3, 1, 3, 4, 5, 7, 8, 9, 1, 1, 7, 10, 1, 2, 3, 4, 5, 6, 7, 9, 3, 2, 3, 5, 7, 1, 2, 3, 4, 5, 6, 7, 9, 2, 3, 5, 7, 9, 1, 2, 3, 4, 5, 6, 7, 1, 2, 3, 4, 7, 10, 6, 6, 7, 4, 2, 5, 5, 1, 4, 6, 7, 1, 4, 1, 2, 3, 4, 5, 7, 8, 9, 1, 2, 3, 4, 5, 6, 7, 8, 9, 9, 1, 3, 5, 7, 8, 9, 1, 2, 4, 5, 6, 7, 1, 5, 8, 9, 1, 4, 7, 9, 1, 5, 7, 8, 4, 1, 8, 9, 1, 4, 5, 6, 7, 8, 9, 5, 9, 7, 9, 1, 8, 5, 1, 1, 2, 3, 5, 8, 9, 2, 6, 7, 8, 1, 5, 3, 5, 5, 5, 9, 4, 6, 2, 3, 9, 5, 7, 6, 9, 1, 2, 3, 6, 7, 1, 1, 6, 7, 1, 3, 4, 5, 9, 2, 7, 6, 2, 6, 7, 6, 1, 6, 7, 8, 3, 7, 8, 1, 4, 10, 1, 2, 3, 4, 6, 7, 7, 2, 1, 2, 3, 4, 5, 7, 8, 9, 1, 2, 3, 4, 5, 6, 7, 8, 9, 10, 8, 2, 4, 6, 6, 6, 2, 3, 4, 7, 1, 4, 5, 6, 7, 8, 2, 6, 2, 4, 9, 1, 2, 3, 4, 5, 6, 8, 9, 1, 2, 6, 2, 3, 4, 5, 8, 9, 1, 5, 10, 1, 2, 5, 7, 9, 1, 2, 3, 5, 6, 7, 8, 5, 1, 2, 1, 2, 3, 4, 5, 7, 8, 9, 1, 2, 3, 4, 5, 6, 7, 8, 9, 1, 6, 7, 8, 7, 7, 3, 5, 7, 9, 5, 9, 1, 2, 5, 7, 1, 2, 6, 7, 1, 2, 3, 4, 5, 7, 10, 1, 2, 4, 5, 6, 7, 6, 1, 7, 2, 3, 7, 2, 7, 9, 10, 1, 3, 4, 9, 1, 2, 3, 4, 5, 6, 8, 9, 1, 4, 6, 1, 5, 1, 2, 4, 6, 7, 1, 2, 3, 4, 5, 7, 8, 9, 2, 1, 2, 4, 6, 7, 8, 3, 8, 8, 3, 7, 1, 2, 3, 4, 5, 6, 7, 8, 9, 5, 1, 2, 4, 5, 6, 7, 8, 9, 2, 4, 5, 7, 8, 3, 9, 1, 3, 4, 5, 4, 1, 2, 3, 5, 6, 5, 9, 3, 4, 7, 9, 4, 8, 1, 5, 2, 7, 2, 4, 5, 1, 2, 4, 5, 6, 7, 9, 9, 8, 9, 7, 8, 8, 1, 2, 3, 4, 5, 6, 7, 9, 3, 7, 3, 6, 1, 2, 3, 4, 5, 6, 7, 9, 2, 6, 7, 7, 2, 4, 4, 2, 2, 3, 4, 7, 8, 2, 2, 4, 5, 7, 1, 2, 4, 6, 2, 6, 9, 10, 2, 10, 6, 7, 6, 3, 1, 3, 4, 5, 2, 1, 6, 6, 2, 3, 5, 6, 7, 8, 2, 6, 7, 1, 2, 4, 5, 6, 5, 10, 1, 2, 3, 4, 5, 6, 1, 4, 5, 6, 2, 1, 2, 4, 5, 8, 8, 8, 2, 3, 5, 8, 9, 9, 4, 4, 7, 2, 3, 7, 8, 1, 2, 3, 6, 8, 2, 1, 2, 3, 4, 5, 6, 7, 8, 9, 1, 4, 10, 10, 9, 5, 2, 3, 5, 6, 7, 8, 9, 1, 8, 9, 1, 3, 1, 2, 5, 6, 7, 8, 1, 2, 3, 4, 5, 6, 7, 8, 2, 5, 1, 2, 4, 6, 6, 1, 2, 3, 4, 5, 7, 8, 9, 3, 5, 10, 2, 4, 5, 6, 7, 10, 3, 10, 7, 1, 2, 3, 4, 5, 6, 7, 2, 1, 5, 7, 3, 4, 4, 5, 6, 2, 1, 2, 3, 4, 5, 6, 7, 8, 9, 1, 2, 3, 4, 5, 7, 1, 3, 9, 4, 6, 7, 1, 2, 3, 4, 5, 6, 7, 8, 2, 2, 3, 5, 3, 1, 5, 6, 7, 1, 2, 3, 4, 5, 6, 7, 8, 1, 7, 1, 8, 8, 7, 2, 2, 4, 3, 1, 3, 4, 5, 9, 2, 6, 2, 5, 8, 1, 2, 3, 4, 5, 6, 7, 8, 1, 2, 3, 4, 5, 7, 8, 9, 2, 3, 4, 5, 6, 7, 8, 1, 2, 6, 7, 8, 1, 2, 4, 7, 4, 6, 8, 3, 1, 2, 4, 5, 6, 7, 9, 1, 6, 7, 10, 3, 8, 7, 1, 2, 3, 5, 6, 7, 8, 10, 1, 2, 3, 4, 5, 6, 7, 8, 1, 2, 3, 4, 7, 4, 9, 9, 5, 1, 4, 5, 6, 7, 1, 3, 1, 2, 3, 4, 6, 3, 5, 1, 4, 2, 6, 7, 8, 10, 1, 1, 5, 7, 8, 3, 1, 7, 2, 5, 1, 8, 5, 6, 7, 9, 4, 8, 7, 7, 7, 7, 7, 9, 1, 2, 3, 4, 5, 7, 5, 1, 2, 3, 5, 6, 7, 5, 5, 3, 6, 7, 8, 6, 3, 1, 6, 7, 2, 4, 7, 1, 2, 6, 7, 8, 5, 4, 4, 5, 9, 8, 1, 5, 7, 8, 2, 4, 7, 1, 3, 8, 6, 1, 3, 7, 8, 1, 2, 4, 5, 7, 8, 1, 5, 6, 5, 8, 1, 2, 3, 4, 5, 6, 7, 8, 9, 9, 10, 9, 3, 7, 8, 1, 3, 8, 4, 3, 4, 8, 10, 1, 2, 6, 7, 1, 5, 7, 8, 9, 1, 2, 3, 5, 7, 1, 2, 3, 4, 6, 8, 9, 1, 5], \"Freq\": [0.9965377457741149, 0.9946079898298528, 0.9951425171587519, 0.015191817721289223, 0.293608199920362, 0.12679903305986945, 0.0932567028435576, 0.2579600731882279, 0.07114583942742378, 0.10318402927529115, 0.03880682150586752, 0.18165657815202602, 0.5121919033224073, 0.12743530608978554, 0.022975115280610373, 0.03614751470816032, 0.06524932739693347, 0.04365271903315971, 0.004441855620918005, 0.006279864843366835, 0.9941467283553711, 0.9946256721191393, 0.9949312028803736, 0.033802874884296445, 0.28406819627537194, 0.3879577658738977, 0.13180020023693567, 0.07535870272370675, 0.0009303543546136636, 0.026980276283796244, 0.04062547348479664, 0.01860708709227327, 0.9718163679210249, 0.9657637772579376, 0.11620095571404722, 0.000573831880069369, 0.1925205957632733, 0.12997292083571207, 0.11792245135425533, 0.4427112954735182, 0.9958932736734706, 0.06181426868984331, 0.008012960756090799, 0.06410368604872639, 0.0034341260383246286, 0.15911450644237446, 0.7017064204976657, 0.9399839567914399, 0.059846729428935964, 0.9949246402858251, 0.9983231061650686, 0.008072785801249753, 0.08045876515245587, 0.415210283044279, 0.4959381410567765, 0.997536082177022, 0.01886740620981593, 0.9806763182238415, 0.9969800226516677, 0.030163856907373714, 0.400322792289219, 0.028674283726762666, 0.15119167783202134, 0.17893497832090208, 0.10427012264277333, 0.10613208911853714, 0.9974959205136606, 0.9162998184825473, 0.08290331691032571, 0.045582366142776276, 0.23327446202479624, 0.7185925956625907, 0.997068338060989, 0.9601428157270063, 0.038832104363265126, 0.9964786317461954, 0.9960689681239445, 0.9855967603519779, 0.9985731526767382, 0.2062727419665898, 0.48885640139739456, 0.24059599305311444, 0.06398120590886146, 0.9988010136519219, 0.989722187238218, 0.3573377588733125, 0.6406325587008035, 0.9975994731137406, 0.9945804980340038, 0.9669688147166496, 0.031192542410214505, 0.9924935369592893, 0.06816129786630089, 0.08823101334915615, 0.843306724156956, 0.9908443162671164, 0.9966607915523374, 0.9933843711263661, 0.9983079935101488, 0.9967038124143253, 0.18140834723133709, 0.20096314419657244, 0.13026503209149082, 0.23947105206657435, 0.2196154120711046, 0.027978401811798257, 0.049878379722194235, 0.0009591996100421969, 0.1256551489155278, 0.8229932654162049, 0.9932465985864419, 0.9940953706481094, 0.9908070614067175, 0.10828095087576256, 0.32694539536273937, 0.11143476497894012, 0.02628178419314625, 0.0735889957408095, 0.3521759081881598, 0.9934610642577687, 0.9962033263252094, 0.2511256476868252, 0.4123147456346109, 0.04306820691728654, 0.11432075512603267, 0.12207936593098502, 0.05621034358689972, 0.0007916949800971791, 0.9978114336312142, 0.9858018069366783, 0.9762636255424044, 0.2664261884874947, 0.7333282404797422, 0.9984163851062186, 0.9979160366090392, 0.9974922311939007, 0.2431933589322996, 0.01129112023614248, 0.05254713648358616, 0.621880160698309, 0.03691327769508119, 0.03387336070842744, 0.05847965238345539, 0.01976632733801557, 0.518430823756657, 0.4032125944547529, 0.9966313978126242, 0.9970754919254025, 0.9858940612355056, 0.9972456002711411, 0.9974414485388332, 0.02068406133664455, 0.9787092437339129, 0.9916743340485248, 0.8151586908754248, 0.0696455629733739, 0.09538064397970145, 0.019622999267324748, 0.9973856933517917, 0.6162193511905891, 0.1353965348275142, 0.1961598577744962, 0.050195788521419905, 0.0013209418031952607, 0.9791706299988332, 0.7992727321704538, 0.20041584460704798, 0.9958966653739735, 0.9965532254656225, 0.11177474489187968, 0.8873546074069631, 0.9900011380268733, 0.9958064033847315, 0.11515786790161184, 0.10203861712801049, 0.09912322806721019, 0.6822010402272701, 0.3066856733809572, 0.30113140518952525, 0.13975739692494915, 0.11123547918516362, 0.06515006473193119, 0.008856806034986037, 0.0580946429752474, 0.009006921391511224, 0.7515461306727234, 0.09028447757395854, 0.14057993996675736, 0.01690257342708813, 0.9970306185492269, 0.7356999179789938, 0.10919640514885066, 0.03997109790594534, 0.07443892870889819, 0.004634330191993662, 0.013323699301981778, 0.01274440802798257, 0.009558306020986928, 0.10738127305866461, 0.29979858316378616, 0.16200296108850556, 0.11048477806036011, 0.3196610151746374, 0.18930546718958077, 0.006067482922742973, 0.010921469260937353, 0.7924132697102323, 0.02697434818327261, 0.972816815125767, 0.9970172159553079, 0.9973030555098913, 0.9923041251757786, 0.9968718168375775, 0.9117869818223319, 0.0871979234175203, 0.9992646176102081, 0.9921876306215, 0.23260635178031214, 0.05493717856117925, 0.007013256837597351, 0.09993890993576225, 0.6054778403125713, 0.3622703046931783, 0.2542236277924506, 0.02374149135288386, 0.22577308030345755, 0.13394648564932823, 0.9995749681858513, 0.9965600128506822, 0.9998156629545857, 0.24139500187468949, 0.7559475058707381, 0.9615066058082343, 0.03775719914480541, 0.9987795198603654, 0.20203598437726444, 0.5717018250992295, 0.004400783818118631, 0.09481688771764687, 0.12682258821305512, 0.6855621679064124, 0.07429580703357866, 0.1635783219237161, 0.05803363467858933, 0.018494235227242754, 0.9986642362057145, 0.9977150459658768, 0.21523753952795519, 0.04501700173133703, 0.05345768955596272, 0.23493247778541512, 0.4501700173133703, 0.9992781880405183, 0.3058749039620296, 0.09507812879796039, 0.009441938887557268, 0.0645565123939962, 0.24680789092126437, 0.06894811187658098, 0.15151018214917475, 0.0577495331959898, 0.9932783977600776, 0.023059929249853294, 0.23563054978941003, 0.452393884738031, 0.2435967071666321, 0.031864629508888194, 0.013416686109005553, 0.26804341056013775, 0.41028511376405086, 0.32117557105339173, 0.9928806793427548, 0.9959277160796826, 0.9900300888589099, 0.9941621692050716, 0.996049934604144, 0.9969134140121382, 0.995914341646841, 0.9571779826694613, 0.9717236502424111, 0.026549826509355497, 0.019372480865945868, 0.2837498668012071, 0.6882928495900767, 0.00797690388597771, 0.022653207129363948, 0.46439074615196096, 0.5130285144003012, 0.9954594134594568, 0.9925667259825616, 0.9957595268664723, 0.0025395595597928313, 0.23313156758898193, 0.7359643604279625, 0.008634502503295628, 0.01930065265442552, 0.9958918182495415, 0.4207357314672808, 0.5779436829658544, 0.9982082567224174, 0.9974039973689255, 0.8782872761581746, 0.1023410197624616, 0.018454937989952094, 0.9975883700395527, 0.23496592966536975, 0.7647910651853211, 0.9992053612471731, 0.3473693816344955, 0.6504983231551636, 0.9985900428517063, 0.9933309752144422, 0.992968364160753, 0.9953127234095174, 0.9854147753130642, 0.989518931384694, 0.9678455229831734, 0.1807394488837396, 0.10844366933024376, 0.707465842773495, 0.9932210511378966, 0.9396065066211482, 0.057338192333180306, 0.3608418628018913, 0.08621269939775436, 0.05214477786154498, 0.5012851311756524, 0.3555796544769723, 0.416138675032314, 0.04132743970330749, 0.1779944185241461, 0.009002016569037274, 0.9992130583942919, 0.9985617551964301, 0.9971055285660838, 0.17603603874673146, 0.183958898437161, 0.27259589122384154, 0.15969514063522053, 0.09581708438113232, 0.001733125557281463, 0.07675270325103623, 0.0007427680959777699, 0.0329293855883478, 0.8671230670277699, 0.1299060774573438, 0.9966431190951954, 0.9980150048846229, 0.9922454637754019, 0.9943955077769667, 0.6712346100625468, 0.1425438931178459, 0.1859582768085604, 0.12475727845681917, 0.7050676494605083, 0.16949347426709271, 0.9974059814332877, 0.04033064853827697, 0.2126525104745513, 0.05682955021302664, 0.6892874477450973, 0.9968451052361146, 0.9976241588894265, 0.1387544374909677, 0.227036728518174, 0.004044806162601086, 0.12345451852808532, 0.29192948825729576, 0.14825093891620503, 0.03042397678826034, 0.017937836025448295, 0.018289558300457084, 0.9551924163428278, 0.007243622975299503, 0.03750587007210632, 0.9950296863212694, 0.996653596440029, 0.997368223599485, 0.9580073904500807, 0.025582149468740642, 0.01587857553232178, 0.18075885833494432, 0.09507690469592706, 0.1732428974894165, 0.05449071613007677, 0.029688045339834927, 0.4599768037463032, 0.006764364760975047, 0.9194624632993577, 0.079446641414115, 0.9770485573895216, 0.022497828624100824, 0.15323308038597808, 0.012858720032389769, 0.8326021220972376, 0.6042069217646613, 0.02067886042321545, 0.17740880253796862, 0.1975226667747574, 0.09331847293808818, 0.12596775589815037, 0.7804153232916357, 0.9986858437319976, 0.9974265549676593, 0.9989110850730725, 0.9949285725821083, 0.16993655624991164, 0.48797202717556404, 0.058961632250261395, 0.0696819290230362, 0.12606274908725923, 0.059358680278882685, 0.019852401431064443, 0.007742436558115133, 0.13984731167651043, 0.5779530491409768, 0.14294127874899962, 0.05507261389030721, 0.08353711095720756, 0.25600529451116577, 0.07436657655465741, 0.0052648903755509666, 0.178348161471789, 0.4672590208301483, 0.0026324451877754833, 0.0157946711266529, 0.9945301687973781, 0.9984689886043534, 0.010412166516470785, 0.11657907867548539, 0.6498307495547392, 0.2106604404135964, 0.012643345055714524, 0.9975594073144891, 0.9417678023615931, 0.057491639097655395, 0.9710203345851123, 0.027539442262392893, 0.8636124639844233, 0.07686845523936421, 0.059272061871316985, 0.9989637557493919, 0.02642556891566934, 0.045644164490701584, 0.9260960742718664, 0.18789665391555993, 0.13314531105274777, 0.012443487014275492, 0.6663487296144526, 0.9949965520936542, 0.0033558062465215994, 0.9960793056557822, 0.9952589033544644, 0.9954402080152431, 0.599856634568668, 0.10982616484524077, 0.1361461607776514, 0.14523852300884782, 0.00430690842530356, 0.0007178180708839266, 0.0038283630447142752, 0.9976160662026462, 0.9332152184384553, 0.06588382686026628, 0.970485058485858, 0.42224161786128284, 0.19261244678070405, 0.0600214682150511, 0.1451390207012037, 0.08177140791667241, 0.019240331274511153, 0.07800699527600718, 0.0008365361423700501, 0.9920413131773852, 0.02808413509712675, 0.8876592700341848, 0.045636719532830966, 0.03811418334610059, 0.6098252412093429, 0.005584004551107697, 0.09388919280118291, 0.16609167025271498, 0.07700731857690382, 0.016362431940455113, 0.017790898220971036, 0.013375638808467274, 0.7877259760088218, 0.08706929695495533, 0.09184136419190961, 0.02411149761829532, 0.009125532084702048, 0.13971717646909165, 0.6968556386740145, 0.017086156255508113, 0.02379085048235307, 0.031576947003850435, 0.07613072154352982, 0.014923351666203288, 0.2995610479863842, 0.17135385049426916, 0.4926936852341216, 0.03616100442085296, 0.3391612977479495, 0.6500591540169033, 0.9972969952950044, 0.9285625876283278, 0.0690258914697164, 0.9994903037142919, 0.006768880717187827, 0.9927691718542146, 0.9938342218272507, 0.36497464129548063, 0.050745137292419765, 0.49834327135889156, 0.08587638618717192, 0.9709681550243289, 0.027741947286409396, 0.5717930902010402, 0.004704502627639686, 0.14779979088501347, 0.0425365445915755, 0.08252481692651283, 0.07664418864196322, 0.0043124607420030455, 0.06958743470050369, 0.07543144542414297, 0.12005842622481394, 0.10169422616082101, 0.049563593721099176, 0.37162822064983525, 0.023300812984421125, 0.0053315419540624605, 0.09280832290405025, 0.16014372313869096, 0.9870800072885755, 0.1977860714034856, 0.07573864878689274, 0.13330002186493123, 0.3570536299953515, 0.18610067987636503, 0.049338319781175845, 0.2363298851551784, 0.1459421890943165, 0.2627673930939285, 0.08342105545538042, 0.08413558269696828, 0.18738476910641128, 0.5131619465140134, 0.20731984411579105, 0.17085250516053527, 0.10859610882255721, 0.9487827008235753, 0.009048336383876058, 0.0413638234691477, 0.9870072489211282, 0.010478625045981904, 0.8117659840309106, 0.14080652405538183, 0.036675187660936664, 0.995064590356543, 0.2296018711917169, 0.6789089811961974, 0.08906969141057983, 0.07158101585809581, 0.47662481290878433, 0.0485936164565122, 0.04350147101945254, 0.10678956430862262, 0.16614943111777525, 0.08671196229964452, 0.21364085390473328, 0.7854984843997305, 0.9960551852582502, 0.993225335756026, 0.14330185454596323, 0.8510375443443938, 0.9894162229786404, 0.9953714729521861, 0.10595471943309809, 0.16673926900261227, 0.5375807870184556, 0.042939544191308174, 0.10037815525240872, 0.0462854826997218, 0.038878841387815, 0.8242314374216779, 0.09962703105627593, 0.036934899318424246, 0.9963845930238865, 0.9979348065408711, 0.9507328573024928, 0.047388553635015214, 0.9990501832166921, 0.9945201052942804, 0.9956474619213518, 0.9970549204283242, 0.9918465860426865, 0.8135838675648775, 0.1465105757486047, 0.039287752156050425, 0.9983706354409839, 0.9980317405412842, 0.9998654628472299, 0.9907492522451207, 0.10549488103895796, 0.3199498034429711, 0.08123875875627785, 0.45740116304482503, 0.03580665670300398, 0.9967769808962702, 0.9988401111701529, 0.9980288247896876, 0.9960703733746631, 0.29199118648729006, 0.023589952229673344, 0.27416766702487017, 0.052946337226600165, 0.3564703892483972, 0.8626277251403032, 0.13560577829284684, 0.9973621882118804, 0.04842963005278605, 0.9501893416356623, 0.9924826502892304, 0.9948986641740849, 0.06656425387392338, 0.6460648170116092, 0.20556607814005748, 0.08173698821283239, 0.0980828019578911, 0.1733556499720866, 0.7253565354095203, 0.25498266434035094, 0.24701445607971498, 0.49402891215942996, 0.6448273693545251, 0.12788223610624042, 0.06950775656598007, 0.06108257395192189, 0.08124283234984685, 0.015345868332748848, 0.9992150573766863, 0.9957638992632869, 0.00666848510742103, 0.060529326359667804, 0.6329931248121192, 0.04206275221604034, 0.03949795025164764, 0.13952522686296306, 0.03180354435846952, 0.047192356144825746, 0.24950338687256565, 0.32624354195616373, 0.09416330253880273, 0.132141848677114, 0.06636457289117281, 0.06430903302286216, 0.008417925174986522, 0.023785532761880522, 0.03523782631389707, 0.96299682937258, 0.995111201932535, 0.5855599882868228, 0.13330349539011513, 0.28058760127236426, 0.9963405544091269, 0.9990056303167818, 0.3711424704498354, 0.0235120017419326, 0.5117410848932042, 0.09357461095950358, 0.6143178054484387, 0.15876196782782695, 0.050813941932154806, 0.02705020789423166, 0.10541996908312713, 0.043735382857028764, 0.552190096590204, 0.4473488648321781, 0.19099552148348262, 0.7803531306325147, 0.02837647747754599, 0.15690966697868786, 0.05403776796459913, 0.47233011998686647, 0.1785247741645275, 0.06724700013372337, 0.019613708372335982, 0.0004002797627007343, 0.05123580962569399, 0.05451864281530838, 0.8804760814672303, 0.06451372733144825, 0.21955502444631397, 0.4662107585291139, 0.05380865536519681, 0.12450615876472546, 0.10015479648266559, 0.03534875169976433, 0.9765333193543843, 0.02322314671472971, 0.9850009770183954, 0.8868981500671428, 0.02271270747312673, 0.05975867694385771, 0.030430617779529018, 0.9928866969513725, 0.2108389238416339, 0.2255144869860632, 0.08340611720417304, 0.10493027648266932, 0.1401516280292996, 0.10786538911155517, 0.12743280663746087, 0.9993205654300944, 0.9984241740529497, 0.997829972771983, 0.0035321448174362472, 0.1616635512595821, 0.23067622692333647, 0.4602656400566925, 0.08151103424852879, 0.008422806872347975, 0.03233271025191642, 0.02146457235211258, 0.3797934358287249, 0.24256500893328023, 0.16299122013546755, 0.13889054258834932, 0.027840437856153793, 0.035423840705031504, 0.00571352269435992, 0.000623293384839264, 0.00623293384839264, 0.3609076410323721, 0.5530679804191421, 0.07266713195221716, 0.01335410300792535, 0.990288951727314, 0.9949064756058368, 0.4121852271028004, 0.11983116911648424, 0.05269171975334768, 0.4147348264457043, 0.9993968084168523, 0.9984836771254512, 0.07755802630430288, 0.010771948097819842, 0.7699788500321624, 0.14132795904339635, 0.09555112193492897, 0.8661916923231604, 0.002492637963519886, 0.03531237114986505, 0.27814977654064765, 0.5089252642778788, 0.02351297422228393, 0.09074266348007354, 0.008708508971216269, 0.0898718125829519, 0.9875854754580572, 0.16380801114972193, 0.35177076292660625, 0.19740253547025813, 0.06607848585361664, 0.028596991776985353, 0.1922661825782753, 0.9958719064030203, 0.999502455104766, 0.9960572783036014, 0.9165366478624124, 0.01540005569218921, 0.06766691137477077, 0.5189031732032826, 0.48046590111415055, 0.9894403832248874, 0.9952894703351569, 0.13661806971527796, 0.042796021838520805, 0.05870736329130418, 0.7615497219470113, 0.1360918288894794, 0.34405970153974974, 0.14407805597401172, 0.07040918572485641, 0.15532396758284295, 0.07546169673751972, 0.023306744348737193, 0.0513400312577078, 0.9992269223847677, 0.9987907618194358, 0.9996507510860223, 0.9972962548523128, 0.9918581582142004, 0.7313426557435968, 0.03394250857741464, 0.05880736951203234, 0.11445729636570053, 0.06078077117350993, 0.004940030622909721, 0.4787338767292511, 0.1684101348719223, 0.145206960734013, 0.10463883046708772, 0.07200468877635079, 0.023053476240245365, 0.0029939579532786186, 0.9964223901152134, 0.6949056691412845, 0.014951863782753047, 0.14453468323327948, 0.11249497512738008, 0.033107698376096034, 0.9945332531359254, 0.9959240235417629, 0.9944646859098158, 0.9967098968995287, 0.8858174180416053, 0.11314178859721438, 0.023964017549627178, 0.21074238962760372, 0.18695457808937085, 0.05074733128156344, 0.3844815168624008, 0.03277431811934305, 0.07471134883119061, 0.022906781481261275, 0.012863038831785177, 0.9976164672283139, 0.01660140812091265, 0.0009765534188772146, 0.06530700988741373, 0.0729973680610718, 0.7941820679018948, 0.034545577192781465, 0.00537104380382468, 0.01000967254349145, 0.7061721859557581, 0.027111398286467678, 0.09696311857748441, 0.13651386431303725, 0.032852635570660836, 0.4221747814044364, 0.5766962700230536, 0.8453316798644, 0.05518972182695825, 0.0005464328893758242, 0.09890435297702418, 0.9985709221842659, 0.23273887588840872, 0.6560900569399049, 0.03878981264806812, 0.02210602226180226, 0.04963427639914093, 0.9988813596877562, 0.993943743567964, 0.27615666117932225, 0.036919339729855914, 0.12995607584909283, 0.5567436431262272, 0.9950006471651576, 0.9911617541720843, 0.8917843876437622, 0.10724445016862032, 0.9153562842170789, 0.08397764075386045, 0.07218251672154537, 0.9270941991423484, 0.9985356498791366, 0.17798855915466955, 0.06496582409145438, 0.002669828387320043, 0.01008601835209794, 0.021061979499969227, 0.018392151112649184, 0.7048346942524913, 0.9981780206184413, 0.9889526047259137, 0.9951794864030638, 0.989920763348811, 0.9950271816525272, 0.9928477965905115, 0.0028572610492187344, 0.2971551491187484, 0.26382043687786316, 0.14072010667402268, 0.12167169967923111, 0.02238187821888009, 0.08667025182630161, 0.06476458378229132, 0.7900948447198843, 0.20957229245342587, 0.9971349181161747, 0.9910204950890796, 0.18648780283912597, 0.08864088795033209, 0.23672640698901748, 0.38139254459341704, 0.0381392544593417, 0.05023860414989149, 0.017885995194725765, 0.0002630293410989083, 0.9969045533812371, 0.9926765126248847, 0.00706120126673159, 0.9937459389435951, 0.1708002101372617, 0.8287720683912921, 0.999057543263489, 0.9960341192464346, 0.11579270082873525, 0.299490092734278, 0.4543026533608803, 0.09197538380925797, 0.03825973265894753, 0.995064680516811, 0.0034113260795632745, 0.8616291503065344, 0.023161108645455918, 0.1116760432362293, 0.013713918194052021, 0.8437668615182533, 0.08733600534106814, 0.054855672776208085, 0.9954521340876356, 0.9934913919014208, 0.9991555009530866, 0.984561235576198, 0.9995943559813185, 0.9945449024646448, 0.9627975955257847, 0.03671685745649179, 0.9964364872785726, 0.9991713114558678, 0.14978936391488107, 0.7409869983035662, 0.04196996670078793, 0.06657305062883602, 0.9974974472232907, 0.9977251916904085, 0.9958942983615886, 0.9990671364158598, 0.43243443270535104, 0.08366560452791943, 0.3300413527453101, 0.05034529109674222, 0.040373518464054146, 0.06299241736259051, 0.18459387909128225, 0.6264176902890554, 0.18868989711845566, 0.09674390361570628, 0.604546769694753, 0.02380967359141852, 0.21045562059541198, 0.0641766489331913, 0.99263503774413, 0.9964202981316823, 0.11400768392149607, 0.3880261522942147, 0.008857739853549821, 0.3528809264236783, 0.024858818298672074, 0.1111503484848671, 0.27958136373078724, 0.6764541175227755, 0.030244949638422895, 0.01254058887446803, 0.9975839673672814, 0.012560458635250432, 0.03140114658812608, 0.060708883403710424, 0.006280229317625216, 0.8876057435576972, 0.9944169866351006, 0.997545751541934, 0.9984691299924637, 0.0477155611939657, 0.6872715042148393, 0.009208266195326715, 0.2557386656974828, 0.99066335078139, 0.997304970523634, 0.9989579394236875, 0.9977707067943352, 0.045828329960650865, 0.37188562836921607, 0.3763933329555096, 0.20510055867635552, 0.1335848929329598, 0.33287911157888905, 0.09459254580658236, 0.41050276558047377, 0.027800099340102448, 0.9958630261314697, 0.19852290726136188, 0.2703763475761085, 0.07963139003953881, 0.06963116896480602, 0.1122247031720012, 0.05963094789007325, 0.13500298450889253, 0.05907538005258809, 0.01592627800790776, 0.9818174864882492, 0.015510544810240903, 0.9608101443545749, 0.9664079661482168, 0.9935347670498497, 0.9973681162170094, 0.5954019833393664, 0.0070609613057943475, 0.10091743158589152, 0.1803260887325941, 0.03432713496355406, 0.06246235001279615, 0.01933617096048298, 0.047613654203636474, 0.9180889220803751, 0.03296329906405602, 0.13424259443824568, 0.8647837544336425, 0.13624345585370642, 0.036359449875068894, 0.3096822110048971, 0.06018115841390713, 0.19433499071157512, 0.26245671863842834, 0.003527709022782257, 0.6930591418604526, 0.057528793294602955, 0.010040402603303347, 0.09741904147529463, 0.044503406133560776, 0.07326780278086226, 0.020623529671650116, 0.3451542062802976, 0.6544346655909982, 0.1577906828436871, 0.5579706676460502, 0.2547464036271575, 0.029276825491479298, 0.9961798298425079, 0.03874989163641376, 0.11201140551150852, 0.15681596771611195, 0.021191346988663776, 0.25036062799464204, 0.12896448310243955, 0.20222599697753432, 0.08960912440920682, 0.07841967463188902, 0.9196489115921531, 0.9993676861086915, 0.7812914521751676, 0.13872961598311315, 0.03679146910362967, 0.04311866442718381, 0.9998586767835227, 0.9646056165533095, 0.993794956044842, 0.9897593308524916, 0.9977014929200096, 0.43625387830764245, 0.27832979178907763, 0.15655480253140966, 0.05568421547764426, 0.0009128559914367911, 0.042630374800098146, 0.029576534122552033, 0.9980806978393704, 0.3231733706289173, 0.6700176290353342, 0.006246484274617934, 0.9920252139869329, 0.9979538628780076, 0.9236761869294796, 0.03784148251852616, 0.03784148251852616, 0.9973974070493565, 0.3939989703751716, 0.004305327493952859, 0.02570895560674707, 0.060397594272310104, 0.13420320845435912, 0.055231201279566676, 0.22117082383220685, 0.09582428907969363, 0.009102692415786044, 0.35284275740707194, 0.0605241226209211, 0.10688302505396705, 0.45328704601200487, 0.007297234642238714, 0.018457711153897924, 0.08339610723260604, 0.5322358304283172, 0.38324727930489744, 0.997949886963578, 0.9985105348403549, 0.9967604038334658, 0.03491056126536077, 0.29579624207271893, 0.059206424848686164, 0.02571115660759678, 0.16039987608409, 0.1601639939133781, 0.13020695823296718, 0.13350930862293373, 0.9965501181092703, 0.9947228395348324, 0.8586779920351938, 0.14073175077448685, 0.9952373286612634, 0.06995240029585927, 0.18559625280808903, 0.7185284122875255, 0.025069646348805052, 0.37724258737149274, 0.02020677112348287, 0.059134521376074875, 0.06091747176932336, 0.09613074203598101, 0.13297838349644978, 0.16343711938111147, 0.0898904156596113, 0.9672929641893789, 0.030923688113471192, 0.9970420396596847, 0.9969103375298082, 0.9944732808525286, 0.9986939440314813, 0.9954313955296364, 0.9953608012346035, 0.9965854416940182, 0.99682721036565, 0.573173182606117, 0.08134879805217025, 0.12575479331918063, 0.010821629098683198, 0.20859622986772097, 0.9652058068455325, 0.03344312708993183, 0.22372247325540634, 0.7019160061378152, 0.07422072572454239, 0.26736510792061796, 0.008476568811221705, 0.0017659518356711887, 0.22427588313024097, 0.08971035325209638, 0.07134445416111602, 0.2631268235150071, 0.07381678673105568, 0.4707018006356319, 0.0022751429676265774, 0.23661486863316405, 0.030840826894493606, 0.22018328053363878, 0.004044698609113916, 0.01895952473022148, 0.01643158809952528, 0.40606927117822955, 0.024542648258024862, 0.2856885956316365, 0.16023712499041026, 0.03397432713404268, 0.035191317956754654, 0.05415609161068296, 0.016762197079152854, 0.6206502793504186, 0.33090372983934785, 0.013020635231127663, 0.018707809240125953, 0.7753839782183183, 0.1704200828451569, 0.043289988889927314, 0.010411516315298974, 0.09298660952909187, 0.06282879022235938, 0.8419057889796157, 0.9937353086039482, 0.18033777422229805, 0.3233531901755745, 0.38673685033934385, 0.008526228397664403, 0.00048261670175458885, 0.08317094493570748, 0.017213329029247004, 0.02779200637110923, 0.9018954325592221, 0.06992827409504904, 0.9873312368168052, 0.9951283702866957, 0.9946985785850027, 0.992007178288342, 0.051399159477442384, 0.23889750179656322, 0.4680219239741761, 0.1096756712793313, 0.0825282278933582, 0.02714744338597309, 0.02207992062059145, 0.977497535804423, 0.43464333285601037, 0.22716514955886766, 0.02254310644477313, 0.05365463343869079, 0.06762931933431938, 0.09670074619748835, 0.0831340803280095, 0.014484710928315766, 0.2646052826251629, 0.008371692557632274, 0.07534523301869046, 0.4523703871320582, 0.19912668726368193, 0.20596187827484067, 0.7924295994642174, 0.9881032331727886, 0.9981529624230996, 0.7563825204500685, 0.054499177237668686, 0.011973304090093879, 0.14037666864247997, 0.03633278482511246, 0.9949587957627262, 0.9974908295586586, 0.9992068519859422, 0.3530598881001564, 0.1450310195019898, 0.4804152521003412, 0.02130143098935475, 0.08972859879979944, 0.9099164065973797, 0.8711036933821572, 0.12864220802025012, 0.7636855330318033, 0.01971470805381014, 0.18677091840451712, 0.029053253974036, 0.9786217875986326, 0.9983070105044742, 0.3214131578821358, 0.03327128392139297, 0.07847000924856831, 0.5662395867376689, 0.997936506898145, 0.9975951081558669, 0.9913516033393781, 0.9952262203850333, 0.9943221647031653, 0.1403988893047089, 0.8585932076711044, 0.1551512381754492, 0.8447122967330012, 0.9987063970398783, 0.9911663385484836, 0.9994262503355601, 0.995409676132728, 0.9996847558292066, 0.9975723425345588, 0.9986769649216627, 0.9957754237660045, 0.9993953835873796, 0.9886063857877474, 0.017588133666905273, 0.37457971160868525, 0.1678003022815557, 0.028045942874254354, 0.1751683042230971, 0.23696444953925078, 0.9984847285381857, 0.13741509116366432, 0.17728482183931904, 0.452502088930489, 0.04864365198939103, 0.12631866126688016, 0.057804658066968655, 0.9998739329865632, 0.9989898931540077, 0.0359737167742568, 0.2508437548042772, 0.6212758113175701, 0.08944816062788177, 0.9952571356572351, 0.9985319548234817, 0.2387674102073114, 0.7133665657423361, 0.04745991555350247, 0.051906705860086395, 0.8900101029180667, 0.056970774724485064, 0.39467840322477343, 0.040479836228181895, 0.3324253217526452, 0.21987911042126074, 0.011959951612871923, 0.9986039251958959, 0.9997553099596923, 0.9990629398509507, 0.1313858386945673, 0.8671465353841442, 0.9937892802090733, 0.7180576232090942, 0.11037052074642496, 0.0956544513135683, 0.07574447502205635, 0.0035085297520326144, 0.16139236859350026, 0.8344453260250901, 0.1485803694187767, 0.17032383811420743, 0.6794833967322105, 0.9947627670519213, 0.0004798658392236907, 0.15787586110459423, 0.06814094916976408, 0.7735437328285893, 0.09014485370788257, 0.09146083697369108, 0.03947949797425514, 0.6810213400559011, 0.0289516318477871, 0.06843112982204223, 0.2896332659776454, 0.6732607239329418, 0.03661401664245706, 0.9957771891175907, 0.9988206156253606, 0.14554834292055027, 0.3523570027705676, 0.049360830907196465, 0.07547359190051245, 0.24063405067258276, 0.021705543948030585, 0.06941366846324502, 0.031070880169262058, 0.014543816249441814, 0.9964273087061651, 0.9886873073875109, 0.9962266683913681, 0.2933439806955976, 0.5165099755788513, 0.18877878183520513, 0.9970139556032641, 0.995895290018304, 0.995025325743439, 0.9990745749865059, 0.10739142737260551, 0.042305713813450656, 0.8461142762690131, 0.9835461435703928, 0.5525096969077911, 0.21379163097131307, 0.1352296460963125, 0.09830980620970019, 0.996486641462065, 0.7687966743011455, 0.13815831198950418, 0.010478298943024194, 0.08266213610607975, 0.24151921838860593, 0.008968330216502639, 0.6240289304133929, 0.07633508974976665, 0.04880440164329343, 0.5107809187038352, 0.06337996750827425, 0.20906586504465466, 0.13358208429695304, 0.06415021016896509, 0.002530797313698451, 0.01650519987194642, 0.9856628861783819, 0.013897632885378488], \"Term\": [\"abort\", \"abroad\", \"acceler\", \"accord\", \"accord\", \"accord\", \"accord\", \"accord\", \"accord\", \"accord\", \"accord\", \"ad\", \"ad\", \"ad\", \"ad\", \"ad\", \"ad\", \"ad\", \"ad\", \"ad\", \"administ\", \"aerial_photo\", \"agenda\", \"alreadi\", \"alreadi\", \"alreadi\", \"alreadi\", \"alreadi\", \"alreadi\", \"alreadi\", \"alreadi\", \"alreadi\", \"archbishop\", \"archi\", \"area\", \"area\", \"area\", \"area\", \"area\", \"area\", \"arguabl\", \"arm\", \"arm\", \"arm\", \"arm\", \"arm\", \"arm\", \"arrest\", \"arrest\", \"arrest_suspicion\", \"astrazeneca\", \"attack\", \"attack\", \"attack\", \"attack\", \"attorney\", \"australian\", \"australian\", \"austrian\", \"author\", \"author\", \"author\", \"author\", \"author\", \"author\", \"author\", \"ballot\", \"ban\", \"ban\", \"bank\", \"bank\", \"bank\", \"battl_wildfir_scorch_heat\", \"bear\", \"bear\", \"belaru\", \"belarusian\", \"belgian\", \"biden\", \"big\", \"big\", \"big\", \"big\", \"birthday\", \"blood_clot\", \"boat\", \"boat\", \"bomb\", \"bone\", \"book\", \"book\", \"booster\", \"border\", \"border\", \"border\", \"borrow\", \"boy\", \"brake\", \"brexit\", \"brother\", \"build\", \"build\", \"build\", \"build\", \"build\", \"build\", \"burn\", \"burn\", \"burn\", \"burn\", \"burst\", \"bushfir\", \"bushfir_rage\", \"buy\", \"buy\", \"buy\", \"buy\", \"buy\", \"buy\", \"buyer\", \"cabinet\", \"call\", \"call\", \"call\", \"call\", \"call\", \"call\", \"call\", \"calm\", \"camilla\", \"camilla_duchess_cornwal\", \"campaign\", \"campaign\", \"candid\", \"cannabi\", \"carbon\", \"care\", \"care\", \"care\", \"care\", \"care\", \"care\", \"case\", \"case\", \"case\", \"case\", \"cash\", \"cathol\", \"cell\", \"centerleft\", \"centr\", \"charg\", \"charg\", \"chat\", \"child\", \"child\", \"child\", \"child\", \"civilian\", \"claim\", \"claim\", \"claim\", \"claim\", \"claim\", \"cleric\", \"climat\", \"climat\", \"cloth\", \"coal\", \"coalit\", \"coalit\", \"coastal\", \"cocain\", \"collap\", \"collap\", \"collap\", \"collap\", \"come\", \"come\", \"come\", \"come\", \"come\", \"come\", \"come\", \"come\", \"comment\", \"comment\", \"comment\", \"comment\", \"complaint\", \"concern\", \"concern\", \"concern\", \"concern\", \"concern\", \"concern\", \"concern\", \"concern\", \"condit\", \"condit\", \"condit\", \"condit\", \"condit\", \"conflict\", \"conflict\", \"conflict\", \"conflict\", \"conserv\", \"conserv\", \"contin\", \"convict\", \"convoy\", \"cool\", \"cop\", \"cop\", \"coronaviru\", \"corridor\", \"cost\", \"cost\", \"cost\", \"cost\", \"cost\", \"countri\", \"countri\", \"countri\", \"countri\", \"countri\", \"court\", \"couzen\", \"covid\", \"crew\", \"crew\", \"crime\", \"crime\", \"crimin\", \"crisi\", \"crisi\", \"crisi\", \"crisi\", \"crisi\", \"critic\", \"critic\", \"critic\", \"critic\", \"critic\", \"cum\", \"custodi\", \"damag\", \"damag\", \"damag\", \"damag\", \"damag\", \"daughter\", \"day\", \"day\", \"day\", \"day\", \"day\", \"day\", \"day\", \"day\", \"deadli_flood\", \"deal\", \"deal\", \"deal\", \"deal\", \"deal\", \"deal\", \"death\", \"death\", \"death\", \"debri\", \"debt\", \"decemb_photo_bushfir\", \"deepli\", \"deescal\", \"defen_ministri\", \"deleg\", \"delight\", \"denmark\", \"denmark\", \"deploy\", \"deploy\", \"deploy\", \"deploy\", \"destroy\", \"destroy\", \"destroy\", \"detain\", \"detent\", \"deterr\", \"develop\", \"develop\", \"develop\", \"develop\", \"develop\", \"dialogu\", \"diplomat\", \"diplomat\", \"disappear\", \"discov\", \"discuss\", \"discuss\", \"discuss\", \"disea\", \"doctor\", \"doctor\", \"dog\", \"dollar\", \"dollar\", \"dose\", \"drone\", \"drought\", \"duchess\", \"duchess_cornwal\", \"duchess_sussex\", \"duke_duchess\", \"earn\", \"earn\", \"earn\", \"earthquak\", \"eastern\", \"eastern\", \"economi\", \"economi\", \"economi\", \"economi\", \"effect\", \"effect\", \"effect\", \"effect\", \"effect\", \"elect\", \"elector\", \"emiss\", \"end\", \"end\", \"end\", \"end\", \"end\", \"end\", \"end\", \"end\", \"end\", \"energi\", \"energi\", \"environment\", \"estat\", \"ethnic_minor\", \"euro\", \"europ\", \"europ\", \"europ\", \"european\", \"european\", \"european\", \"everard\", \"expen\", \"expen\", \"expen\", \"expen\", \"export\", \"extradit\", \"face\", \"face\", \"face\", \"face\", \"face\", \"face\", \"face\", \"face\", \"face\", \"famili\", \"famili\", \"famili\", \"farm\", \"farmer\", \"father\", \"feel\", \"feel\", \"feel\", \"fight\", \"fight\", \"fight\", \"fight\", \"fight\", \"fight\", \"fight\", \"file\", \"file\", \"film\", \"film\", \"financi\", \"financi\", \"financi\", \"find\", \"find\", \"find\", \"find\", \"fire\", \"fire\", \"fire\", \"fish\", \"flee\", \"flood\", \"flower\", \"follow\", \"follow\", \"follow\", \"follow\", \"follow\", \"follow\", \"follow\", \"follow\", \"food\", \"food\", \"food\", \"food\", \"food\", \"forc\", \"forc\", \"forc\", \"forc\", \"forc\", \"forc\", \"forc\", \"foreign_minist\", \"forest\", \"former\", \"former\", \"former\", \"former\", \"former\", \"fossil_fuel\", \"franc\", \"franc\", \"freedom\", \"freedom\", \"french\", \"french\", \"french\", \"friend\", \"front_line\", \"front_line\", \"front_line\", \"fund\", \"fund\", \"fund\", \"fund\", \"game\", \"game\", \"garden\", \"gender\", \"geopolit\", \"get\", \"get\", \"get\", \"get\", \"get\", \"get\", \"get\", \"gift\", \"girl\", \"girl\", \"giuffr\", \"give\", \"give\", \"give\", \"give\", \"give\", \"give\", \"give\", \"give\", \"glasgow\", \"global\", \"global\", \"global\", \"global\", \"go\", \"go\", \"go\", \"go\", \"go\", \"go\", \"go\", \"go\", \"govern\", \"govern\", \"govern\", \"govern\", \"govern\", \"group\", \"group\", \"group\", \"group\", \"group\", \"group\", \"group\", \"grow\", \"grow\", \"grow\", \"grow\", \"guest\", \"guest\", \"guilti\", \"gun\", \"gun\", \"harri\", \"health\", \"health\", \"healthcar_worker\", \"hear\", \"hear\", \"hear\", \"hear\", \"heart\", \"heart\", \"help\", \"help\", \"help\", \"help\", \"help\", \"help\", \"help\", \"help\", \"high\", \"high\", \"high\", \"high\", \"high\", \"high\", \"high\", \"high\", \"high\", \"hike\", \"hit\", \"hit\", \"hit\", \"hit\", \"hit\", \"hit\", \"hold\", \"hold\", \"hold\", \"hold\", \"hold\", \"hold\", \"home\", \"home\", \"home\", \"home\", \"honor\", \"honor\", \"honor\", \"hood\", \"hospit\", \"hospit\", \"hospit\", \"hospit\", \"hostag\", \"hot\", \"hot\", \"hot\", \"hous\", \"hous\", \"hous\", \"hous\", \"hous\", \"hous\", \"hous\", \"household\", \"household\", \"humanitarian\", \"hungri\", \"ice\", \"ice\", \"iceland\", \"imagin\", \"impact\", \"impact\", \"impact\", \"impact\", \"impact\", \"impact\", \"incid\", \"incid\", \"incid\", \"incid\", \"indigen\", \"indoor\", \"industri\", \"industri\", \"infect\", \"infecti\", \"inflat\", \"inner_circl\", \"innoc\", \"institut\", \"institut\", \"institut\", \"inten_care\", \"invas\", \"investig\", \"investor\", \"involv\", \"involv\", \"involv\", \"involv\", \"involv\", \"itali\", \"italian\", \"jail\", \"jewish\", \"job\", \"job\", \"job\", \"job\", \"job\", \"journalist\", \"journalist\", \"judg\", \"justic\", \"justic\", \"kharkiv\", \"kidnap\", \"kill\", \"kill\", \"kill\", \"kill\", \"kilomet\", \"kilomet\", \"kilomet\", \"king\", \"king\", \"king\", \"know\", \"know\", \"know\", \"know\", \"know\", \"know\", \"kyiv\", \"labour\", \"large\", \"large\", \"large\", \"large\", \"large\", \"large\", \"large\", \"large\", \"last\", \"last\", \"last\", \"last\", \"last\", \"last\", \"last\", \"last\", \"last\", \"launch_weekli_dispatch\", \"lava\", \"law\", \"law\", \"law\", \"lawsuit\", \"lawyer\", \"leader\", \"leader\", \"leader\", \"leader\", \"leave\", \"leave\", \"leave\", \"leave\", \"leave\", \"leave\", \"legal\", \"legal\", \"legisl\", \"legisl\", \"legisl\", \"less\", \"less\", \"less\", \"less\", \"less\", \"less\", \"less\", \"less\", \"letter\", \"letter\", \"letter\", \"level\", \"level\", \"level\", \"level\", \"level\", \"level\", \"life\", \"life\", \"line_throne\", \"live\", \"live\", \"live\", \"live\", \"loan\", \"local\", \"local\", \"local\", \"local\", \"local\", \"local\", \"local\", \"lockdown\", \"love\", \"macron\", \"major\", \"major\", \"major\", \"major\", \"major\", \"major\", \"major\", \"major\", \"make\", \"make\", \"make\", \"make\", \"make\", \"make\", \"make\", \"make\", \"make\", \"man\", \"man\", \"man\", \"man\", \"marinka\", \"mariupol\", \"market\", \"market\", \"market\", \"market\", \"mask\", \"maximum\", \"medic\", \"medic\", \"medic\", \"medic\", \"medium\", \"medium\", \"medium\", \"medium\", \"meet\", \"meet\", \"meet\", \"meet\", \"meet\", \"meet\", \"meghan\", \"member\", \"member\", \"member\", \"member\", \"member\", \"member\", \"metropolitan\", \"migrant\", \"militari\", \"minist\", \"minist\", \"minist\", \"ministri\", \"ministri\", \"modest\", \"monarch\", \"money\", \"money\", \"money\", \"money\", \"month\", \"month\", \"month\", \"month\", \"month\", \"month\", \"month\", \"month\", \"mother\", \"mp\", \"murder\", \"music\", \"mutat\", \"name\", \"name\", \"name\", \"name\", \"name\", \"nation\", \"nation\", \"nation\", \"nation\", \"nation\", \"nation\", \"nation\", \"nation\", \"nationalist\", \"never\", \"never\", \"never\", \"never\", \"never\", \"northeast\", \"norwegian\", \"novemb_photo_bushfir\", \"nsw\", \"nuclear\", \"nuclear\", \"number\", \"number\", \"number\", \"number\", \"number\", \"number\", \"number\", \"number\", \"number\", \"nur\", \"offic\", \"offic\", \"offic\", \"offic\", \"offic\", \"offic\", \"offic\", \"offic\", \"offici\", \"offici\", \"offici\", \"offici\", \"offici\", \"oil\", \"oil\", \"old\", \"old\", \"old\", \"old\", \"oppon\", \"organ\", \"organ\", \"organ\", \"organ\", \"organ\", \"outbreak\", \"owe\", \"packag\", \"packag\", \"packag\", \"packag\", \"pact\", \"palma\", \"parent\", \"parent\", \"parliament\", \"parliament\", \"parti\", \"parti\", \"patient\", \"pay\", \"pay\", \"pay\", \"pay\", \"pay\", \"pay\", \"pay\", \"payment\", \"peninsula\", \"pension\", \"peskov\", \"photo_bushfir_rage\", \"photo_bushfir_rage_australiaa\", \"plan\", \"plan\", \"plan\", \"plan\", \"plan\", \"plan\", \"plan\", \"plan\", \"plant\", \"plant\", \"plastic\", \"plead_guilti\", \"point\", \"point\", \"point\", \"point\", \"point\", \"point\", \"point\", \"point\", \"poison\", \"polic\", \"polic\", \"polish\", \"polit\", \"polit\", \"poll\", \"populist\", \"power\", \"power\", \"power\", \"power\", \"power\", \"prayer\", \"presid\", \"presid\", \"presid\", \"presid\", \"press\", \"press\", \"press\", \"press\", \"press_confer\", \"pretend\", \"price\", \"priest\", \"prime_minist\", \"princess\", \"prison\", \"prison\", \"probe\", \"product\", \"project\", \"project\", \"project\", \"project\", \"proof\", \"proper\", \"prosecut\", \"prosecutor\", \"protect\", \"protect\", \"protect\", \"protect\", \"protect\", \"protect\", \"protest\", \"protest\", \"protest\", \"public\", \"public\", \"public\", \"public\", \"public\", \"quarantin\", \"queen\", \"question\", \"question\", \"question\", \"question\", \"question\", \"question\", \"race\", \"race\", \"race\", \"race\", \"racism\", \"rage\", \"rage\", \"rage\", \"rage\", \"rage\", \"railway\", \"rain\", \"rape\", \"rate\", \"rate\", \"rate\", \"rate\", \"real_estat\", \"reelect\", \"referendum\", \"refuge\", \"region\", \"region\", \"region\", \"region\", \"relea\", \"relea\", \"relea\", \"relea\", \"relea\", \"reluct\", \"remain\", \"remain\", \"remain\", \"remain\", \"remain\", \"remain\", \"remain\", \"remain\", \"remain\", \"rememb\", \"rememb\", \"remembr\", \"renov\", \"rent\", \"reopen\", \"report\", \"report\", \"report\", \"report\", \"report\", \"report\", \"report\", \"rescu\", \"rescu\", \"rescu\", \"research\", \"research\", \"resid\", \"resid\", \"resid\", \"resid\", \"resid\", \"resid\", \"respon\", \"respon\", \"respon\", \"respon\", \"respon\", \"respon\", \"respon\", \"respon\", \"restrict\", \"restrict\", \"right\", \"right\", \"right\", \"right\", \"riot\", \"rise\", \"rise\", \"rise\", \"rise\", \"rise\", \"rise\", \"rise\", \"rise\", \"rollout\", \"rollout\", \"royal\", \"rule\", \"rule\", \"rule\", \"rule\", \"russian\", \"saidmoorhous\", \"sale\", \"sampl\", \"sanction\", \"say\", \"say\", \"say\", \"say\", \"say\", \"say\", \"say\", \"scandal\", \"school\", \"school\", \"school\", \"scotland\", \"scottish\", \"seat\", \"seat\", \"seat\", \"secret\", \"see\", \"see\", \"see\", \"see\", \"see\", \"see\", \"see\", \"see\", \"see\", \"seem\", \"seem\", \"seem\", \"seem\", \"seem\", \"seem\", \"sell\", \"sell\", \"sell\", \"senat\", \"sentenc\", \"separatist\", \"sever\", \"sever\", \"sever\", \"sever\", \"sever\", \"sever\", \"sever\", \"sever\", \"sexual_abus\", \"sexual_assault\", \"ship\", \"ship\", \"shipment\", \"shoot\", \"shoot\", \"shoot\", \"shoot\", \"show\", \"show\", \"show\", \"show\", \"show\", \"show\", \"show\", \"show\", \"sister\", \"sister\", \"sleep\", \"smoke\", \"snow\", \"soldier\", \"soviet\", \"spanish\", \"speaker\", \"speci\", \"spend\", \"spend\", \"spend\", \"spend\", \"spend\", \"spokesperson\", \"spokesperson\", \"spread\", \"spread\", \"spread\", \"stand\", \"stand\", \"stand\", \"stand\", \"stand\", \"stand\", \"stand\", \"stand\", \"start\", \"start\", \"start\", \"start\", \"start\", \"start\", \"start\", \"start\", \"state\", \"state\", \"state\", \"state\", \"state\", \"state\", \"state\", \"statement\", \"statement\", \"statement\", \"statement\", \"statement\", \"stori\", \"stori\", \"stori\", \"stori\", \"storm\", \"storm\", \"storm\", \"submarin\", \"support\", \"support\", \"support\", \"support\", \"support\", \"support\", \"support\", \"suspect\", \"suspect\", \"suspect\", \"sussex\", \"sweden\", \"sydney\", \"syrian\", \"system\", \"system\", \"system\", \"system\", \"system\", \"system\", \"system\", \"tabloid\", \"take\", \"take\", \"take\", \"take\", \"take\", \"take\", \"take\", \"take\", \"talk\", \"talk\", \"talk\", \"talk\", \"talk\", \"tax\", \"tax\", \"taxpay\", \"teacher\", \"team\", \"team\", \"team\", \"team\", \"team\", \"tear\", \"technolog\", \"tension\", \"term\", \"term\", \"term\", \"term\", \"test\", \"test\", \"think\", \"think\", \"threat\", \"threat\", \"threat\", \"threat\", \"throne\", \"tour\", \"town\", \"town\", \"town\", \"town\", \"trade\", \"tragic\", \"train_station\", \"tran\", \"transmiss\", \"tree\", \"tree\", \"trial\", \"trial\", \"troop\", \"trucker\", \"trump\", \"turkish\", \"ukrain\", \"ukrainea\", \"ukraineukrainian\", \"ukraineukrainian_soldier\", \"ukrainian\", \"uncertainti\", \"unit\", \"unit\", \"unit\", \"unit\", \"unit\", \"unit\", \"unvaccin\", \"use\", \"use\", \"use\", \"use\", \"use\", \"use\", \"vaccin\", \"variant\", \"vehicl\", \"vehicl\", \"vehicl\", \"vehicl\", \"verdict\", \"vessel\", \"victim\", \"victim\", \"victim\", \"victori\", \"victori\", \"victori\", \"video\", \"video\", \"video\", \"video\", \"video\", \"viru\", \"vote\", \"voter\", \"wage\", \"wage\", \"wale\", \"walk\", \"walk\", \"walk\", \"walk\", \"war\", \"war\", \"war\", \"warm\", \"warm\", \"warm\", \"warrant\", \"water\", \"water\", \"water\", \"water\", \"wave\", \"wave\", \"wave\", \"wave\", \"wave\", \"wave\", \"wear\", \"wear\", \"wear\", \"wear_mask\", \"weather\", \"week\", \"week\", \"week\", \"week\", \"week\", \"week\", \"week\", \"week\", \"week\", \"weekli\", \"weekli_dispatch_bring\", \"wellb\", \"western\", \"western\", \"western\", \"whale\", \"wildfir\", \"wildfir_rage\", \"win\", \"wind\", \"wind\", \"wind\", \"windsor\", \"woman\", \"woman\", \"woman\", \"woman\", \"wonder\", \"worker\", \"worker\", \"worker\", \"worker\", \"world\", \"world\", \"world\", \"world\", \"world\", \"year\", \"year\", \"year\", \"year\", \"year\", \"year\", \"year\", \"young\", \"young\"]}, \"R\": 30, \"lambda.step\": 0.01, \"plot.opts\": {\"xlab\": \"PC1\", \"ylab\": \"PC2\"}, \"topic.order\": [9, 4, 1, 3, 10, 8, 6, 5, 7, 2]};\n",
              "\n",
              "function LDAvis_load_lib(url, callback){\n",
              "  var s = document.createElement('script');\n",
              "  s.src = url;\n",
              "  s.async = true;\n",
              "  s.onreadystatechange = s.onload = callback;\n",
              "  s.onerror = function(){console.warn(\"failed to load library \" + url);};\n",
              "  document.getElementsByTagName(\"head\")[0].appendChild(s);\n",
              "}\n",
              "\n",
              "if(typeof(LDAvis) !== \"undefined\"){\n",
              "   // already loaded: just create the visualization\n",
              "   !function(LDAvis){\n",
              "       new LDAvis(\"#\" + \"ldavis_el1831342804572072808366468576\", ldavis_el1831342804572072808366468576_data);\n",
              "   }(LDAvis);\n",
              "}else if(typeof define === \"function\" && define.amd){\n",
              "   // require.js is available: use it to load d3/LDAvis\n",
              "   require.config({paths: {d3: \"https://d3js.org/d3.v5\"}});\n",
              "   require([\"d3\"], function(d3){\n",
              "      window.d3 = d3;\n",
              "      LDAvis_load_lib(\"https://cdn.jsdelivr.net/gh/bmabey/pyLDAvis@3.4.0/pyLDAvis/js/ldavis.v3.0.0.js\", function(){\n",
              "        new LDAvis(\"#\" + \"ldavis_el1831342804572072808366468576\", ldavis_el1831342804572072808366468576_data);\n",
              "      });\n",
              "    });\n",
              "}else{\n",
              "    // require.js not available: dynamically load d3 & LDAvis\n",
              "    LDAvis_load_lib(\"https://d3js.org/d3.v5.js\", function(){\n",
              "         LDAvis_load_lib(\"https://cdn.jsdelivr.net/gh/bmabey/pyLDAvis@3.4.0/pyLDAvis/js/ldavis.v3.0.0.js\", function(){\n",
              "                 new LDAvis(\"#\" + \"ldavis_el1831342804572072808366468576\", ldavis_el1831342804572072808366468576_data);\n",
              "            })\n",
              "         });\n",
              "}\n",
              "</script>"
            ]
          },
          "metadata": {},
          "execution_count": 41
        }
      ],
      "source": [
        "# Visualize the topics\n",
        "# Enable notebook mode\n",
        "pyLDAvis.enable_notebook()\n",
        "\n",
        "# Prepare the visualization data for BoW model\n",
        "lda_display_bow = pyLDAvis.gensim_models.prepare(lda_model_bow, corpus, id2word)\n",
        "\n",
        "print(\"\\nVisualizing BoW Model:\")\n",
        "pyLDAvis.display(lda_display_bow)"
      ]
    },
    {
      "cell_type": "code",
      "execution_count": 42,
      "id": "f8921550-9710-4620-bfc7-fd175c99c028",
      "metadata": {
        "collapsed": true,
        "id": "f8921550-9710-4620-bfc7-fd175c99c028",
        "colab": {
          "base_uri": "https://localhost:8080/",
          "height": 366
        },
        "outputId": "b27c49b3-7749-444d-a303-1e9fd9fa9aa2"
      },
      "outputs": [
        {
          "output_type": "stream",
          "name": "stdout",
          "text": [
            "\n",
            "Visualizing TF-IDF Model:\n"
          ]
        },
        {
          "output_type": "error",
          "ename": "TypeError",
          "evalue": "Object of type complex is not JSON serializable",
          "traceback": [
            "\u001b[0;31m---------------------------------------------------------------------------\u001b[0m",
            "\u001b[0;31mTypeError\u001b[0m                                 Traceback (most recent call last)",
            "\u001b[0;32m<ipython-input-42-835641ec2e95>\u001b[0m in \u001b[0;36m<cell line: 4>\u001b[0;34m()\u001b[0m\n\u001b[1;32m      2\u001b[0m \u001b[0mlda_display_tfidf\u001b[0m \u001b[0;34m=\u001b[0m \u001b[0mpyLDAvis\u001b[0m\u001b[0;34m.\u001b[0m\u001b[0mgensim_models\u001b[0m\u001b[0;34m.\u001b[0m\u001b[0mprepare\u001b[0m\u001b[0;34m(\u001b[0m\u001b[0mlda_model_tfidf\u001b[0m\u001b[0;34m,\u001b[0m \u001b[0mcorpus_tfidf\u001b[0m\u001b[0;34m,\u001b[0m \u001b[0mid2word\u001b[0m\u001b[0;34m)\u001b[0m\u001b[0;34m\u001b[0m\u001b[0;34m\u001b[0m\u001b[0m\n\u001b[1;32m      3\u001b[0m \u001b[0mprint\u001b[0m\u001b[0;34m(\u001b[0m\u001b[0;34m\"\\nVisualizing TF-IDF Model:\"\u001b[0m\u001b[0;34m)\u001b[0m\u001b[0;34m\u001b[0m\u001b[0;34m\u001b[0m\u001b[0m\n\u001b[0;32m----> 4\u001b[0;31m \u001b[0mpyLDAvis\u001b[0m\u001b[0;34m.\u001b[0m\u001b[0mdisplay\u001b[0m\u001b[0;34m(\u001b[0m\u001b[0mlda_display_tfidf\u001b[0m\u001b[0;34m)\u001b[0m\u001b[0;34m\u001b[0m\u001b[0;34m\u001b[0m\u001b[0m\n\u001b[0m",
            "\u001b[0;32m/usr/local/lib/python3.10/dist-packages/pyLDAvis/_display.py\u001b[0m in \u001b[0;36mdisplay\u001b[0;34m(data, local, **kwargs)\u001b[0m\n\u001b[1;32m    220\u001b[0m         \u001b[0mkwargs\u001b[0m\u001b[0;34m[\u001b[0m\u001b[0;34m'd3_url'\u001b[0m\u001b[0;34m]\u001b[0m\u001b[0;34m,\u001b[0m \u001b[0mkwargs\u001b[0m\u001b[0;34m[\u001b[0m\u001b[0;34m'ldavis_url'\u001b[0m\u001b[0;34m]\u001b[0m\u001b[0;34m,\u001b[0m \u001b[0mkwargs\u001b[0m\u001b[0;34m[\u001b[0m\u001b[0;34m'ldavis_css_url'\u001b[0m\u001b[0;34m]\u001b[0m \u001b[0;34m=\u001b[0m \u001b[0mwrite_ipynb_local_js\u001b[0m\u001b[0;34m(\u001b[0m\u001b[0;34m)\u001b[0m\u001b[0;34m\u001b[0m\u001b[0;34m\u001b[0m\u001b[0m\n\u001b[1;32m    221\u001b[0m \u001b[0;34m\u001b[0m\u001b[0m\n\u001b[0;32m--> 222\u001b[0;31m     \u001b[0;32mreturn\u001b[0m \u001b[0mHTML\u001b[0m\u001b[0;34m(\u001b[0m\u001b[0mprepared_data_to_html\u001b[0m\u001b[0;34m(\u001b[0m\u001b[0mdata\u001b[0m\u001b[0;34m,\u001b[0m \u001b[0;34m**\u001b[0m\u001b[0mkwargs\u001b[0m\u001b[0;34m)\u001b[0m\u001b[0;34m)\u001b[0m\u001b[0;34m\u001b[0m\u001b[0;34m\u001b[0m\u001b[0m\n\u001b[0m\u001b[1;32m    223\u001b[0m \u001b[0;34m\u001b[0m\u001b[0m\n\u001b[1;32m    224\u001b[0m \u001b[0;34m\u001b[0m\u001b[0m\n",
            "\u001b[0;32m/usr/local/lib/python3.10/dist-packages/pyLDAvis/_display.py\u001b[0m in \u001b[0;36mprepared_data_to_html\u001b[0;34m(data, d3_url, ldavis_url, ldavis_css_url, template_type, visid, use_http)\u001b[0m\n\u001b[1;32m    175\u001b[0m                            \u001b[0md3_url\u001b[0m\u001b[0;34m=\u001b[0m\u001b[0md3_url\u001b[0m\u001b[0;34m,\u001b[0m\u001b[0;34m\u001b[0m\u001b[0;34m\u001b[0m\u001b[0m\n\u001b[1;32m    176\u001b[0m                            \u001b[0mldavis_url\u001b[0m\u001b[0;34m=\u001b[0m\u001b[0mldavis_url\u001b[0m\u001b[0;34m,\u001b[0m\u001b[0;34m\u001b[0m\u001b[0;34m\u001b[0m\u001b[0m\n\u001b[0;32m--> 177\u001b[0;31m                            \u001b[0mvis_json\u001b[0m\u001b[0;34m=\u001b[0m\u001b[0mdata\u001b[0m\u001b[0;34m.\u001b[0m\u001b[0mto_json\u001b[0m\u001b[0;34m(\u001b[0m\u001b[0;34m)\u001b[0m\u001b[0;34m,\u001b[0m\u001b[0;34m\u001b[0m\u001b[0;34m\u001b[0m\u001b[0m\n\u001b[0m\u001b[1;32m    178\u001b[0m                            ldavis_css_url=ldavis_css_url)\n\u001b[1;32m    179\u001b[0m \u001b[0;34m\u001b[0m\u001b[0m\n",
            "\u001b[0;32m/usr/local/lib/python3.10/dist-packages/pyLDAvis/_prepare.py\u001b[0m in \u001b[0;36mto_json\u001b[0;34m(self)\u001b[0m\n\u001b[1;32m    462\u001b[0m \u001b[0;34m\u001b[0m\u001b[0m\n\u001b[1;32m    463\u001b[0m     \u001b[0;32mdef\u001b[0m \u001b[0mto_json\u001b[0m\u001b[0;34m(\u001b[0m\u001b[0mself\u001b[0m\u001b[0;34m)\u001b[0m\u001b[0;34m:\u001b[0m\u001b[0;34m\u001b[0m\u001b[0;34m\u001b[0m\u001b[0m\n\u001b[0;32m--> 464\u001b[0;31m         \u001b[0;32mreturn\u001b[0m \u001b[0mjson\u001b[0m\u001b[0;34m.\u001b[0m\u001b[0mdumps\u001b[0m\u001b[0;34m(\u001b[0m\u001b[0mself\u001b[0m\u001b[0;34m.\u001b[0m\u001b[0mto_dict\u001b[0m\u001b[0;34m(\u001b[0m\u001b[0;34m)\u001b[0m\u001b[0;34m,\u001b[0m \u001b[0mcls\u001b[0m\u001b[0;34m=\u001b[0m\u001b[0mNumPyEncoder\u001b[0m\u001b[0;34m)\u001b[0m\u001b[0;34m\u001b[0m\u001b[0;34m\u001b[0m\u001b[0m\n\u001b[0m",
            "\u001b[0;32m/usr/lib/python3.10/json/__init__.py\u001b[0m in \u001b[0;36mdumps\u001b[0;34m(obj, skipkeys, ensure_ascii, check_circular, allow_nan, cls, indent, separators, default, sort_keys, **kw)\u001b[0m\n\u001b[1;32m    236\u001b[0m         \u001b[0mcheck_circular\u001b[0m\u001b[0;34m=\u001b[0m\u001b[0mcheck_circular\u001b[0m\u001b[0;34m,\u001b[0m \u001b[0mallow_nan\u001b[0m\u001b[0;34m=\u001b[0m\u001b[0mallow_nan\u001b[0m\u001b[0;34m,\u001b[0m \u001b[0mindent\u001b[0m\u001b[0;34m=\u001b[0m\u001b[0mindent\u001b[0m\u001b[0;34m,\u001b[0m\u001b[0;34m\u001b[0m\u001b[0;34m\u001b[0m\u001b[0m\n\u001b[1;32m    237\u001b[0m         \u001b[0mseparators\u001b[0m\u001b[0;34m=\u001b[0m\u001b[0mseparators\u001b[0m\u001b[0;34m,\u001b[0m \u001b[0mdefault\u001b[0m\u001b[0;34m=\u001b[0m\u001b[0mdefault\u001b[0m\u001b[0;34m,\u001b[0m \u001b[0msort_keys\u001b[0m\u001b[0;34m=\u001b[0m\u001b[0msort_keys\u001b[0m\u001b[0;34m,\u001b[0m\u001b[0;34m\u001b[0m\u001b[0;34m\u001b[0m\u001b[0m\n\u001b[0;32m--> 238\u001b[0;31m         **kw).encode(obj)\n\u001b[0m\u001b[1;32m    239\u001b[0m \u001b[0;34m\u001b[0m\u001b[0m\n\u001b[1;32m    240\u001b[0m \u001b[0;34m\u001b[0m\u001b[0m\n",
            "\u001b[0;32m/usr/lib/python3.10/json/encoder.py\u001b[0m in \u001b[0;36mencode\u001b[0;34m(self, o)\u001b[0m\n\u001b[1;32m    197\u001b[0m         \u001b[0;31m# exceptions aren't as detailed.  The list call should be roughly\u001b[0m\u001b[0;34m\u001b[0m\u001b[0;34m\u001b[0m\u001b[0m\n\u001b[1;32m    198\u001b[0m         \u001b[0;31m# equivalent to the PySequence_Fast that ''.join() would do.\u001b[0m\u001b[0;34m\u001b[0m\u001b[0;34m\u001b[0m\u001b[0m\n\u001b[0;32m--> 199\u001b[0;31m         \u001b[0mchunks\u001b[0m \u001b[0;34m=\u001b[0m \u001b[0mself\u001b[0m\u001b[0;34m.\u001b[0m\u001b[0miterencode\u001b[0m\u001b[0;34m(\u001b[0m\u001b[0mo\u001b[0m\u001b[0;34m,\u001b[0m \u001b[0m_one_shot\u001b[0m\u001b[0;34m=\u001b[0m\u001b[0;32mTrue\u001b[0m\u001b[0;34m)\u001b[0m\u001b[0;34m\u001b[0m\u001b[0;34m\u001b[0m\u001b[0m\n\u001b[0m\u001b[1;32m    200\u001b[0m         \u001b[0;32mif\u001b[0m \u001b[0;32mnot\u001b[0m \u001b[0misinstance\u001b[0m\u001b[0;34m(\u001b[0m\u001b[0mchunks\u001b[0m\u001b[0;34m,\u001b[0m \u001b[0;34m(\u001b[0m\u001b[0mlist\u001b[0m\u001b[0;34m,\u001b[0m \u001b[0mtuple\u001b[0m\u001b[0;34m)\u001b[0m\u001b[0;34m)\u001b[0m\u001b[0;34m:\u001b[0m\u001b[0;34m\u001b[0m\u001b[0;34m\u001b[0m\u001b[0m\n\u001b[1;32m    201\u001b[0m             \u001b[0mchunks\u001b[0m \u001b[0;34m=\u001b[0m \u001b[0mlist\u001b[0m\u001b[0;34m(\u001b[0m\u001b[0mchunks\u001b[0m\u001b[0;34m)\u001b[0m\u001b[0;34m\u001b[0m\u001b[0;34m\u001b[0m\u001b[0m\n",
            "\u001b[0;32m/usr/lib/python3.10/json/encoder.py\u001b[0m in \u001b[0;36miterencode\u001b[0;34m(self, o, _one_shot)\u001b[0m\n\u001b[1;32m    255\u001b[0m                 \u001b[0mself\u001b[0m\u001b[0;34m.\u001b[0m\u001b[0mkey_separator\u001b[0m\u001b[0;34m,\u001b[0m \u001b[0mself\u001b[0m\u001b[0;34m.\u001b[0m\u001b[0mitem_separator\u001b[0m\u001b[0;34m,\u001b[0m \u001b[0mself\u001b[0m\u001b[0;34m.\u001b[0m\u001b[0msort_keys\u001b[0m\u001b[0;34m,\u001b[0m\u001b[0;34m\u001b[0m\u001b[0;34m\u001b[0m\u001b[0m\n\u001b[1;32m    256\u001b[0m                 self.skipkeys, _one_shot)\n\u001b[0;32m--> 257\u001b[0;31m         \u001b[0;32mreturn\u001b[0m \u001b[0m_iterencode\u001b[0m\u001b[0;34m(\u001b[0m\u001b[0mo\u001b[0m\u001b[0;34m,\u001b[0m \u001b[0;36m0\u001b[0m\u001b[0;34m)\u001b[0m\u001b[0;34m\u001b[0m\u001b[0;34m\u001b[0m\u001b[0m\n\u001b[0m\u001b[1;32m    258\u001b[0m \u001b[0;34m\u001b[0m\u001b[0m\n\u001b[1;32m    259\u001b[0m def _make_iterencode(markers, _default, _encoder, _indent, _floatstr,\n",
            "\u001b[0;32m/usr/local/lib/python3.10/dist-packages/pyLDAvis/utils.py\u001b[0m in \u001b[0;36mdefault\u001b[0;34m(self, obj)\u001b[0m\n\u001b[1;32m    148\u001b[0m         \u001b[0;32mif\u001b[0m \u001b[0misinstance\u001b[0m\u001b[0;34m(\u001b[0m\u001b[0mobj\u001b[0m\u001b[0;34m,\u001b[0m \u001b[0mnp\u001b[0m\u001b[0;34m.\u001b[0m\u001b[0mfloat64\u001b[0m\u001b[0;34m)\u001b[0m \u001b[0;32mor\u001b[0m \u001b[0misinstance\u001b[0m\u001b[0;34m(\u001b[0m\u001b[0mobj\u001b[0m\u001b[0;34m,\u001b[0m \u001b[0mnp\u001b[0m\u001b[0;34m.\u001b[0m\u001b[0mfloat32\u001b[0m\u001b[0;34m)\u001b[0m\u001b[0;34m:\u001b[0m\u001b[0;34m\u001b[0m\u001b[0;34m\u001b[0m\u001b[0m\n\u001b[1;32m    149\u001b[0m             \u001b[0;32mreturn\u001b[0m \u001b[0mfloat\u001b[0m\u001b[0;34m(\u001b[0m\u001b[0mobj\u001b[0m\u001b[0;34m)\u001b[0m\u001b[0;34m\u001b[0m\u001b[0;34m\u001b[0m\u001b[0m\n\u001b[0;32m--> 150\u001b[0;31m         \u001b[0;32mreturn\u001b[0m \u001b[0mjson\u001b[0m\u001b[0;34m.\u001b[0m\u001b[0mJSONEncoder\u001b[0m\u001b[0;34m.\u001b[0m\u001b[0mdefault\u001b[0m\u001b[0;34m(\u001b[0m\u001b[0mself\u001b[0m\u001b[0;34m,\u001b[0m \u001b[0mobj\u001b[0m\u001b[0;34m)\u001b[0m\u001b[0;34m\u001b[0m\u001b[0;34m\u001b[0m\u001b[0m\n\u001b[0m",
            "\u001b[0;32m/usr/lib/python3.10/json/encoder.py\u001b[0m in \u001b[0;36mdefault\u001b[0;34m(self, o)\u001b[0m\n\u001b[1;32m    177\u001b[0m \u001b[0;34m\u001b[0m\u001b[0m\n\u001b[1;32m    178\u001b[0m         \"\"\"\n\u001b[0;32m--> 179\u001b[0;31m         raise TypeError(f'Object of type {o.__class__.__name__} '\n\u001b[0m\u001b[1;32m    180\u001b[0m                         f'is not JSON serializable')\n\u001b[1;32m    181\u001b[0m \u001b[0;34m\u001b[0m\u001b[0m\n",
            "\u001b[0;31mTypeError\u001b[0m: Object of type complex is not JSON serializable"
          ]
        }
      ],
      "source": [
        "# Prepare the visualization data for TF-IDF model\n",
        "lda_display_tfidf = pyLDAvis.gensim_models.prepare(lda_model_tfidf, corpus_tfidf, id2word)\n",
        "print(\"\\nVisualizing TF-IDF Model:\")\n",
        "pyLDAvis.display(lda_display_tfidf)"
      ]
    },
    {
      "cell_type": "markdown",
      "id": "1tQ1nINaIazZ",
      "metadata": {
        "id": "1tQ1nINaIazZ"
      },
      "source": [
        "Futher Removing Low Value Words"
      ]
    },
    {
      "cell_type": "code",
      "execution_count": null,
      "id": "ab83e4bb-9673-44f2-9be8-b8f40048d9bb",
      "metadata": {
        "id": "ab83e4bb-9673-44f2-9be8-b8f40048d9bb"
      },
      "outputs": [],
      "source": [
        "tfidf = TfidfModel(corpus, id2word=id2word)\n",
        "\n",
        "low_value = 0.05\n",
        "words = []\n",
        "words_missing_in_tfidf = []\n",
        "for i in range(0, len(corpus)):\n",
        "  bow = corpus[i]\n",
        "  low_value_words = []\n",
        "  tfidf_ids = [id for id, value in tfidf[bow]]\n",
        "  bow_ids = [id for id, value in tfidf[bow]]\n",
        "  low_value_words = [id for id, value in tfidf[bow] if value < low_value]\n",
        "  drops = low_value_words+words_missing_in_tfidf\n",
        "  for items in drops:\n",
        "    words.append(id2word[items])\n",
        "  word_missing_in_tfidf = [id for id in bow_ids if id not in tfidf_ids]\n",
        "  new_bow = [b for b in bow if b[0] not in low_value_words and b[0] not in word_missing_in_tfidf]\n",
        "  corpus[i] = new_bow"
      ]
    },
    {
      "cell_type": "markdown",
      "id": "IfKx4ZMFIum7",
      "metadata": {
        "id": "IfKx4ZMFIum7"
      },
      "source": [
        "Using BoW"
      ]
    },
    {
      "cell_type": "code",
      "execution_count": null,
      "id": "5bHhLSgIIxne",
      "metadata": {
        "id": "5bHhLSgIIxne"
      },
      "outputs": [],
      "source": [
        "# Build LDA model\n",
        "lda_model = LdaModel(corpus=corpus,\n",
        "                     id2word=id2word,\n",
        "                     num_topics= 10,\n",
        "                     random_state=100,\n",
        "                     update_every=1,\n",
        "                     chunksize=100,\n",
        "                     passes=10,\n",
        "                     alpha='auto',\n",
        "                     eta= 'auto')"
      ]
    },
    {
      "cell_type": "code",
      "execution_count": null,
      "id": "Q0M-9xfehH7Z",
      "metadata": {
        "id": "Q0M-9xfehH7Z"
      },
      "outputs": [],
      "source": [
        "# Calculate coherence for BoW model\n",
        "coherence_model = CoherenceModel(model=lda_model, texts=texts, dictionary=id2word, coherence='c_v')\n",
        "coherence = coherence_model.get_coherence()\n",
        "\n",
        "print(f'\\nCoherence Score: {coherence}')"
      ]
    },
    {
      "cell_type": "code",
      "execution_count": null,
      "id": "JpRrL9bohTVX",
      "metadata": {
        "id": "JpRrL9bohTVX"
      },
      "outputs": [],
      "source": [
        "# Calculate perplexity for TF-IDF model\n",
        "perplexity = lda_model.log_perplexity(corpus)\n",
        "\n",
        "print(f'Perplexity: {perplexity}')"
      ]
    },
    {
      "cell_type": "code",
      "execution_count": null,
      "id": "Z2BBSSbTJi77",
      "metadata": {
        "id": "Z2BBSSbTJi77"
      },
      "outputs": [],
      "source": [
        "# Visualize the topics\n",
        "# Enable notebook mode\n",
        "pyLDAvis.enable_notebook()\n",
        "\n",
        "# Prepare the visualization data for BoW model\n",
        "lda_model = pyLDAvis.gensim_models.prepare(lda_model, corpus, id2word)\n",
        "\n",
        "print(\"\\nVisualizing BoW Model:\")\n",
        "pyLDAvis.display(lda_model)"
      ]
    }
  ],
  "metadata": {
    "colab": {
      "collapsed_sections": [
        "4LEUyxNayJaN",
        "wE_R72QsxNDF",
        "yvS0uxRPxCpv",
        "x_DNh6cHz3yc",
        "uep3jpwRyuIb",
        "inPAN3gUy9CB"
      ],
      "provenance": [],
      "include_colab_link": true
    },
    "kernelspec": {
      "display_name": "Python 3 (ipykernel)",
      "language": "python",
      "name": "python3"
    },
    "language_info": {
      "codemirror_mode": {
        "name": "ipython",
        "version": 3
      },
      "file_extension": ".py",
      "mimetype": "text/x-python",
      "name": "python",
      "nbconvert_exporter": "python",
      "pygments_lexer": "ipython3",
      "version": "3.11.7"
    }
  },
  "nbformat": 4,
  "nbformat_minor": 5
}